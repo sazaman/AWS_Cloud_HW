{
 "cells": [
  {
   "cell_type": "markdown",
   "metadata": {},
   "source": [
    "# Clustering Crypto"
   ]
  },
  {
   "cell_type": "code",
   "execution_count": 40,
   "metadata": {},
   "outputs": [],
   "source": [
    "# Initial imports\n",
    "import requests\n",
    "import pandas as pd\n",
    "from pathlib import Path\n",
    "import matplotlib.pyplot as plt\n",
    "import hvplot.pandas\n",
    "import plotly.express as px\n",
    "from sklearn.preprocessing import StandardScaler, MinMaxScaler\n",
    "from sklearn.decomposition import PCA\n",
    "from sklearn.cluster import KMeans"
   ]
  },
  {
   "cell_type": "markdown",
   "metadata": {},
   "source": [
    "### Fetching Cryptocurrency Data"
   ]
  },
  {
   "cell_type": "code",
   "execution_count": 41,
   "metadata": {},
   "outputs": [],
   "source": [
    "# Use the following endpoint to fetch json data\n",
    "# url = \"https://min-api.cryptocompare.com/data/all/coinlist\""
   ]
  },
  {
   "cell_type": "code",
   "execution_count": 42,
   "metadata": {},
   "outputs": [],
   "source": [
    "# Create a DataFrame \n",
    "# HINT: You will need to use the 'Data' key from the json response, then transpose the DataFrame."
   ]
  },
  {
   "cell_type": "code",
   "execution_count": 43,
   "metadata": {},
   "outputs": [
    {
     "data": {
      "text/html": [
       "<div>\n",
       "<style scoped>\n",
       "    .dataframe tbody tr th:only-of-type {\n",
       "        vertical-align: middle;\n",
       "    }\n",
       "\n",
       "    .dataframe tbody tr th {\n",
       "        vertical-align: top;\n",
       "    }\n",
       "\n",
       "    .dataframe thead th {\n",
       "        text-align: right;\n",
       "    }\n",
       "</style>\n",
       "<table border=\"1\" class=\"dataframe\">\n",
       "  <thead>\n",
       "    <tr style=\"text-align: right;\">\n",
       "      <th></th>\n",
       "      <th>CoinName</th>\n",
       "      <th>Algorithm</th>\n",
       "      <th>IsTrading</th>\n",
       "      <th>ProofType</th>\n",
       "      <th>TotalCoinsMined</th>\n",
       "      <th>TotalCoinSupply</th>\n",
       "    </tr>\n",
       "  </thead>\n",
       "  <tbody>\n",
       "    <tr>\n",
       "      <th>42</th>\n",
       "      <td>42 Coin</td>\n",
       "      <td>Scrypt</td>\n",
       "      <td>True</td>\n",
       "      <td>PoW/PoS</td>\n",
       "      <td>4.199995e+01</td>\n",
       "      <td>42</td>\n",
       "    </tr>\n",
       "    <tr>\n",
       "      <th>365</th>\n",
       "      <td>365Coin</td>\n",
       "      <td>X11</td>\n",
       "      <td>True</td>\n",
       "      <td>PoW/PoS</td>\n",
       "      <td>NaN</td>\n",
       "      <td>2300000000</td>\n",
       "    </tr>\n",
       "    <tr>\n",
       "      <th>404</th>\n",
       "      <td>404Coin</td>\n",
       "      <td>Scrypt</td>\n",
       "      <td>True</td>\n",
       "      <td>PoW/PoS</td>\n",
       "      <td>1.055185e+09</td>\n",
       "      <td>532000000</td>\n",
       "    </tr>\n",
       "    <tr>\n",
       "      <th>611</th>\n",
       "      <td>SixEleven</td>\n",
       "      <td>SHA-256</td>\n",
       "      <td>True</td>\n",
       "      <td>PoW</td>\n",
       "      <td>NaN</td>\n",
       "      <td>611000</td>\n",
       "    </tr>\n",
       "    <tr>\n",
       "      <th>808</th>\n",
       "      <td>808</td>\n",
       "      <td>SHA-256</td>\n",
       "      <td>True</td>\n",
       "      <td>PoW/PoS</td>\n",
       "      <td>0.000000e+00</td>\n",
       "      <td>0</td>\n",
       "    </tr>\n",
       "  </tbody>\n",
       "</table>\n",
       "</div>"
      ],
      "text/plain": [
       "      CoinName Algorithm  IsTrading ProofType  TotalCoinsMined TotalCoinSupply\n",
       "42     42 Coin    Scrypt       True   PoW/PoS     4.199995e+01              42\n",
       "365    365Coin       X11       True   PoW/PoS              NaN      2300000000\n",
       "404    404Coin    Scrypt       True   PoW/PoS     1.055185e+09       532000000\n",
       "611  SixEleven   SHA-256       True       PoW              NaN          611000\n",
       "808        808   SHA-256       True   PoW/PoS     0.000000e+00               0"
      ]
     },
     "execution_count": 43,
     "metadata": {},
     "output_type": "execute_result"
    }
   ],
   "source": [
    "# Alternatively, use the provided csv file:\n",
    "# file_path = Path(\"Resources/crypto_data.csv\")\n",
    "file_path = Path(\"Data/crypto_data.csv\")\n",
    "# Create a DataFrame\n",
    "crypto_df = pd.read_csv(file_path, index_col=0)\n",
    "crypto_df.head()"
   ]
  },
  {
   "cell_type": "markdown",
   "metadata": {},
   "source": [
    "### Data Preprocessing"
   ]
  },
  {
   "cell_type": "code",
   "execution_count": 44,
   "metadata": {},
   "outputs": [
    {
     "data": {
      "text/html": [
       "<div>\n",
       "<style scoped>\n",
       "    .dataframe tbody tr th:only-of-type {\n",
       "        vertical-align: middle;\n",
       "    }\n",
       "\n",
       "    .dataframe tbody tr th {\n",
       "        vertical-align: top;\n",
       "    }\n",
       "\n",
       "    .dataframe thead th {\n",
       "        text-align: right;\n",
       "    }\n",
       "</style>\n",
       "<table border=\"1\" class=\"dataframe\">\n",
       "  <thead>\n",
       "    <tr style=\"text-align: right;\">\n",
       "      <th></th>\n",
       "      <th>CoinName</th>\n",
       "      <th>Algorithm</th>\n",
       "      <th>IsTrading</th>\n",
       "      <th>ProofType</th>\n",
       "      <th>TotalCoinsMined</th>\n",
       "      <th>TotalCoinSupply</th>\n",
       "    </tr>\n",
       "  </thead>\n",
       "  <tbody>\n",
       "    <tr>\n",
       "      <th>42</th>\n",
       "      <td>42 Coin</td>\n",
       "      <td>Scrypt</td>\n",
       "      <td>True</td>\n",
       "      <td>PoW/PoS</td>\n",
       "      <td>4.199995e+01</td>\n",
       "      <td>42</td>\n",
       "    </tr>\n",
       "    <tr>\n",
       "      <th>365</th>\n",
       "      <td>365Coin</td>\n",
       "      <td>X11</td>\n",
       "      <td>True</td>\n",
       "      <td>PoW/PoS</td>\n",
       "      <td>NaN</td>\n",
       "      <td>2300000000</td>\n",
       "    </tr>\n",
       "    <tr>\n",
       "      <th>404</th>\n",
       "      <td>404Coin</td>\n",
       "      <td>Scrypt</td>\n",
       "      <td>True</td>\n",
       "      <td>PoW/PoS</td>\n",
       "      <td>1.055185e+09</td>\n",
       "      <td>532000000</td>\n",
       "    </tr>\n",
       "    <tr>\n",
       "      <th>611</th>\n",
       "      <td>SixEleven</td>\n",
       "      <td>SHA-256</td>\n",
       "      <td>True</td>\n",
       "      <td>PoW</td>\n",
       "      <td>NaN</td>\n",
       "      <td>611000</td>\n",
       "    </tr>\n",
       "    <tr>\n",
       "      <th>808</th>\n",
       "      <td>808</td>\n",
       "      <td>SHA-256</td>\n",
       "      <td>True</td>\n",
       "      <td>PoW/PoS</td>\n",
       "      <td>0.000000e+00</td>\n",
       "      <td>0</td>\n",
       "    </tr>\n",
       "  </tbody>\n",
       "</table>\n",
       "</div>"
      ],
      "text/plain": [
       "      CoinName Algorithm  IsTrading ProofType  TotalCoinsMined TotalCoinSupply\n",
       "42     42 Coin    Scrypt       True   PoW/PoS     4.199995e+01              42\n",
       "365    365Coin       X11       True   PoW/PoS              NaN      2300000000\n",
       "404    404Coin    Scrypt       True   PoW/PoS     1.055185e+09       532000000\n",
       "611  SixEleven   SHA-256       True       PoW              NaN          611000\n",
       "808        808   SHA-256       True   PoW/PoS     0.000000e+00               0"
      ]
     },
     "execution_count": 44,
     "metadata": {},
     "output_type": "execute_result"
    }
   ],
   "source": [
    "# Keep only necessary columns:\n",
    "# 'CoinName','Algorithm','IsTrading','ProofType','TotalCoinsMined','TotalCoinSupply'\n",
    "crypto_df = crypto_df[['CoinName',\n",
    "           'Algorithm',\n",
    "           'IsTrading',\n",
    "           'ProofType',\n",
    "           'TotalCoinsMined',\n",
    "           'TotalCoinSupply']]\n",
    "crypto_df.head()"
   ]
  },
  {
   "cell_type": "code",
   "execution_count": 45,
   "metadata": {},
   "outputs": [],
   "source": [
    "# Keep only cryptocurrencies that are trading\n",
    "crypto_df = crypto_df.loc[crypto_df['IsTrading'] == True]"
   ]
  },
  {
   "cell_type": "code",
   "execution_count": 46,
   "metadata": {},
   "outputs": [],
   "source": [
    "# Keep only cryptocurrencies with a working algorithm\n",
    "crypto_df = crypto_df.loc[crypto_df[\"Algorithm\"] != \"N/A\"]"
   ]
  },
  {
   "cell_type": "code",
   "execution_count": 47,
   "metadata": {},
   "outputs": [],
   "source": [
    "# Remove the \"IsTrading\" column\n",
    "crypto_df = crypto_df.drop(columns = \"IsTrading\")"
   ]
  },
  {
   "cell_type": "code",
   "execution_count": 48,
   "metadata": {},
   "outputs": [
    {
     "data": {
      "text/plain": [
       "CoinName           0\n",
       "Algorithm          0\n",
       "ProofType          0\n",
       "TotalCoinsMined    0\n",
       "TotalCoinSupply    0\n",
       "dtype: int64"
      ]
     },
     "execution_count": 48,
     "metadata": {},
     "output_type": "execute_result"
    }
   ],
   "source": [
    "# Remove rows with at least 1 null value\n",
    "crypto_df = crypto_df.dropna()\n",
    "crypto_df.isnull().sum()"
   ]
  },
  {
   "cell_type": "code",
   "execution_count": 49,
   "metadata": {},
   "outputs": [],
   "source": [
    "# Remove rows with cryptocurrencies having no coins mined\n",
    "crypto_df = crypto_df.loc[crypto_df[\"TotalCoinsMined\"] != 0]"
   ]
  },
  {
   "cell_type": "code",
   "execution_count": 50,
   "metadata": {},
   "outputs": [],
   "source": [
    "# Drop rows where there are 'N/A' text values\n",
    "crypto_df = crypto_df.loc[crypto_df[\"TotalCoinSupply\"] != 'N/A']\n",
    "crypto_df = crypto_df.loc[crypto_df[\"ProofType\"] != 'N/A']"
   ]
  },
  {
   "cell_type": "code",
   "execution_count": 51,
   "metadata": {},
   "outputs": [],
   "source": [
    "# Store the 'CoinName'column in its own DataFrame prior to dropping it from crypto_df\n",
    "coins_name = pd.DataFrame(crypto_df[\"CoinName\"], index=crypto_df.index)"
   ]
  },
  {
   "cell_type": "code",
   "execution_count": 52,
   "metadata": {},
   "outputs": [
    {
     "data": {
      "text/html": [
       "<div>\n",
       "<style scoped>\n",
       "    .dataframe tbody tr th:only-of-type {\n",
       "        vertical-align: middle;\n",
       "    }\n",
       "\n",
       "    .dataframe tbody tr th {\n",
       "        vertical-align: top;\n",
       "    }\n",
       "\n",
       "    .dataframe thead th {\n",
       "        text-align: right;\n",
       "    }\n",
       "</style>\n",
       "<table border=\"1\" class=\"dataframe\">\n",
       "  <thead>\n",
       "    <tr style=\"text-align: right;\">\n",
       "      <th></th>\n",
       "      <th>Algorithm</th>\n",
       "      <th>ProofType</th>\n",
       "      <th>TotalCoinsMined</th>\n",
       "      <th>TotalCoinSupply</th>\n",
       "    </tr>\n",
       "  </thead>\n",
       "  <tbody>\n",
       "    <tr>\n",
       "      <th>42</th>\n",
       "      <td>Scrypt</td>\n",
       "      <td>PoW/PoS</td>\n",
       "      <td>4.199995e+01</td>\n",
       "      <td>42</td>\n",
       "    </tr>\n",
       "    <tr>\n",
       "      <th>404</th>\n",
       "      <td>Scrypt</td>\n",
       "      <td>PoW/PoS</td>\n",
       "      <td>1.055185e+09</td>\n",
       "      <td>532000000</td>\n",
       "    </tr>\n",
       "    <tr>\n",
       "      <th>1337</th>\n",
       "      <td>X13</td>\n",
       "      <td>PoW/PoS</td>\n",
       "      <td>2.927942e+10</td>\n",
       "      <td>314159265359</td>\n",
       "    </tr>\n",
       "    <tr>\n",
       "      <th>BTC</th>\n",
       "      <td>SHA-256</td>\n",
       "      <td>PoW</td>\n",
       "      <td>1.792718e+07</td>\n",
       "      <td>21000000</td>\n",
       "    </tr>\n",
       "    <tr>\n",
       "      <th>ETH</th>\n",
       "      <td>Ethash</td>\n",
       "      <td>PoW</td>\n",
       "      <td>1.076842e+08</td>\n",
       "      <td>0</td>\n",
       "    </tr>\n",
       "    <tr>\n",
       "      <th>LTC</th>\n",
       "      <td>Scrypt</td>\n",
       "      <td>PoW</td>\n",
       "      <td>6.303924e+07</td>\n",
       "      <td>84000000</td>\n",
       "    </tr>\n",
       "    <tr>\n",
       "      <th>DASH</th>\n",
       "      <td>X11</td>\n",
       "      <td>PoW/PoS</td>\n",
       "      <td>9.031294e+06</td>\n",
       "      <td>22000000</td>\n",
       "    </tr>\n",
       "    <tr>\n",
       "      <th>XMR</th>\n",
       "      <td>CryptoNight-V7</td>\n",
       "      <td>PoW</td>\n",
       "      <td>1.720114e+07</td>\n",
       "      <td>0</td>\n",
       "    </tr>\n",
       "    <tr>\n",
       "      <th>ETC</th>\n",
       "      <td>Ethash</td>\n",
       "      <td>PoW</td>\n",
       "      <td>1.133597e+08</td>\n",
       "      <td>210000000</td>\n",
       "    </tr>\n",
       "    <tr>\n",
       "      <th>ZEC</th>\n",
       "      <td>Equihash</td>\n",
       "      <td>PoW</td>\n",
       "      <td>7.383056e+06</td>\n",
       "      <td>21000000</td>\n",
       "    </tr>\n",
       "  </tbody>\n",
       "</table>\n",
       "</div>"
      ],
      "text/plain": [
       "           Algorithm ProofType  TotalCoinsMined TotalCoinSupply\n",
       "42            Scrypt   PoW/PoS     4.199995e+01              42\n",
       "404           Scrypt   PoW/PoS     1.055185e+09       532000000\n",
       "1337             X13   PoW/PoS     2.927942e+10    314159265359\n",
       "BTC          SHA-256       PoW     1.792718e+07        21000000\n",
       "ETH           Ethash       PoW     1.076842e+08               0\n",
       "LTC           Scrypt       PoW     6.303924e+07        84000000\n",
       "DASH             X11   PoW/PoS     9.031294e+06        22000000\n",
       "XMR   CryptoNight-V7       PoW     1.720114e+07               0\n",
       "ETC           Ethash       PoW     1.133597e+08       210000000\n",
       "ZEC         Equihash       PoW     7.383056e+06        21000000"
      ]
     },
     "execution_count": 52,
     "metadata": {},
     "output_type": "execute_result"
    }
   ],
   "source": [
    "# Drop the 'CoinName' column since it's not going to be used on the clustering algorithm\n",
    "crypto_df = crypto_df.drop(columns = \"CoinName\")\n",
    "crypto_df.head(10)"
   ]
  },
  {
   "cell_type": "code",
   "execution_count": 53,
   "metadata": {},
   "outputs": [],
   "source": [
    "# Create dummy variables for text features        \n",
    "X = pd.get_dummies(crypto_df, columns=['Algorithm', 'ProofType'], drop_first=True)"
   ]
  },
  {
   "cell_type": "code",
   "execution_count": 54,
   "metadata": {},
   "outputs": [],
   "source": [
    "# Standardize data\n",
    "X = StandardScaler().fit_transform(X)"
   ]
  },
  {
   "cell_type": "markdown",
   "metadata": {},
   "source": [
    "### Reducing Dimensions Using PCA"
   ]
  },
  {
   "cell_type": "code",
   "execution_count": 55,
   "metadata": {},
   "outputs": [],
   "source": [
    "# Use PCA to reduce dimensions to 3 principal components\n",
    "pca = PCA(n_components=3)\n",
    "crypto_pca = pca.fit_transform(X)"
   ]
  },
  {
   "cell_type": "code",
   "execution_count": 56,
   "metadata": {},
   "outputs": [
    {
     "data": {
      "text/html": [
       "<div>\n",
       "<style scoped>\n",
       "    .dataframe tbody tr th:only-of-type {\n",
       "        vertical-align: middle;\n",
       "    }\n",
       "\n",
       "    .dataframe tbody tr th {\n",
       "        vertical-align: top;\n",
       "    }\n",
       "\n",
       "    .dataframe thead th {\n",
       "        text-align: right;\n",
       "    }\n",
       "</style>\n",
       "<table border=\"1\" class=\"dataframe\">\n",
       "  <thead>\n",
       "    <tr style=\"text-align: right;\">\n",
       "      <th></th>\n",
       "      <th>PC 1</th>\n",
       "      <th>PC 2</th>\n",
       "      <th>PC 3</th>\n",
       "    </tr>\n",
       "  </thead>\n",
       "  <tbody>\n",
       "    <tr>\n",
       "      <th>42</th>\n",
       "      <td>-0.337050</td>\n",
       "      <td>0.992398</td>\n",
       "      <td>-0.602111</td>\n",
       "    </tr>\n",
       "    <tr>\n",
       "      <th>404</th>\n",
       "      <td>-0.320353</td>\n",
       "      <td>0.992587</td>\n",
       "      <td>-0.602591</td>\n",
       "    </tr>\n",
       "    <tr>\n",
       "      <th>1337</th>\n",
       "      <td>2.288725</td>\n",
       "      <td>1.599991</td>\n",
       "      <td>-0.684148</td>\n",
       "    </tr>\n",
       "    <tr>\n",
       "      <th>BTC</th>\n",
       "      <td>-0.146419</td>\n",
       "      <td>-1.330258</td>\n",
       "      <td>0.193797</td>\n",
       "    </tr>\n",
       "    <tr>\n",
       "      <th>ETH</th>\n",
       "      <td>-0.145979</td>\n",
       "      <td>-2.042856</td>\n",
       "      <td>0.423117</td>\n",
       "    </tr>\n",
       "  </tbody>\n",
       "</table>\n",
       "</div>"
      ],
      "text/plain": [
       "          PC 1      PC 2      PC 3\n",
       "42   -0.337050  0.992398 -0.602111\n",
       "404  -0.320353  0.992587 -0.602591\n",
       "1337  2.288725  1.599991 -0.684148\n",
       "BTC  -0.146419 -1.330258  0.193797\n",
       "ETH  -0.145979 -2.042856  0.423117"
      ]
     },
     "execution_count": 56,
     "metadata": {},
     "output_type": "execute_result"
    }
   ],
   "source": [
    "# Create a DataFrame with the principal components data\n",
    "pca_df = pd.DataFrame(data=crypto_pca, \n",
    "                      columns=[\"PC 1\", \"PC 2\", \"PC 3\"],\n",
    "                      index=crypto_df.index\n",
    "                     )\n",
    "pca_df.head()"
   ]
  },
  {
   "cell_type": "markdown",
   "metadata": {},
   "source": [
    "### Clustering Crytocurrencies Using K-Means\n",
    "\n",
    "#### Find the Best Value for `k` Using the Elbow Curve"
   ]
  },
  {
   "cell_type": "code",
   "execution_count": 57,
   "metadata": {},
   "outputs": [
    {
     "data": {},
     "metadata": {},
     "output_type": "display_data"
    },
    {
     "data": {
      "application/vnd.holoviews_exec.v0+json": "",
      "text/html": [
       "<div id='1001'>\n",
       "\n",
       "\n",
       "\n",
       "\n",
       "\n",
       "  <div class=\"bk-root\" id=\"0ce07353-9941-4ac6-ae2d-d3de98a690a0\" data-root-id=\"1001\"></div>\n",
       "</div>\n",
       "<script type=\"application/javascript\">(function(root) {\n",
       "  function embed_document(root) {\n",
       "  var docs_json = {\"e0de80ae-8fa3-4231-8ce8-5112452b4579\":{\"roots\":{\"references\":[{\"attributes\":{\"align\":null,\"below\":[{\"id\":\"1015\"}],\"center\":[{\"id\":\"1018\"},{\"id\":\"1022\"}],\"left\":[{\"id\":\"1019\"}],\"margin\":null,\"min_border_bottom\":10,\"min_border_left\":10,\"min_border_right\":10,\"min_border_top\":10,\"plot_height\":300,\"plot_width\":700,\"renderers\":[{\"id\":\"1042\"}],\"sizing_mode\":\"fixed\",\"title\":{\"id\":\"1007\"},\"toolbar\":{\"id\":\"1029\"},\"x_range\":{\"id\":\"1003\"},\"x_scale\":{\"id\":\"1011\"},\"y_range\":{\"id\":\"1004\"},\"y_scale\":{\"id\":\"1013\"}},\"id\":\"1006\",\"subtype\":\"Figure\",\"type\":\"Plot\"},{\"attributes\":{\"axis\":{\"id\":\"1015\"},\"grid_line_color\":null,\"ticker\":null},\"id\":\"1018\",\"type\":\"Grid\"},{\"attributes\":{},\"id\":\"1057\",\"type\":\"UnionRenderers\"},{\"attributes\":{\"ticks\":[1,2,3,4,5,6,7,8,9,10]},\"id\":\"1044\",\"type\":\"FixedTicker\"},{\"attributes\":{\"line_alpha\":0.2,\"line_color\":\"#1f77b3\",\"line_width\":2,\"x\":{\"field\":\"k\"},\"y\":{\"field\":\"inertia\"}},\"id\":\"1041\",\"type\":\"Line\"},{\"attributes\":{},\"id\":\"1013\",\"type\":\"LinearScale\"},{\"attributes\":{\"margin\":[5,5,5,5],\"name\":\"HSpacer01526\",\"sizing_mode\":\"stretch_width\"},\"id\":\"1058\",\"type\":\"Spacer\"},{\"attributes\":{\"text\":\"Elbow Curve\",\"text_color\":{\"value\":\"black\"},\"text_font_size\":{\"value\":\"12pt\"}},\"id\":\"1007\",\"type\":\"Title\"},{\"attributes\":{\"callback\":null,\"renderers\":[{\"id\":\"1042\"}],\"tags\":[\"hv_created\"],\"tooltips\":[[\"k\",\"@{k}\"],[\"inertia\",\"@{inertia}\"]]},\"id\":\"1005\",\"type\":\"HoverTool\"},{\"attributes\":{\"source\":{\"id\":\"1036\"}},\"id\":\"1043\",\"type\":\"CDSView\"},{\"attributes\":{},\"id\":\"1011\",\"type\":\"LinearScale\"},{\"attributes\":{\"end\":10.0,\"reset_end\":10.0,\"reset_start\":1.0,\"start\":1.0,\"tags\":[[[\"k\",\"k\",null]]]},\"id\":\"1003\",\"type\":\"Range1d\"},{\"attributes\":{\"data\":{\"inertia\":{\"__ndarray__\":\"XRB648F6rEC8JAxYZ1mjQDQv1dPQMJdAAcu3pNPJfEBJBVseYBVyQBXQ6lN8P2xA8dA946DSZUAwyALVRWdgQEvdwXXnf1hAIL8pUIdwUkA=\",\"dtype\":\"float64\",\"shape\":[10]},\"k\":[1,2,3,4,5,6,7,8,9,10]},\"selected\":{\"id\":\"1037\"},\"selection_policy\":{\"id\":\"1057\"}},\"id\":\"1036\",\"type\":\"ColumnDataSource\"},{\"attributes\":{\"bottom_units\":\"screen\",\"fill_alpha\":0.5,\"fill_color\":\"lightgrey\",\"left_units\":\"screen\",\"level\":\"overlay\",\"line_alpha\":1.0,\"line_color\":\"black\",\"line_dash\":[4,4],\"line_width\":2,\"render_mode\":\"css\",\"right_units\":\"screen\",\"top_units\":\"screen\"},\"id\":\"1028\",\"type\":\"BoxAnnotation\"},{\"attributes\":{\"margin\":[5,5,5,5],\"name\":\"HSpacer01525\",\"sizing_mode\":\"stretch_width\"},\"id\":\"1002\",\"type\":\"Spacer\"},{\"attributes\":{\"active_drag\":\"auto\",\"active_inspect\":\"auto\",\"active_multi\":null,\"active_scroll\":\"auto\",\"active_tap\":\"auto\",\"tools\":[{\"id\":\"1005\"},{\"id\":\"1023\"},{\"id\":\"1024\"},{\"id\":\"1025\"},{\"id\":\"1026\"},{\"id\":\"1027\"}]},\"id\":\"1029\",\"type\":\"Toolbar\"},{\"attributes\":{},\"id\":\"1046\",\"type\":\"BasicTickFormatter\"},{\"attributes\":{},\"id\":\"1023\",\"type\":\"SaveTool\"},{\"attributes\":{\"line_color\":\"#1f77b3\",\"line_width\":2,\"x\":{\"field\":\"k\"},\"y\":{\"field\":\"inertia\"}},\"id\":\"1039\",\"type\":\"Line\"},{\"attributes\":{\"axis\":{\"id\":\"1019\"},\"dimension\":1,\"grid_line_color\":null,\"ticker\":null},\"id\":\"1022\",\"type\":\"Grid\"},{\"attributes\":{},\"id\":\"1050\",\"type\":\"BasicTickFormatter\"},{\"attributes\":{\"children\":[{\"id\":\"1002\"},{\"id\":\"1006\"},{\"id\":\"1058\"}],\"margin\":[0,0,0,0],\"name\":\"Row01521\",\"tags\":[\"embedded\"]},\"id\":\"1001\",\"type\":\"Row\"},{\"attributes\":{\"data_source\":{\"id\":\"1036\"},\"glyph\":{\"id\":\"1039\"},\"hover_glyph\":null,\"muted_glyph\":{\"id\":\"1041\"},\"nonselection_glyph\":{\"id\":\"1040\"},\"selection_glyph\":null,\"view\":{\"id\":\"1043\"}},\"id\":\"1042\",\"type\":\"GlyphRenderer\"},{\"attributes\":{},\"id\":\"1020\",\"type\":\"BasicTicker\"},{\"attributes\":{\"end\":4002.540731613036,\"reset_end\":4002.540731613036,\"reset_start\":-283.40378411922916,\"start\":-283.40378411922916,\"tags\":[[[\"inertia\",\"inertia\",null]]]},\"id\":\"1004\",\"type\":\"Range1d\"},{\"attributes\":{\"line_alpha\":0.1,\"line_color\":\"#1f77b3\",\"line_width\":2,\"x\":{\"field\":\"k\"},\"y\":{\"field\":\"inertia\"}},\"id\":\"1040\",\"type\":\"Line\"},{\"attributes\":{},\"id\":\"1037\",\"type\":\"Selection\"},{\"attributes\":{\"axis_label\":\"k\",\"bounds\":\"auto\",\"formatter\":{\"id\":\"1046\"},\"major_label_orientation\":\"horizontal\",\"ticker\":{\"id\":\"1044\"}},\"id\":\"1015\",\"type\":\"LinearAxis\"},{\"attributes\":{},\"id\":\"1024\",\"type\":\"PanTool\"},{\"attributes\":{\"axis_label\":\"inertia\",\"bounds\":\"auto\",\"formatter\":{\"id\":\"1050\"},\"major_label_orientation\":\"horizontal\",\"ticker\":{\"id\":\"1020\"}},\"id\":\"1019\",\"type\":\"LinearAxis\"},{\"attributes\":{},\"id\":\"1025\",\"type\":\"WheelZoomTool\"},{\"attributes\":{\"overlay\":{\"id\":\"1028\"}},\"id\":\"1026\",\"type\":\"BoxZoomTool\"},{\"attributes\":{},\"id\":\"1027\",\"type\":\"ResetTool\"}],\"root_ids\":[\"1001\"]},\"title\":\"Bokeh Application\",\"version\":\"2.0.2\"}};\n",
       "  var render_items = [{\"docid\":\"e0de80ae-8fa3-4231-8ce8-5112452b4579\",\"root_ids\":[\"1001\"],\"roots\":{\"1001\":\"0ce07353-9941-4ac6-ae2d-d3de98a690a0\"}}];\n",
       "  root.Bokeh.embed.embed_items_notebook(docs_json, render_items);\n",
       "  }\n",
       "if (root.Bokeh !== undefined) {\n",
       "    embed_document(root);\n",
       "  } else {\n",
       "    var attempts = 0;\n",
       "    var timer = setInterval(function(root) {\n",
       "      if (root.Bokeh !== undefined) {\n",
       "        clearInterval(timer);\n",
       "        embed_document(root);\n",
       "      } else if (document.readyState == \"complete\") {\n",
       "        attempts++;\n",
       "        if (attempts > 100) {\n",
       "          clearInterval(timer);\n",
       "          console.log(\"Bokeh: ERROR: Unable to run BokehJS code because BokehJS library is missing\");\n",
       "        }\n",
       "      }\n",
       "    }, 10, root)\n",
       "  }\n",
       "})(window);</script>"
      ],
      "text/plain": [
       ":Curve   [k]   (inertia)"
      ]
     },
     "execution_count": 57,
     "metadata": {
      "application/vnd.holoviews_exec.v0+json": {
       "id": "1001"
      }
     },
     "output_type": "execute_result"
    }
   ],
   "source": [
    "inertia = []\n",
    "k = list(range(1, 11))\n",
    "\n",
    "# Calculate the inertia for the range of k values\n",
    "for i in k:\n",
    "    km = KMeans(n_clusters=i, random_state=0)\n",
    "    km.fit(pca_df)\n",
    "    inertia.append(km.inertia_)\n",
    "\n",
    "\n",
    "# Create the Elbow Curve using hvPlot\n",
    "elbow_data = {\"k\": k, \"inertia\": inertia}\n",
    "df_elbow = pd.DataFrame(elbow_data)\n",
    "df_elbow.hvplot.line(x=\"k\", y=\"inertia\", xticks=k, title=\"Elbow Curve\")"
   ]
  },
  {
   "cell_type": "markdown",
   "metadata": {},
   "source": [
    "Running K-Means with `k=<your best value for k here>`"
   ]
  },
  {
   "cell_type": "code",
   "execution_count": 59,
   "metadata": {},
   "outputs": [
    {
     "data": {
      "text/html": [
       "<div>\n",
       "<style scoped>\n",
       "    .dataframe tbody tr th:only-of-type {\n",
       "        vertical-align: middle;\n",
       "    }\n",
       "\n",
       "    .dataframe tbody tr th {\n",
       "        vertical-align: top;\n",
       "    }\n",
       "\n",
       "    .dataframe thead th {\n",
       "        text-align: right;\n",
       "    }\n",
       "</style>\n",
       "<table border=\"1\" class=\"dataframe\">\n",
       "  <thead>\n",
       "    <tr style=\"text-align: right;\">\n",
       "      <th></th>\n",
       "      <th>Algorithm</th>\n",
       "      <th>ProofType</th>\n",
       "      <th>TotalCoinsMined</th>\n",
       "      <th>TotalCoinSupply</th>\n",
       "      <th>PC 1</th>\n",
       "      <th>PC 2</th>\n",
       "      <th>PC 3</th>\n",
       "      <th>CoinName</th>\n",
       "      <th>Class</th>\n",
       "    </tr>\n",
       "  </thead>\n",
       "  <tbody>\n",
       "    <tr>\n",
       "      <th>42</th>\n",
       "      <td>Scrypt</td>\n",
       "      <td>PoW/PoS</td>\n",
       "      <td>4.199995e+01</td>\n",
       "      <td>42</td>\n",
       "      <td>-0.337050</td>\n",
       "      <td>0.992398</td>\n",
       "      <td>-0.602111</td>\n",
       "      <td>42 Coin</td>\n",
       "      <td>0</td>\n",
       "    </tr>\n",
       "    <tr>\n",
       "      <th>404</th>\n",
       "      <td>Scrypt</td>\n",
       "      <td>PoW/PoS</td>\n",
       "      <td>1.055185e+09</td>\n",
       "      <td>532000000</td>\n",
       "      <td>-0.320353</td>\n",
       "      <td>0.992587</td>\n",
       "      <td>-0.602591</td>\n",
       "      <td>404Coin</td>\n",
       "      <td>0</td>\n",
       "    </tr>\n",
       "    <tr>\n",
       "      <th>1337</th>\n",
       "      <td>X13</td>\n",
       "      <td>PoW/PoS</td>\n",
       "      <td>2.927942e+10</td>\n",
       "      <td>314159265359</td>\n",
       "      <td>2.288725</td>\n",
       "      <td>1.599991</td>\n",
       "      <td>-0.684148</td>\n",
       "      <td>EliteCoin</td>\n",
       "      <td>0</td>\n",
       "    </tr>\n",
       "    <tr>\n",
       "      <th>BTC</th>\n",
       "      <td>SHA-256</td>\n",
       "      <td>PoW</td>\n",
       "      <td>1.792718e+07</td>\n",
       "      <td>21000000</td>\n",
       "      <td>-0.146419</td>\n",
       "      <td>-1.330258</td>\n",
       "      <td>0.193797</td>\n",
       "      <td>Bitcoin</td>\n",
       "      <td>1</td>\n",
       "    </tr>\n",
       "    <tr>\n",
       "      <th>ETH</th>\n",
       "      <td>Ethash</td>\n",
       "      <td>PoW</td>\n",
       "      <td>1.076842e+08</td>\n",
       "      <td>0</td>\n",
       "      <td>-0.145979</td>\n",
       "      <td>-2.042856</td>\n",
       "      <td>0.423117</td>\n",
       "      <td>Ethereum</td>\n",
       "      <td>1</td>\n",
       "    </tr>\n",
       "  </tbody>\n",
       "</table>\n",
       "</div>"
      ],
      "text/plain": [
       "     Algorithm ProofType  TotalCoinsMined TotalCoinSupply      PC 1      PC 2  \\\n",
       "42      Scrypt   PoW/PoS     4.199995e+01              42 -0.337050  0.992398   \n",
       "404     Scrypt   PoW/PoS     1.055185e+09       532000000 -0.320353  0.992587   \n",
       "1337       X13   PoW/PoS     2.927942e+10    314159265359  2.288725  1.599991   \n",
       "BTC    SHA-256       PoW     1.792718e+07        21000000 -0.146419 -1.330258   \n",
       "ETH     Ethash       PoW     1.076842e+08               0 -0.145979 -2.042856   \n",
       "\n",
       "          PC 3   CoinName  Class  \n",
       "42   -0.602111    42 Coin      0  \n",
       "404  -0.602591    404Coin      0  \n",
       "1337 -0.684148  EliteCoin      0  \n",
       "BTC   0.193797    Bitcoin      1  \n",
       "ETH   0.423117   Ethereum      1  "
      ]
     },
     "execution_count": 59,
     "metadata": {},
     "output_type": "execute_result"
    }
   ],
   "source": [
    "# Initialize the K-Means model\n",
    "model = KMeans(n_clusters=4, random_state=0)\n",
    "\n",
    "# Fit the model\n",
    "model.fit(pca_df)\n",
    "\n",
    "# Predict clusters\n",
    "predictions = model.predict(pca_df)\n",
    "\n",
    "# Create a new DataFrame including predicted clusters and cryptocurrencies features\n",
    "clustered_df = pd.DataFrame({\n",
    "    \"Algorithm\": crypto_df[\"Algorithm\"],\n",
    "    \"ProofType\": crypto_df[\"ProofType\"],\n",
    "    \"TotalCoinsMined\": crypto_df[\"TotalCoinsMined\"],\n",
    "    \"TotalCoinSupply\": crypto_df[\"TotalCoinSupply\"],\n",
    "    \"PC 1\": pca_df[\"PC 1\"],\n",
    "    \"PC 2\": pca_df[\"PC 2\"],\n",
    "    \"PC 3\": pca_df[\"PC 3\"],\n",
    "    \"CoinName\": coins_name[\"CoinName\"],\n",
    "    \"Class\": model.labels_,\n",
    "    },\n",
    "    index=crypto_df.index\n",
    ")\n",
    "clustered_df.head()"
   ]
  },
  {
   "cell_type": "markdown",
   "metadata": {},
   "source": [
    "### Visualizing Results\n",
    "\n",
    "#### 3D-Scatter with Clusters"
   ]
  },
  {
   "cell_type": "code",
   "execution_count": 65,
   "metadata": {},
   "outputs": [
    {
     "data": {
      "application/vnd.plotly.v1+json": {
       "config": {
        "plotlyServerURL": "https://plot.ly"
       },
       "data": [
        {
         "customdata": [
          [
           "Scrypt"
          ],
          [
           "Scrypt"
          ],
          [
           "X13"
          ],
          [
           "X11"
          ],
          [
           "SHA-512"
          ],
          [
           "SHA-256"
          ],
          [
           "SHA-256"
          ],
          [
           "X15"
          ],
          [
           "Scrypt"
          ],
          [
           "Scrypt"
          ],
          [
           "Scrypt"
          ],
          [
           "Scrypt"
          ],
          [
           "Scrypt"
          ],
          [
           "Scrypt"
          ],
          [
           "Groestl"
          ],
          [
           "PoS"
          ],
          [
           "Scrypt"
          ],
          [
           "Scrypt"
          ],
          [
           "X11"
          ],
          [
           "X11"
          ],
          [
           "SHA3"
          ],
          [
           "Scrypt"
          ],
          [
           "SHA-256"
          ],
          [
           "Scrypt"
          ],
          [
           "X13"
          ],
          [
           "X13"
          ],
          [
           "NeoScrypt"
          ],
          [
           "Scrypt"
          ],
          [
           "Scrypt"
          ],
          [
           "Scrypt"
          ],
          [
           "X11"
          ],
          [
           "X11"
          ],
          [
           "Multiple"
          ],
          [
           "PHI1612"
          ],
          [
           "X11"
          ],
          [
           "Scrypt"
          ],
          [
           "Scrypt"
          ],
          [
           "Scrypt"
          ],
          [
           "X11"
          ],
          [
           "Multiple"
          ],
          [
           "X13"
          ],
          [
           "Scrypt"
          ],
          [
           "Shabal256"
          ],
          [
           "Counterparty"
          ],
          [
           "SHA-256"
          ],
          [
           "Groestl"
          ],
          [
           "Scrypt"
          ],
          [
           "X13"
          ],
          [
           "Scrypt"
          ],
          [
           "Scrypt"
          ],
          [
           "X13"
          ],
          [
           "X11"
          ],
          [
           "Scrypt"
          ],
          [
           "X11"
          ],
          [
           "SHA3"
          ],
          [
           "QUAIT"
          ],
          [
           "X11"
          ],
          [
           "Scrypt"
          ],
          [
           "X13"
          ],
          [
           "SHA-256"
          ],
          [
           "X15"
          ],
          [
           "BLAKE256"
          ],
          [
           "SHA-256"
          ],
          [
           "X11"
          ],
          [
           "SHA-256"
          ],
          [
           "NIST5"
          ],
          [
           "Scrypt"
          ],
          [
           "Scrypt"
          ],
          [
           "X11"
          ],
          [
           "Scrypt"
          ],
          [
           "SHA-256"
          ],
          [
           "Scrypt"
          ],
          [
           "PoS"
          ],
          [
           "X11"
          ],
          [
           "SHA-256"
          ],
          [
           "SHA-256"
          ],
          [
           "NIST5"
          ],
          [
           "X11"
          ],
          [
           "POS 3.0"
          ],
          [
           "Scrypt"
          ],
          [
           "Scrypt"
          ],
          [
           "Scrypt"
          ],
          [
           "X13"
          ],
          [
           "X11"
          ],
          [
           "X11"
          ],
          [
           "Scrypt"
          ],
          [
           "SHA-256"
          ],
          [
           "X11"
          ],
          [
           "Scrypt"
          ],
          [
           "Scrypt"
          ],
          [
           "Scrypt"
          ],
          [
           "Scrypt"
          ],
          [
           "SHA-256D"
          ],
          [
           "PoS"
          ],
          [
           "Scrypt"
          ],
          [
           "X11"
          ],
          [
           "PoS"
          ],
          [
           "X13"
          ],
          [
           "X14"
          ],
          [
           "PoS"
          ],
          [
           "SHA-256D"
          ],
          [
           "DPoS"
          ],
          [
           "X11"
          ],
          [
           "X13"
          ],
          [
           "X11"
          ],
          [
           "PoS"
          ],
          [
           "Scrypt"
          ],
          [
           "Scrypt"
          ],
          [
           "PoS"
          ],
          [
           "X11"
          ],
          [
           "SHA-256"
          ],
          [
           "Scrypt"
          ],
          [
           "X11"
          ],
          [
           "Scrypt"
          ],
          [
           "Scrypt"
          ],
          [
           "X11"
          ],
          [
           "Scrypt"
          ],
          [
           "Scrypt"
          ],
          [
           "Scrypt"
          ],
          [
           "Scrypt"
          ],
          [
           "Quark"
          ],
          [
           "QuBit"
          ],
          [
           "Scrypt"
          ],
          [
           "SHA-256"
          ],
          [
           "X11"
          ],
          [
           "Scrypt"
          ],
          [
           "Scrypt"
          ],
          [
           "Scrypt"
          ],
          [
           "Scrypt"
          ],
          [
           "X13"
          ],
          [
           "Scrypt"
          ],
          [
           "Scrypt"
          ],
          [
           "X11"
          ],
          [
           "Blake2S"
          ],
          [
           "X11"
          ],
          [
           "PoS"
          ],
          [
           "X11"
          ],
          [
           "PoS"
          ],
          [
           "X11"
          ],
          [
           "Scrypt"
          ],
          [
           "Scrypt"
          ],
          [
           "Scrypt"
          ],
          [
           "SHA-256"
          ],
          [
           "X11"
          ],
          [
           "Scrypt"
          ],
          [
           "PoS"
          ],
          [
           "Scrypt"
          ],
          [
           "X15"
          ],
          [
           "SHA-256"
          ],
          [
           "POS 3.0"
          ],
          [
           "536"
          ],
          [
           "NIST5"
          ],
          [
           "NIST5"
          ],
          [
           "Skein"
          ],
          [
           "X13"
          ],
          [
           "Scrypt"
          ],
          [
           "X13"
          ],
          [
           "SkunkHash v2 Raptor"
          ],
          [
           "Skein"
          ],
          [
           "X11"
          ],
          [
           "Scrypt"
          ],
          [
           "PoS"
          ],
          [
           "Scrypt"
          ],
          [
           "Scrypt"
          ],
          [
           "SHA-512"
          ],
          [
           "Ouroboros"
          ],
          [
           "X11"
          ],
          [
           "NeoScrypt"
          ],
          [
           "Scrypt"
          ],
          [
           "Lyra2REv2"
          ],
          [
           "Scrypt"
          ],
          [
           "SHA-256"
          ],
          [
           "NIST5"
          ],
          [
           "PHI1612"
          ],
          [
           "Scrypt"
          ],
          [
           "Quark"
          ],
          [
           "POS 2.0"
          ],
          [
           "Scrypt"
          ],
          [
           "SHA-256"
          ],
          [
           "X11"
          ],
          [
           "DPoS"
          ],
          [
           "NIST5"
          ],
          [
           "X13"
          ],
          [
           "Scrypt"
          ],
          [
           "NIST5"
          ],
          [
           "Quark"
          ],
          [
           "Scrypt"
          ],
          [
           "Scrypt"
          ],
          [
           "X11"
          ],
          [
           "Quark"
          ],
          [
           "Scrypt"
          ],
          [
           "Scrypt"
          ],
          [
           "X11"
          ],
          [
           "POS 3.0"
          ],
          [
           "Ethash"
          ],
          [
           "Scrypt"
          ],
          [
           "Scrypt"
          ],
          [
           "X13"
          ],
          [
           "C11"
          ],
          [
           "X11"
          ],
          [
           "XEVAN"
          ],
          [
           "Scrypt"
          ],
          [
           "VBFT"
          ],
          [
           "NIST5"
          ],
          [
           "Scrypt"
          ],
          [
           "Scrypt"
          ],
          [
           "Scrypt"
          ],
          [
           "Green Protocol"
          ],
          [
           "PoS"
          ],
          [
           "Scrypt"
          ],
          [
           "Semux BFT consensus"
          ],
          [
           "Quark"
          ],
          [
           "PoS"
          ],
          [
           "X16R"
          ],
          [
           "Scrypt"
          ],
          [
           "XEVAN"
          ],
          [
           "Scrypt"
          ],
          [
           "Scrypt"
          ],
          [
           "Scrypt"
          ],
          [
           "SHA-256D"
          ],
          [
           "Scrypt"
          ],
          [
           "X15"
          ],
          [
           "Scrypt"
          ],
          [
           "Quark"
          ],
          [
           "SHA-256"
          ],
          [
           "DPoS"
          ],
          [
           "X16R"
          ],
          [
           "Quark"
          ],
          [
           "Quark"
          ],
          [
           "Scrypt"
          ],
          [
           "Lyra2REv2"
          ],
          [
           "Quark"
          ],
          [
           "Scrypt"
          ],
          [
           "X11"
          ],
          [
           "X11"
          ],
          [
           "Scrypt"
          ],
          [
           "PoS"
          ],
          [
           "Keccak"
          ],
          [
           "X11"
          ],
          [
           "Scrypt"
          ],
          [
           "SHA-512"
          ],
          [
           "ECC 256K1"
          ],
          [
           "XEVAN"
          ],
          [
           "XEVAN"
          ],
          [
           "X11"
          ],
          [
           "Quark"
          ],
          [
           "Equihash"
          ],
          [
           "Scrypt"
          ],
          [
           "Quark"
          ],
          [
           "Quark"
          ],
          [
           "Scrypt"
          ],
          [
           "X11"
          ],
          [
           "Scrypt"
          ],
          [
           "XEVAN"
          ],
          [
           "SHA-256D"
          ],
          [
           "X11"
          ],
          [
           "X11"
          ],
          [
           "DPoS"
          ],
          [
           "Scrypt"
          ],
          [
           "X11"
          ],
          [
           "Scrypt"
          ],
          [
           "Scrypt"
          ],
          [
           "SHA-256"
          ],
          [
           "Scrypt"
          ],
          [
           "X11"
          ],
          [
           "Scrypt"
          ],
          [
           "SHA-256"
          ],
          [
           "X11"
          ],
          [
           "Scrypt"
          ],
          [
           "Scrypt"
          ],
          [
           "X11"
          ],
          [
           "Scrypt"
          ],
          [
           "PoS"
          ],
          [
           "X11"
          ],
          [
           "SHA-256"
          ],
          [
           "DPoS"
          ],
          [
           "Scrypt"
          ],
          [
           "Scrypt"
          ],
          [
           "NeoScrypt"
          ],
          [
           "X13"
          ],
          [
           "DPoS"
          ],
          [
           "DPoS"
          ],
          [
           "SHA-256"
          ],
          [
           "PoS"
          ],
          [
           "PoS"
          ],
          [
           "SHA-256"
          ],
          [
           "Scrypt"
          ],
          [
           "Scrypt"
          ]
         ],
         "hovertemplate": "<b>%{hovertext}</b><br><br>Class=%{marker.color}<br>PC 1=%{x}<br>PC 2=%{y}<br>PC 3=%{z}<br>Algorithm=%{customdata[0]}<extra></extra>",
         "hovertext": [
          "42 Coin",
          "404Coin",
          "EliteCoin",
          "Dash",
          "Bitshares",
          "BitcoinDark",
          "PayCoin",
          "KoboCoin",
          "Aurora Coin",
          "BlueCoin",
          "EnergyCoin",
          "BitBar",
          "CryptoBullion",
          "CasinoCoin",
          "Diamond",
          "Exclusive Coin",
          "FlutterCoin",
          "HoboNickels",
          "HyperStake",
          "IOCoin",
          "MaxCoin",
          "MintCoin",
          "MazaCoin",
          "Nautilus Coin",
          "NavCoin",
          "OpalCoin",
          "Orbitcoin",
          "PotCoin",
          "PhoenixCoin",
          "Reddcoin",
          "SuperCoin",
          "SyncCoin",
          "TeslaCoin",
          "TittieCoin",
          "TorCoin",
          "UnitaryStatus Dollar",
          "UltraCoin",
          "VeriCoin",
          "X11 Coin",
          "Crypti",
          "StealthCoin",
          "ZCC Coin",
          "BurstCoin",
          "StorjCoin",
          "Neutron",
          "FairCoin",
          "RubyCoin",
          "Kore",
          "Dnotes",
          "8BIT Coin",
          "Sativa Coin",
          "Ucoin",
          "Vtorrent",
          "IslaCoin",
          "Nexus",
          "Droidz",
          "Squall Coin",
          "Diggits",
          "Paycon",
          "Emercoin",
          "EverGreenCoin",
          "Decred",
          "EDRCoin",
          "Hitcoin",
          "DubaiCoin",
          "PWR Coin",
          "BillaryCoin",
          "GPU Coin",
          "EuropeCoin",
          "ZeitCoin",
          "SwingCoin",
          "SafeExchangeCoin",
          "Nebuchadnezzar",
          "Ratecoin",
          "Revenu",
          "Clockcoin",
          "VIP Tokens",
          "BitSend",
          "Let it Ride",
          "PutinCoin",
          "iBankCoin",
          "Frankywillcoin",
          "MudraCoin",
          "Lutetium Coin",
          "GoldBlocks",
          "CarterCoin",
          "BitTokens",
          "MustangCoin",
          "ZoneCoin",
          "RootCoin",
          "BitCurrency",
          "Swiscoin",
          "BuzzCoin",
          "Opair",
          "PesoBit",
          "Halloween Coin",
          "CoffeeCoin",
          "RoyalCoin",
          "GanjaCoin V2",
          "TeamUP",
          "LanaCoin",
          "ARK",
          "InsaneCoin",
          "EmberCoin",
          "XenixCoin",
          "FreeCoin",
          "PLNCoin",
          "AquariusCoin",
          "Creatio",
          "Eternity",
          "Eurocoin",
          "BitcoinFast",
          "Stakenet",
          "BitConnect Coin",
          "MoneyCoin",
          "Enigma",
          "Russiacoin",
          "PandaCoin",
          "GameUnits",
          "GAKHcoin",
          "Allsafe",
          "LiteCreed",
          "Klingon Empire Darsek",
          "Internet of People",
          "KushCoin",
          "Printerium",
          "Impeach",
          "Zilbercoin",
          "FirstCoin",
          "FindCoin",
          "OpenChat",
          "RenosCoin",
          "VirtacoinPlus",
          "TajCoin",
          "Impact",
          "Atmos",
          "HappyCoin",
          "MacronCoin",
          "Condensate",
          "Independent Money System",
          "ArgusCoin",
          "LomoCoin",
          "ProCurrency",
          "GoldReserve",
          "GrowthCoin",
          "Phreak",
          "Degas Coin",
          "HTML5 Coin",
          "Ultimate Secure Cash",
          "QTUM",
          "Espers",
          "Denarius",
          "Virta Unique Coin",
          "Bitcoin Planet",
          "BritCoin",
          "Linda",
          "DeepOnion",
          "Signatum",
          "Cream",
          "Monoeci",
          "Draftcoin",
          "Stakecoin",
          "CoinonatX",
          "Ethereum Dark",
          "Obsidian",
          "Cardano",
          "Regalcoin",
          "TrezarCoin",
          "TerraNovaCoin",
          "Rupee",
          "WomenCoin",
          "Theresa May Coin",
          "NamoCoin",
          "LUXCoin",
          "Xios",
          "Bitcloud 2.0",
          "KekCoin",
          "BlackholeCoin",
          "Infinity Economics",
          "Magnet",
          "Lamden Tau",
          "Electra",
          "Bitcoin Diamond",
          "Cash & Back Coin",
          "Bulwark",
          "Kalkulus",
          "GermanCoin",
          "LiteCoin Ultra",
          "PhantomX",
          "Digiwage",
          "Trollcoin",
          "Litecoin Plus",
          "Monkey Project",
          "TokenPay",
          "1717 Masonic Commemorative Token",
          "My Big Coin",
          "Unified Society USDEX",
          "Tokyo Coin",
          "Stipend",
          "Pushi",
          "Ellerium",
          "Velox",
          "Ontology",
          "Bitspace",
          "Briacoin",
          "Ignition",
          "MedicCoin",
          "Bitcoin Green",
          "Deviant Coin",
          "Abjcoin",
          "Semux",
          "Carebit",
          "Zealium",
          "Proton",
          "iDealCash",
          "Bitcoin Incognito",
          "HollyWoodCoin",
          "Swisscoin",
          "Xt3ch",
          "TheVig",
          "EmaratCoin",
          "Dekado",
          "Lynx",
          "Poseidon Quark",
          "BitcoinWSpectrum",
          "Muse",
          "Trivechain",
          "Dystem",
          "Giant",
          "Peony Coin",
          "Absolute Coin",
          "Vitae",
          "TPCash",
          "ARENON",
          "EUNO",
          "MMOCoin",
          "Ketan",
          "XDNA",
          "PAXEX",
          "ThunderStake",
          "Kcash",
          "Acute Angle Cloud",
          "Bettex coin",
          "BitMoney",
          "Junson Ming Chan Coin",
          "HerbCoin",
          "PirateCash",
          "Oduwa",
          "Galilel",
          "Crypto Sports",
          "Credit",
          "Dash Platinum",
          "Nasdacoin",
          "Beetle Coin",
          "Titan Coin",
          "Award",
          "Insane Coin",
          "ALAX",
          "LiteDoge",
          "TruckCoin",
          "OrangeCoin",
          "BitstarCoin",
          "NeosCoin",
          "HyperCoin",
          "PinkCoin",
          "AudioCoin",
          "IncaKoin",
          "Piggy Coin",
          "Genstake",
          "XiaoMiCoin",
          "CapriCoin",
          " ClubCoin",
          "Radium",
          "Creditbit ",
          "OKCash",
          "Lisk",
          "HiCoin",
          "WhiteCoin",
          "FriendshipCoin",
          "Triangles Coin",
          "EOS",
          "Oxycoin",
          "TigerCash",
          "Particl",
          "Nxt",
          "ZEPHYR",
          "Gapcoin",
          "BitcoinPlus"
         ],
         "legendgroup": "0",
         "marker": {
          "color": [
           0,
           0,
           0,
           0,
           0,
           0,
           0,
           0,
           0,
           0,
           0,
           0,
           0,
           0,
           0,
           0,
           0,
           0,
           0,
           0,
           0,
           0,
           0,
           0,
           0,
           0,
           0,
           0,
           0,
           0,
           0,
           0,
           0,
           0,
           0,
           0,
           0,
           0,
           0,
           0,
           0,
           0,
           0,
           0,
           0,
           0,
           0,
           0,
           0,
           0,
           0,
           0,
           0,
           0,
           0,
           0,
           0,
           0,
           0,
           0,
           0,
           0,
           0,
           0,
           0,
           0,
           0,
           0,
           0,
           0,
           0,
           0,
           0,
           0,
           0,
           0,
           0,
           0,
           0,
           0,
           0,
           0,
           0,
           0,
           0,
           0,
           0,
           0,
           0,
           0,
           0,
           0,
           0,
           0,
           0,
           0,
           0,
           0,
           0,
           0,
           0,
           0,
           0,
           0,
           0,
           0,
           0,
           0,
           0,
           0,
           0,
           0,
           0,
           0,
           0,
           0,
           0,
           0,
           0,
           0,
           0,
           0,
           0,
           0,
           0,
           0,
           0,
           0,
           0,
           0,
           0,
           0,
           0,
           0,
           0,
           0,
           0,
           0,
           0,
           0,
           0,
           0,
           0,
           0,
           0,
           0,
           0,
           0,
           0,
           0,
           0,
           0,
           0,
           0,
           0,
           0,
           0,
           0,
           0,
           0,
           0,
           0,
           0,
           0,
           0,
           0,
           0,
           0,
           0,
           0,
           0,
           0,
           0,
           0,
           0,
           0,
           0,
           0,
           0,
           0,
           0,
           0,
           0,
           0,
           0,
           0,
           0,
           0,
           0,
           0,
           0,
           0,
           0,
           0,
           0,
           0,
           0,
           0,
           0,
           0,
           0,
           0,
           0,
           0,
           0,
           0,
           0,
           0,
           0,
           0,
           0,
           0,
           0,
           0,
           0,
           0,
           0,
           0,
           0,
           0,
           0,
           0,
           0,
           0,
           0,
           0,
           0,
           0,
           0,
           0,
           0,
           0,
           0,
           0,
           0,
           0,
           0,
           0,
           0,
           0,
           0,
           0,
           0,
           0,
           0,
           0,
           0,
           0,
           0,
           0,
           0,
           0,
           0,
           0,
           0,
           0,
           0,
           0,
           0,
           0,
           0,
           0,
           0,
           0,
           0,
           0,
           0,
           0,
           0,
           0,
           0,
           0,
           0,
           0,
           0,
           0,
           0,
           0,
           0,
           0,
           0,
           0,
           0,
           0,
           0,
           0,
           0,
           0
          ],
          "coloraxis": "coloraxis",
          "symbol": "circle"
         },
         "mode": "markers",
         "name": "0",
         "scene": "scene",
         "showlegend": true,
         "type": "scatter3d",
         "x": [
          -0.3370501550437664,
          -0.32035252025521654,
          2.2887245314571185,
          -0.41673394844054845,
          -0.2816435629081323,
          -0.32759789932289596,
          -0.2621957870461894,
          -0.2650481559204887,
          -0.33670899224371,
          -0.3292715721344873,
          -0.33554367443249994,
          -0.33704608149677107,
          -0.33703032920089426,
          0.8150527217714595,
          -0.39261261369709577,
          -0.3277347145677041,
          -0.23435128228495056,
          -0.33510463995446466,
          -0.33111457058113775,
          -0.41662843079681644,
          -0.453114111160578,
          -0.01104060079891407,
          -0.29082271655228176,
          -0.27139855078652764,
          -0.3013836786125943,
          -0.3020071505372766,
          -0.36540580438221143,
          -0.3313396169677122,
          -0.3354483669605857,
          0.0218182996408811,
          -0.3510415441536731,
          -0.41700082139847977,
          -0.225744633127546,
          -0.3076546159053511,
          -0.41691225241211877,
          -0.31222727062487926,
          -0.33572457417325474,
          -0.25817978828133153,
          -0.41687666953300384,
          -0.22621361430957695,
          -0.3017875691445661,
          -0.32813228334937816,
          0.3753346676670609,
          -0.3171413381461729,
          -0.32680787915642484,
          -0.3920330153323177,
          -0.27137881755584303,
          -0.30208265515388577,
          -0.26602053622511307,
          -0.33703218718362526,
          -0.30203474940901626,
          -0.3514872330347189,
          -0.3367659710797357,
          -0.41698231280535597,
          -0.47429062416268747,
          -0.459808358277146,
          -0.3468506674714409,
          -0.2697768176547789,
          -0.30155529860171576,
          -0.3201366547541346,
          -0.2674955055285879,
          -0.10273902788619003,
          -0.3275687542367942,
          -0.09371800949130575,
          -0.32763261161053686,
          -0.2560103599024266,
          -0.33664153505642863,
          -0.2696452428024584,
          -0.41414464538853313,
          0.8843920157108186,
          -0.3274321823543028,
          0.08268959699053006,
          -0.3274172869244903,
          -0.41482071168043877,
          -0.32617264184673755,
          -0.3238352591703399,
          -0.37761506133584316,
          -0.41571453157974336,
          -0.32025520969961524,
          -0.31288415175557394,
          -0.3366797032477377,
          -0.33511537521719736,
          -0.23537167473785855,
          -0.3389507765513058,
          -0.4164550047209876,
          -0.3358821809121996,
          -0.3276134942690695,
          -0.416971473693554,
          -0.33686931745522103,
          -0.33702640857679494,
          -0.2696354456127655,
          -0.22859634390076766,
          0.010808826593372947,
          -0.326372091531223,
          -0.3366397823598212,
          -0.40310140372747055,
          -0.3256994674239493,
          -0.23680575869669723,
          -0.44500323338471437,
          -0.3254471361706088,
          -0.30439195145765807,
          3.6770794352562217,
          -0.41656311094738396,
          0.8324321563556831,
          -0.41692628949259675,
          -0.3268368527327407,
          -0.33656707788913737,
          -0.3367217071032857,
          -0.3274172869244903,
          -0.4165001685336196,
          -0.3274758914253185,
          -0.33656783137418417,
          -0.4193533912527883,
          -0.336715535734075,
          -0.33229280121438115,
          -0.41695533886300823,
          -0.3359242989786105,
          0.3732730494894208,
          -0.3369152599823401,
          -0.3369860026127555,
          -0.3410252058768972,
          -0.3721068515933969,
          -0.33320366206142393,
          -0.3275898600957548,
          -0.4168650949321683,
          -0.3367633145864261,
          -0.33689051972971984,
          -0.27128497770985077,
          -0.2572670557542687,
          -0.23657310659744962,
          -0.31770234946470516,
          -0.27102564293352377,
          -0.41612908622751493,
          -0.442716176445923,
          -0.41486486727537275,
          -0.32566001890394924,
          -0.4160267642039244,
          -0.3200477203212557,
          -0.4119583471277102,
          -0.3368336932682034,
          -0.33683286010196717,
          -0.3299377948579537,
          0.27176739680558337,
          -0.41650638869533824,
          -0.2538861975208491,
          -0.32745162164083635,
          -0.3360425359108035,
          0.8694436827383476,
          -0.26088299444393037,
          -0.31903088780417727,
          0.5712132950502808,
          -0.37915405993503576,
          -0.3776529281837618,
          -0.4432553557567046,
          -0.3017191462121007,
          0.1289859756117991,
          -0.30179009448651084,
          -0.30181303428168704,
          -0.44275923641214276,
          -0.4167794145024038,
          -0.2713594398603705,
          -0.32731753263907276,
          -0.3364680703939332,
          -0.33696889506951827,
          -0.3398357214318942,
          0.6821284910752465,
          -0.4167200712520255,
          -0.3603937441490653,
          -0.3369243866307039,
          -0.3122190716791522,
          0.43382568844267544,
          -0.3259325443157812,
          -0.3638865265739527,
          -0.4086692929445222,
          -0.3368746092639309,
          -0.4048019055323118,
          -0.33691726181794696,
          -0.33674476363746775,
          -0.08830119933217327,
          -0.415509933695531,
          3.681946392112018,
          0.18156109649660865,
          -0.2984536338177076,
          -0.33419931339955905,
          -0.313578505392989,
          -0.34091086356871614,
          0.07838631048277894,
          -0.3358811531533872,
          -0.41609252777081185,
          -0.34007361382599005,
          -0.3234194955812117,
          -0.33699107206160733,
          -0.35145910263908947,
          -0.3205377230709543,
          -0.26291040857978293,
          -0.2691137450304755,
          -0.3325266220225708,
          -0.2283499189088206,
          -0.386880976772529,
          -0.4167966493087569,
          -0.29143483107484475,
          -0.27051740749932546,
          -0.30150589912607484,
          -0.37875208964036716,
          -0.3370184852044623,
          -0.3370001532449857,
          -0.26488633599292366,
          -0.3406533239751398,
          -0.32691109022770176,
          -0.33671601582626365,
          3.8820823124503643,
          -0.4034672314924041,
          -0.3271001653791991,
          -0.3053989055187292,
          -0.2834632527969958,
          -0.22143746768539083,
          -0.271053004078787,
          -0.13970253066145144,
          -0.2713055205743566,
          -0.3698612445831896,
          -0.3361888219323064,
          -0.2014991754598179,
          2.282440585894363,
          -0.3366082460140076,
          -0.2610112722269592,
          1.003093226415196,
          -0.3700725607627168,
          -0.341024622873236,
          -0.40649004298448366,
          -0.1517455075949302,
          -0.3774856868588329,
          -0.3397413265554517,
          -0.32987776463518426,
          -0.35103555315766627,
          -0.4162688441273206,
          -0.268544777317429,
          -0.32619775390842504,
          -0.37577043783163677,
          -0.3508965174926739,
          -0.19616233396106408,
          -0.3798922720206396,
          -0.16316181749832057,
          -0.2260893800322118,
          0.6349828082331314,
          -0.14098586514060732,
          -0.4057830976233195,
          -0.2834449156793852,
          -0.33672002446300947,
          -0.4062402443280158,
          -0.34114185928087365,
          0.571851581147595,
          -0.35151353162595966,
          -0.33620170999354854,
          -0.2858779035081918,
          -0.32447469039776605,
          -0.4138274542010455,
          -0.4164966007149112,
          3.6942143986492613,
          0.09919542162995147,
          -0.4140313559512802,
          -0.33558560755749833,
          -0.3364127098634406,
          -0.2622284575701702,
          -0.3369322548842902,
          -0.4081060710349001,
          -0.25042893144069783,
          -0.10680949732844561,
          -0.40384432287749655,
          -0.33620906828255315,
          -0.3292581928786615,
          -0.4130577302084993,
          -0.3346446633674965,
          -0.3276935088577651,
          -0.40864056740969945,
          -0.3261097070836295,
          3.6774721473766268,
          -0.07816775099434087,
          -0.33183334100089823,
          -0.36503073573627154,
          -0.30219011208521307,
          3.6873596555726884,
          3.688606309254626,
          -0.24308365034302168,
          -0.3276292466367167,
          -0.3217999451406532,
          2.4483887500036583,
          -0.3350908164129485,
          -0.2717029211303115
         ],
         "y": [
          0.9923983197591466,
          0.9925872908619333,
          1.59999145536084,
          1.1651081024547738,
          1.7101719214936466,
          0.7802864878354383,
          0.6521138732511707,
          1.770294504931878,
          0.9923981039582895,
          0.9926576345334298,
          0.9924485413568762,
          0.9923981100258183,
          0.9923982895980983,
          1.0755992222184316,
          0.8484231771932105,
          1.6525074558181077,
          0.4044632306983299,
          0.9923802425129559,
          1.0376181102394197,
          1.1651116200981828,
          1.867366328809355,
          0.8729070140620823,
          0.7798556989822072,
          0.8642162744442317,
          1.7307681500187424,
          1.7307473653250256,
          0.47126005589220316,
          0.9922984197869623,
          0.9923839884197859,
          1.0043619233121097,
          1.0369538043965918,
          1.165114409755136,
          0.17244578344938993,
          1.6664691009113077,
          1.1651104518267135,
          0.9921200414444186,
          0.9923733982463768,
          0.3345564962643432,
          1.1651147481141149,
          0.1724992614689723,
          1.7307546855134943,
          0.9920044904933027,
          2.5074030384531816,
          1.6122983009308711,
          0.7802810330222757,
          0.8484455263987822,
          0.8642281146861431,
          1.7307365547320437,
          0.8640611815337493,
          0.9923989187830269,
          1.7307395340156992,
          1.0369251239685207,
          0.9923939711430431,
          1.1651150274675317,
          1.9816135719280756,
          1.7297256287743015,
          0.9024584078988389,
          0.8642124081300668,
          1.730727872493921,
          0.7798593036779649,
          1.77043663599036,
          0.8042476325398334,
          0.7802874594456488,
          1.1575423385737673,
          0.7802932785634222,
          1.4517905811794742,
          0.9923829147291444,
          0.8641331319997971,
          1.1649442350133563,
          0.8343367374316802,
          0.7802795721032009,
          1.0773452233221883,
          1.652504215418046,
          1.1651352544598006,
          0.7801952756960855,
          0.7800642873934899,
          1.447674442057841,
          1.165061225201395,
          1.602087726300178,
          0.9918216931758851,
          0.992380029691858,
          0.9923937071219057,
          1.6024710768118096,
          1.0369028056977443,
          1.1650980501192896,
          0.9923750553532407,
          0.7802866590709924,
          1.1651133154375917,
          0.9923898347587099,
          0.9923991114245367,
          0.8642862335050289,
          0.3192651692605278,
          1.8374713948255648,
          1.6525017383893477,
          0.9924120003890347,
          1.164541088766348,
          1.6525476599746538,
          1.6025597657402602,
          1.783169047053421,
          1.6523756883732146,
          1.8355984512138526,
          1.7200392279838,
          1.1651082686708367,
          1.767978731142432,
          1.1651142319889687,
          1.6525028316262904,
          0.9923877881998141,
          0.9923802420323116,
          1.652504215418046,
          1.165089633247243,
          0.7802919374637668,
          0.992391591910761,
          0.6413174455817202,
          0.9923901235107524,
          0.9921072287997676,
          1.1651124710756424,
          0.9923363305380118,
          0.8632470278623706,
          0.9923938321681661,
          0.9923981668157079,
          1.5621543738300327,
          0.5640361164246673,
          0.9921809881229723,
          0.7802874469638134,
          1.165112470382837,
          0.9923940597026041,
          0.9923884828888092,
          0.8641932311775272,
          0.3224458214480396,
          1.6025592110829683,
          0.9923521933692402,
          0.8642160955289057,
          1.1650743590429729,
          1.8251177515325905,
          1.1651095930855,
          1.6525003958362419,
          1.1650777701539412,
          1.6524872674590394,
          1.1649369492287616,
          0.9923908757607873,
          0.99238579759167,
          0.9919443001267084,
          0.6180889120026383,
          1.1651032483761887,
          0.8634290173875492,
          1.6524961595557575,
          0.9923593427281043,
          1.746155763832774,
          0.6520279937976932,
          1.6020825817579907,
          1.8242429902462136,
          1.447678426398766,
          1.4476524459542466,
          1.8187095368537394,
          1.7307362327940408,
          0.9733783474265288,
          1.730741540325111,
          1.6322018506505198,
          1.8187260759924169,
          1.1651152207833733,
          0.8642167310423386,
          1.6524787901720701,
          0.9923843766128708,
          0.992398126030245,
          1.7106572500061346,
          1.5669523868899344,
          1.1651051094561886,
          0.47115329875380235,
          0.9923916388394586,
          0.6900406677227977,
          1.0008189071257383,
          0.780288098089202,
          1.4473649622178837,
          1.795009183471374,
          0.9923896583455967,
          1.690259882466527,
          1.5751712289095408,
          0.9923982800861924,
          0.6516995182527978,
          1.165064590261752,
          1.7199423061054915,
          1.4456441720866828,
          1.7307206928187586,
          0.9923482221914712,
          1.3194927841333195,
          1.5621547300387804,
          0.9716915055652698,
          0.9923336221439171,
          1.1651101340192864,
          1.5621135289942087,
          0.9922307132288486,
          0.9923975249404038,
          1.0369253706274493,
          1.6020841827058088,
          -0.06052953590440292,
          0.35404338803876784,
          0.9923887799915371,
          1.6022904864829908,
          0.8079908655792717,
          1.1651039388213213,
          1.5736246030511383,
          0.8641711320856522,
          1.6483562852909506,
          1.4476641819078748,
          0.9923973021925425,
          0.9923965310763168,
          0.8640989923853791,
          1.605937665847822,
          1.6524740940376106,
          0.9923887252568533,
          1.7938046238531142,
          1.6903043765167522,
          1.6524733198324337,
          0.7158187182337841,
          0.9906448410978133,
          1.3109904607797023,
          0.8642210070975866,
          0.9919278305642136,
          0.8642001487095367,
          1.8385343685829199,
          0.9923689796037282,
          1.6422332391565464,
          0.40527340846480636,
          1.5618627580171154,
          0.6520927068284206,
          1.6381514954690362,
          0.8439962337336943,
          1.5621502465184618,
          1.6903382699241019,
          0.8565501502422047,
          0.8182046680099484,
          1.5621384289509421,
          0.991946301355224,
          1.0369159922694322,
          1.165104256158035,
          0.8641429007542488,
          1.6524135573495857,
          0.8184135587200104,
          1.0368895266998615,
          0.9846548578555909,
          1.9910538644273856,
          0.23346755279519027,
          1.445450445112651,
          1.635286391453192,
          1.0439564339920813,
          1.690328076631017,
          -0.07137560308577266,
          0.992394811741625,
          1.690337001202591,
          1.5621516114865852,
          0.9710022770202406,
          1.0369244545893144,
          0.9923685499542204,
          1.5735057596432858,
          1.8366609106879206,
          1.1649299287381023,
          1.1651104859235406,
          1.720005722574947,
          0.9827520871767306,
          1.1652134035642805,
          0.9923089185258187,
          0.9923820725738626,
          0.652106909554884,
          0.9924022502277188,
          1.1650653726196656,
          0.9880292053777467,
          0.7875308054710577,
          1.1648618843229979,
          0.992415992243316,
          0.9923816307463278,
          1.1651021074395222,
          0.992367931778777,
          1.6525026093727713,
          0.6761022946919786,
          0.7802787363884774,
          1.7200281868714085,
          0.8637518433483798,
          0.9923648954442912,
          0.47123358142037136,
          1.7307411829979769,
          1.720468330422189,
          1.7205098901363063,
          0.6520685293916845,
          1.652505004538302,
          1.8113564418800088,
          0.7339219686152575,
          0.9922908571598243,
          0.8642166189154685
         ],
         "z": [
          -0.6021111964966245,
          -0.6025906465295586,
          -0.6841483951078673,
          -0.4888636640861488,
          -0.07483509517089301,
          -0.4031260186335309,
          -0.12451790052596622,
          -0.6701867832132251,
          -0.6021199103209484,
          -0.602380015518751,
          -0.6021632587678427,
          -0.602111245550939,
          -0.6021116982018783,
          -0.4726706556373864,
          -0.46946685899550206,
          -0.1795350596653881,
          -0.3278733892642244,
          -0.6021564159669013,
          -0.21095652504078363,
          -0.48886731065639416,
          -0.6086309720292877,
          -0.3325076335162461,
          -0.40395713428138186,
          -0.323506989275278,
          -0.6522732020026709,
          -0.6522516555191705,
          -0.29295163597191193,
          -0.6022314925586196,
          -0.6021485732957018,
          -0.6145132838021685,
          -0.21026787140572004,
          -0.4888584772203392,
          0.0673112382143595,
          -0.29988724456956506,
          -0.4888597036363785,
          -0.6026755094698918,
          -0.6021386609650429,
          -0.3462222779901674,
          -0.48886175891544553,
          0.06730909956012067,
          -0.6522592440033792,
          -0.6022359269220002,
          -0.5194471090713605,
          -0.187490450173638,
          -0.4031448816237888,
          -0.46948769281820335,
          -0.32351063963440796,
          -0.6522468446316257,
          -0.32360408520444994,
          -0.6021118174532263,
          -0.6522488671221583,
          -0.2102487996802967,
          -0.6021173483576961,
          -0.4888591170398137,
          -0.3708479938063971,
          -0.7221550119447742,
          -0.18285347130228805,
          -0.32354765682371023,
          -0.6522580979539101,
          -0.4032044458124692,
          -0.6701615923165476,
          -0.41828616992867995,
          -0.4031270258546937,
          -0.49515987228249986,
          -0.4031269288191462,
          -0.60271990922539,
          -0.6021176125809239,
          -0.3235299954493161,
          -0.4888867345388251,
          -0.34529011893125044,
          -0.4031284433239751,
          -0.45430548090197814,
          -0.17954236038264884,
          -0.4889200599417099,
          -0.40313844868284354,
          -0.4031637702684837,
          -0.5985008769860497,
          -0.4888774290263271,
          -0.19759209803210354,
          -0.6025794239514054,
          -0.602115865455565,
          -0.602159714190915,
          -0.3736477259518622,
          -0.2105651806784267,
          -0.4888681671535856,
          -0.6021350488659355,
          -0.4031256631509826,
          -0.4888589412438599,
          -0.6021135933628949,
          -0.6021120171553328,
          -0.32357088859401534,
          -0.28482700488794427,
          -0.7344877518491685,
          -0.17956857425068995,
          -0.6021253785194537,
          -0.48906363384440676,
          -0.17959805707496546,
          -0.3736343991844235,
          -0.8133385878620784,
          -0.17955889398448635,
          -0.7258869333093676,
          -0.10596054914570903,
          -0.4888681003473883,
          -0.6913006510100878,
          -0.48886034620637214,
          -0.17955691569704846,
          -0.602120820511785,
          -0.6021148419257965,
          -0.17954236038264884,
          -0.4888647717321119,
          -0.40313060201052436,
          -0.602121810846837,
          -0.0055482241621563665,
          -0.6021176236570996,
          -0.6021562344779017,
          -0.4888591319230741,
          -0.6021236864124276,
          -0.33982385466416754,
          -0.6021134733302107,
          -0.6021128052212958,
          -0.27032313475598224,
          -0.36509543849654674,
          -0.6021523963814808,
          -0.40312647992124145,
          -0.48886145186135743,
          -0.6021174401630957,
          -0.6021126894059803,
          -0.3235037922712245,
          -0.348318555947857,
          -0.3736402333073928,
          -0.6025963736229009,
          -0.32351652903895783,
          -0.48887025747121315,
          -0.8132113853226461,
          -0.48891211283493125,
          -0.17958652486432167,
          -0.4888737936044466,
          -0.17972732902869443,
          -0.4889410090395699,
          -0.6021147855784882,
          -0.6021134589831643,
          -0.6021735304893959,
          -0.12921377209478943,
          -0.4888682259929022,
          -0.3237482425152989,
          -0.17953933920247694,
          -0.6021267552619202,
          -0.6929462460938757,
          -0.12452885474260088,
          -0.19762220904507735,
          -0.7437995252525603,
          -0.5984623678278441,
          -0.5984940645168777,
          -0.696475385052435,
          -0.6522561047886213,
          -0.6090438209595087,
          -0.6522556896476291,
          -0.34288398843388906,
          -0.6964925303750208,
          -0.4888643847606882,
          -0.32350811600120416,
          -0.1795381758013111,
          -0.6021224603242096,
          -0.6021132342202659,
          -0.07346783848947068,
          -0.2816939803895405,
          -0.48886322636043145,
          -0.2930521542941065,
          -0.6021126564632294,
          -0.03824819493152048,
          -0.624165264304936,
          -0.4031692614483218,
          -0.5987716777462816,
          -0.5776773285823148,
          -0.6021134104839796,
          -0.5489552278548769,
          -0.15645241911641813,
          -0.6021190374116373,
          -0.12887864362819246,
          -0.48888358239182084,
          -0.10605994773926292,
          -0.6123380493141212,
          -0.652335934195272,
          -0.6021711915257606,
          -0.31985525058828623,
          -0.27032616899100237,
          -0.6072951538477034,
          -0.6021240767165155,
          -0.4888806939464001,
          -0.2703367572810775,
          -0.6024171416416849,
          -0.6021125045007648,
          -0.2102495883737792,
          -0.19758389410957447,
          0.10484458031400941,
          -0.317251451376614,
          -0.6022249617002781,
          -0.37378031320365407,
          -0.5249707627133512,
          -0.48886094683178544,
          -0.4866559074784204,
          -0.3235176598105206,
          -0.2213057637238965,
          -0.5984689210208426,
          -0.6021117405947256,
          -0.6021120072042269,
          -0.3236432818797475,
          -0.23933401743566657,
          -0.17954737861049877,
          -0.6021172401434041,
          -0.19565548673852612,
          -0.5490013526778894,
          -0.17954231207644514,
          -0.10003321426236074,
          -0.6030234202056483,
          -0.18065277609293762,
          -0.32351712938982724,
          -0.6070600033720922,
          -0.32350510040548974,
          -0.7249831018012121,
          -0.6021255524663778,
          -0.3915605799814017,
          -0.5520236990943506,
          -0.27035928207024484,
          -0.1245427350633913,
          -0.13343581702587298,
          -0.3786613615656105,
          -0.2703220541371682,
          -0.5489326349537812,
          -0.3245482074978388,
          -0.3168575099038718,
          -0.2703519099752934,
          -0.6021756050658975,
          -0.2102579880857888,
          -0.48887460065283567,
          -0.3235608809619495,
          -0.17954964844823143,
          -0.4228204908234877,
          -0.21025453725018287,
          -0.6036778197349318,
          0.17527039954124113,
          0.06074491927944876,
          -0.20804592295335061,
          -0.1156894848926291,
          -0.2175271577389688,
          -0.5489481042921177,
          0.10023809894366086,
          -0.6021187527595989,
          -0.5489387203548375,
          -0.27031940238811275,
          -0.61979891870434,
          -0.21024794586911003,
          -0.6021251070695796,
          -0.4867672257049664,
          -0.7256526501830819,
          -0.48889109170641676,
          -0.4888703988656853,
          -0.10639218558568495,
          -0.610766210058235,
          -0.4889610987660943,
          -0.6021251173812063,
          -0.6021232719989992,
          -0.12451521205008727,
          -0.6021152710002964,
          -0.48907413933780214,
          -0.6031783860447327,
          -0.41072539424660753,
          -0.4891296899634349,
          -0.6021375115931873,
          -0.6023070934400081,
          -0.4889565862545753,
          -0.6021649737916573,
          -0.17953483253790922,
          -0.009418772892677257,
          -0.40316222159810694,
          -0.1059677146627538,
          -0.3283515629792086,
          -0.6022364453504824,
          -0.2929542510522454,
          -0.6522453105599825,
          -0.10633875455610978,
          -0.10638183749525329,
          -0.12499722645921352,
          -0.17953712048856574,
          -0.06664632962288929,
          -0.09796241575625585,
          -0.6021330437463707,
          -0.32349925552086495
         ]
        },
        {
         "customdata": [
          [
           "SHA-256"
          ],
          [
           "Ethash"
          ],
          [
           "Scrypt"
          ],
          [
           "CryptoNight-V7"
          ],
          [
           "Ethash"
          ],
          [
           "Equihash"
          ],
          [
           "Multiple"
          ],
          [
           "Scrypt"
          ],
          [
           "X11"
          ],
          [
           "Scrypt"
          ],
          [
           "Multiple"
          ],
          [
           "Scrypt"
          ],
          [
           "SHA-256"
          ],
          [
           "Scrypt"
          ],
          [
           "Scrypt"
          ],
          [
           "Quark"
          ],
          [
           "Groestl"
          ],
          [
           "Scrypt"
          ],
          [
           "Scrypt"
          ],
          [
           "Scrypt"
          ],
          [
           "X11"
          ],
          [
           "Multiple"
          ],
          [
           "SHA-256"
          ],
          [
           "Scrypt"
          ],
          [
           "Scrypt"
          ],
          [
           "Scrypt"
          ],
          [
           "Scrypt"
          ],
          [
           "Scrypt"
          ],
          [
           "NeoScrypt"
          ],
          [
           "Scrypt"
          ],
          [
           "Scrypt"
          ],
          [
           "Scrypt"
          ],
          [
           "Scrypt"
          ],
          [
           "SHA-256"
          ],
          [
           "Scrypt"
          ],
          [
           "Scrypt"
          ],
          [
           "Scrypt"
          ],
          [
           "Scrypt"
          ],
          [
           "HybridScryptHash256"
          ],
          [
           "Scrypt"
          ],
          [
           "Scrypt"
          ],
          [
           "SHA-256"
          ],
          [
           "Scrypt"
          ],
          [
           "Scrypt"
          ],
          [
           "Scrypt"
          ],
          [
           "Scrypt"
          ],
          [
           "SHA-256"
          ],
          [
           "SHA-256"
          ],
          [
           "SHA-256"
          ],
          [
           "SHA-256"
          ],
          [
           "SHA-256"
          ],
          [
           "X11"
          ],
          [
           "Scrypt"
          ],
          [
           "Lyra2REv2"
          ],
          [
           "Scrypt"
          ],
          [
           "SHA-256"
          ],
          [
           "CryptoNight"
          ],
          [
           "CryptoNight"
          ],
          [
           "Scrypt"
          ],
          [
           "Scrypt"
          ],
          [
           "Scrypt"
          ],
          [
           "Scrypt"
          ],
          [
           "Scrypt"
          ],
          [
           "Scrypt"
          ],
          [
           "Stanford Folding"
          ],
          [
           "Multiple"
          ],
          [
           "QuBit"
          ],
          [
           "Scrypt"
          ],
          [
           "Scrypt"
          ],
          [
           "M7 POW"
          ],
          [
           "Scrypt"
          ],
          [
           "SHA-256"
          ],
          [
           "Scrypt"
          ],
          [
           "X11"
          ],
          [
           "Lyra2RE"
          ],
          [
           "SHA-256"
          ],
          [
           "X11"
          ],
          [
           "Scrypt"
          ],
          [
           "Scrypt"
          ],
          [
           "Ethash"
          ],
          [
           "Blake2b"
          ],
          [
           "X11"
          ],
          [
           "SHA-256"
          ],
          [
           "Scrypt"
          ],
          [
           "1GB AES Pattern Search"
          ],
          [
           "Scrypt"
          ],
          [
           "SHA-256"
          ],
          [
           "X11"
          ],
          [
           "Dagger"
          ],
          [
           "Scrypt"
          ],
          [
           "X11GOST"
          ],
          [
           "Scrypt"
          ],
          [
           "X11"
          ],
          [
           "Scrypt"
          ],
          [
           "X11"
          ],
          [
           "Equihash"
          ],
          [
           "CryptoNight"
          ],
          [
           "SHA-256"
          ],
          [
           "Multiple"
          ],
          [
           "Scrypt"
          ],
          [
           "SHA-256"
          ],
          [
           "Scrypt"
          ],
          [
           "Lyra2Z"
          ],
          [
           "Ethash"
          ],
          [
           "Equihash"
          ],
          [
           "Scrypt"
          ],
          [
           "X11"
          ],
          [
           "X11"
          ],
          [
           "CryptoNight"
          ],
          [
           "Scrypt"
          ],
          [
           "CryptoNight"
          ],
          [
           "Lyra2RE"
          ],
          [
           "X11"
          ],
          [
           "CryptoNight-V7"
          ],
          [
           "Scrypt"
          ],
          [
           "X11"
          ],
          [
           "Equihash"
          ],
          [
           "Scrypt"
          ],
          [
           "Lyra2RE"
          ],
          [
           "Dagger-Hashimoto"
          ],
          [
           "Scrypt"
          ],
          [
           "NIST5"
          ],
          [
           "Scrypt"
          ],
          [
           "SHA-256"
          ],
          [
           "Scrypt"
          ],
          [
           "CryptoNight-V7"
          ],
          [
           "Argon2d"
          ],
          [
           "Blake2b"
          ],
          [
           "Cloverhash"
          ],
          [
           "CryptoNight"
          ],
          [
           "X11"
          ],
          [
           "Scrypt"
          ],
          [
           "Scrypt"
          ],
          [
           "X11"
          ],
          [
           "X11"
          ],
          [
           "CryptoNight"
          ],
          [
           "Time Travel"
          ],
          [
           "Scrypt"
          ],
          [
           "Keccak"
          ],
          [
           "X11"
          ],
          [
           "SHA-256"
          ],
          [
           "Scrypt"
          ],
          [
           "Scrypt"
          ],
          [
           "Scrypt"
          ],
          [
           "Scrypt"
          ],
          [
           "Scrypt"
          ],
          [
           "Scrypt"
          ],
          [
           "CryptoNight"
          ],
          [
           "Equihash"
          ],
          [
           "X11"
          ],
          [
           "NeoScrypt"
          ],
          [
           "Equihash"
          ],
          [
           "Dagger"
          ],
          [
           "Scrypt"
          ],
          [
           "X11"
          ],
          [
           "NeoScrypt"
          ],
          [
           "Ethash"
          ],
          [
           "NeoScrypt"
          ],
          [
           "Multiple"
          ],
          [
           "CryptoNight"
          ],
          [
           "CryptoNight"
          ],
          [
           "Ethash"
          ],
          [
           "X11"
          ],
          [
           "CryptoNight-V7"
          ],
          [
           "Scrypt"
          ],
          [
           "BLAKE256"
          ],
          [
           "X11"
          ],
          [
           "NeoScrypt"
          ],
          [
           "NeoScrypt"
          ],
          [
           "Scrypt"
          ],
          [
           "X11"
          ],
          [
           "SHA-256"
          ],
          [
           "C11"
          ],
          [
           "CryptoNight"
          ],
          [
           "SkunkHash"
          ],
          [
           "CryptoNight"
          ],
          [
           "Scrypt"
          ],
          [
           "Dagger"
          ],
          [
           "Lyra2REv2"
          ],
          [
           "Scrypt"
          ],
          [
           "Scrypt"
          ],
          [
           "X11"
          ],
          [
           "Ethash"
          ],
          [
           "CryptoNight"
          ],
          [
           "Scrypt"
          ],
          [
           "IMesh"
          ],
          [
           "Equihash"
          ],
          [
           "Lyra2Z"
          ],
          [
           "X11"
          ],
          [
           "CryptoNight"
          ],
          [
           "NIST5"
          ],
          [
           "Lyra2RE"
          ],
          [
           "Tribus"
          ],
          [
           "Lyra2Z"
          ],
          [
           "CryptoNight"
          ],
          [
           "CryptoNight Heavy"
          ],
          [
           "CryptoNight"
          ],
          [
           "Jump Consistent Hash"
          ],
          [
           "CryptoNight"
          ],
          [
           "X16R"
          ],
          [
           "HMQ1725"
          ],
          [
           "X11"
          ],
          [
           "Scrypt"
          ],
          [
           "CryptoNight-V7"
          ],
          [
           "Cryptonight-GPU"
          ],
          [
           "XEVAN"
          ],
          [
           "CryptoNight Heavy"
          ],
          [
           "SHA-256"
          ],
          [
           "X11"
          ],
          [
           "X16R"
          ],
          [
           "Equihash"
          ],
          [
           "Lyra2Z"
          ],
          [
           "SHA-256"
          ],
          [
           "CryptoNight"
          ],
          [
           "Blake"
          ],
          [
           "Blake"
          ],
          [
           "Exosis"
          ],
          [
           "Scrypt"
          ],
          [
           "Equihash"
          ],
          [
           "Equihash"
          ],
          [
           "QuBit"
          ],
          [
           "SHA-256"
          ],
          [
           "X13"
          ],
          [
           "SHA-256"
          ],
          [
           "Scrypt"
          ],
          [
           "NeoScrypt"
          ],
          [
           "Blake"
          ],
          [
           "Scrypt"
          ],
          [
           "SHA-256"
          ],
          [
           "Scrypt"
          ],
          [
           "Groestl"
          ],
          [
           "Scrypt"
          ],
          [
           "Scrypt"
          ],
          [
           "Multiple"
          ],
          [
           "Equihash+Scrypt"
          ],
          [
           "Ethash"
          ],
          [
           "CryptoNight"
          ],
          [
           "Equihash"
          ]
         ],
         "hovertemplate": "<b>%{hovertext}</b><br><br>Class=%{marker.color}<br>PC 1=%{x}<br>PC 2=%{y}<br>PC 3=%{z}<br>Algorithm=%{customdata[0]}<extra></extra>",
         "hovertext": [
          "Bitcoin",
          "Ethereum",
          "Litecoin",
          "Monero",
          "Ethereum Classic",
          "ZCash",
          "DigiByte",
          "ProsperCoin",
          "Spreadcoin",
          "Argentum",
          "MyriadCoin",
          "MoonCoin",
          "ZetaCoin",
          "SexCoin",
          "Quatloo",
          "QuarkCoin",
          "Riecoin",
          "Digitalcoin ",
          "Catcoin",
          "CannaCoin",
          "CryptCoin",
          "Verge",
          "DevCoin",
          "EarthCoin",
          "E-Gulden",
          "Einsteinium",
          "Emerald",
          "Franko",
          "FeatherCoin",
          "GrandCoin",
          "GlobalCoin",
          "GoldCoin",
          "Infinite Coin",
          "IXcoin",
          "KrugerCoin",
          "LuckyCoin",
          "Litebar ",
          "MegaCoin",
          "MediterraneanCoin",
          "MinCoin",
          "NobleCoin",
          "Namecoin",
          "NyanCoin",
          "RonPaulCoin",
          "StableCoin",
          "SmartCoin",
          "SysCoin",
          "TigerCoin",
          "TerraCoin",
          "UnbreakableCoin",
          "Unobtanium",
          "UroCoin",
          "ViaCoin",
          "Vertcoin",
          "WorldCoin",
          "JouleCoin",
          "ByteCoin",
          "DigitalNote ",
          "MonaCoin",
          "Gulden",
          "PesetaCoin",
          "Wild Beast Coin",
          "Flo",
          "ArtByte",
          "Folding Coin",
          "Unitus",
          "CypherPunkCoin",
          "OmniCron",
          "GreenCoin",
          "Cryptonite",
          "MasterCoin",
          "SoonCoin",
          "1Credit",
          "MarsCoin ",
          "Crypto",
          "Anarchists Prime",
          "BowsCoin",
          "Song Coin",
          "BitZeny",
          "Expanse",
          "Siacoin",
          "MindCoin",
          "I0coin",
          "Revolution VR",
          "HOdlcoin",
          "Gamecredits",
          "CarpeDiemCoin",
          "Adzcoin",
          "SoilCoin",
          "YoCoin",
          "SibCoin",
          "Francs",
          "BolivarCoin",
          "Omni",
          "PizzaCoin",
          "Komodo",
          "Karbo",
          "ZayedCoin",
          "Circuits of Value",
          "DopeCoin",
          "DollarCoin",
          "Shilling",
          "ZCoin",
          "Elementrem",
          "ZClassic",
          "KiloCoin",
          "ArtexCoin",
          "Kurrent",
          "Cannabis Industry Coin",
          "OsmiumCoin",
          "Bikercoins",
          "HexxCoin",
          "PacCoin",
          "Citadel",
          "BeaverCoin",
          "VaultCoin",
          "Zero",
          "Canada eCoin",
          "Zoin",
          "DubaiCoin",
          "EB3coin",
          "Coinonat",
          "BenjiRolls",
          "ILCoin",
          "EquiTrader",
          "Quantum Resistant Ledger",
          "Dynamic",
          "Nano",
          "ChanCoin",
          "Dinastycoin",
          "DigitalPrice",
          "Unify",
          "SocialCoin",
          "ArcticCoin",
          "DAS",
          "LeviarCoin",
          "Bitcore",
          "gCn Coin",
          "SmartCash",
          "Onix",
          "Bitcoin Cash",
          "Sojourn Coin",
          "NewYorkCoin",
          "FrazCoin",
          "Kronecoin",
          "AdCoin",
          "Linx",
          "Sumokoin",
          "BitcoinZ",
          "Elements",
          "VIVO Coin",
          "Bitcoin Gold",
          "Pirl",
          "eBoost",
          "Pura",
          "Innova",
          "Ellaism",
          "GoByte",
          "SHIELD",
          "UltraNote",
          "BitCoal",
          "DaxxCoin",
          "AC3",
          "Lethean",
          "PopularCoin",
          "Photon",
          "Sucre",
          "SparksPay",
          "GunCoin",
          "IrishCoin",
          "Pioneer Coin",
          "UnitedBitcoin",
          "Interzone",
          "TurtleCoin",
          "MUNcoin",
          "Niobio Cash",
          "ShareChain",
          "Travelflex",
          "KREDS",
          "BitFlip",
          "LottoCoin",
          "Crypto Improvement Fund",
          "Callisto Network",
          "BitTube",
          "Poseidon",
          "Aidos Kuneen",
          "Bitrolium",
          "Alpenschillling",
          "FuturoCoin",
          "Monero Classic",
          "Jumpcoin",
          "Infinex",
          "KEYCO",
          "GINcoin",
          "PlatinCoin",
          "Loki",
          "Newton Coin",
          "MassGrid",
          "PluraCoin",
          "Motion",
          "PlusOneCoin",
          "Axe",
          "HexCoin",
          "Webchain",
          "Ryo",
          "Urals Coin",
          "Qwertycoin",
          "Project Pai",
          "Azart",
          "Xchange",
          "CrypticCoin",
          "Actinium",
          "Bitcoin SV",
          "FREDEnergy",
          "Universal Molecule",
          "Lithium",
          "Exosis",
          "Block-Logic",
          "Beam",
          "Bithereum",
          "SLICE",
          "BLAST",
          "Bitcoin Rhodium",
          "GlobalToken",
          "SolarCoin",
          "UFO Coin",
          "BlakeCoin",
          "Crypto Escudo",
          "Crown Coin",
          "SmileyCoin",
          "Groestlcoin",
          "Bata",
          "Pakcoin",
          "JoinCoin",
          "Vollar",
          "Reality Clash",
          "Beldex",
          "Horizen"
         ],
         "legendgroup": "1",
         "marker": {
          "color": [
           1,
           1,
           1,
           1,
           1,
           1,
           1,
           1,
           1,
           1,
           1,
           1,
           1,
           1,
           1,
           1,
           1,
           1,
           1,
           1,
           1,
           1,
           1,
           1,
           1,
           1,
           1,
           1,
           1,
           1,
           1,
           1,
           1,
           1,
           1,
           1,
           1,
           1,
           1,
           1,
           1,
           1,
           1,
           1,
           1,
           1,
           1,
           1,
           1,
           1,
           1,
           1,
           1,
           1,
           1,
           1,
           1,
           1,
           1,
           1,
           1,
           1,
           1,
           1,
           1,
           1,
           1,
           1,
           1,
           1,
           1,
           1,
           1,
           1,
           1,
           1,
           1,
           1,
           1,
           1,
           1,
           1,
           1,
           1,
           1,
           1,
           1,
           1,
           1,
           1,
           1,
           1,
           1,
           1,
           1,
           1,
           1,
           1,
           1,
           1,
           1,
           1,
           1,
           1,
           1,
           1,
           1,
           1,
           1,
           1,
           1,
           1,
           1,
           1,
           1,
           1,
           1,
           1,
           1,
           1,
           1,
           1,
           1,
           1,
           1,
           1,
           1,
           1,
           1,
           1,
           1,
           1,
           1,
           1,
           1,
           1,
           1,
           1,
           1,
           1,
           1,
           1,
           1,
           1,
           1,
           1,
           1,
           1,
           1,
           1,
           1,
           1,
           1,
           1,
           1,
           1,
           1,
           1,
           1,
           1,
           1,
           1,
           1,
           1,
           1,
           1,
           1,
           1,
           1,
           1,
           1,
           1,
           1,
           1,
           1,
           1,
           1,
           1,
           1,
           1,
           1,
           1,
           1,
           1,
           1,
           1,
           1,
           1,
           1,
           1,
           1,
           1,
           1,
           1,
           1,
           1,
           1,
           1,
           1,
           1,
           1,
           1,
           1,
           1,
           1,
           1,
           1,
           1,
           1,
           1,
           1,
           1,
           1,
           1,
           1,
           1,
           1,
           1,
           1,
           1,
           1,
           1,
           1,
           1,
           1,
           1,
           1,
           1,
           1,
           1,
           1,
           1,
           1,
           1,
           1,
           1,
           1,
           1
          ],
          "coloraxis": "coloraxis",
          "symbol": "diamond"
         },
         "mode": "markers",
         "name": "1",
         "scene": "scene",
         "showlegend": true,
         "type": "scatter3d",
         "x": [
          -0.14641870321220393,
          -0.14597942465199723,
          -0.15469890926845456,
          -0.1455110126491117,
          -0.144417637438941,
          -0.16847236027343174,
          0.17706732580972578,
          -0.15584768832199297,
          -0.2357396045608986,
          -0.15546331508865055,
          -0.07691434859387163,
          2.572728711245523,
          -0.14349721441932342,
          -0.152712533274528,
          -0.155266837561709,
          -0.22068386016827113,
          -0.21049809133138134,
          -0.1553158587939462,
          -0.15582991789350803,
          -0.15591657366626793,
          -0.23582913631058974,
          0.20085250546029784,
          0.23226507253727205,
          0.09336389458730456,
          -0.155662324460498,
          -0.1512578004886706,
          -0.1556014616283722,
          -0.15597369929768748,
          -0.1795472637305178,
          -0.13514925483243675,
          -0.1547661587464085,
          -0.15504417012007288,
          1.5967917368656372,
          -0.14637999324993137,
          -0.15232743212488511,
          -0.15568882329605557,
          -0.15604442018784923,
          -0.15530203019338668,
          -0.14557794218099768,
          -0.15592541755471515,
          -0.020509572025665408,
          -0.14645776329551743,
          -0.14957536445344286,
          -0.15590478485443682,
          -0.15399454071171637,
          -0.15539038558923682,
          -0.13358092809476263,
          -0.14592035399993122,
          -0.14620816369888223,
          -0.14619100361462997,
          -0.14678315492079494,
          -0.23600344020652514,
          -0.15562068581163763,
          -0.19581598254903454,
          -0.15271721226876195,
          -0.1459877929089194,
          3.869014074472878,
          0.4604877143477898,
          -0.15448571491836155,
          -0.13904840211861041,
          -0.15320172216371555,
          -0.15604663033936028,
          -0.15306650266004737,
          -0.139259395106697,
          -0.13225741276332817,
          -0.11099661635297832,
          -0.19197656406518976,
          -0.15591944495945612,
          -0.028567340310982743,
          -0.10524484667221466,
          -0.15605554697469737,
          -0.14648559792385787,
          0.49770764715973004,
          -0.23538927110420294,
          -0.15178695906403578,
          -0.14622483065714634,
          -0.235674790310697,
          -0.15417486629723404,
          -0.15336533255563442,
          -0.14704902863172908,
          0.3870980706723067,
          -0.2357102742899319,
          -0.1463811179087392,
          -0.15200449317285702,
          -0.09403837918703783,
          -0.1546157050973711,
          0.27302545472851397,
          -0.23486907437721657,
          -0.14940271656759319,
          -0.15486339643819869,
          -0.1654803620238475,
          -0.15584497073403644,
          -0.2356734162119161,
          -0.15605560559855083,
          -0.23582369570426145,
          -0.35386018579855005,
          0.3050446841394155,
          -0.14664177022054944,
          -0.09102465071364912,
          -0.15321591588109004,
          -0.14660031221269018,
          -0.15571822888601777,
          -0.15104267302982527,
          -0.14679062849520164,
          -0.16849402180129042,
          -0.08260213575961528,
          -0.22237804893482344,
          -0.23364679538345426,
          0.3050390679806761,
          -0.15603729986833387,
          0.30517006432675986,
          -0.15232867548296383,
          0.48117930355472016,
          -0.1442726455027862,
          -0.15600551991101846,
          -0.22854001275775054,
          -0.1685064335216968,
          -0.15413466880340362,
          -0.1520464446866082,
          -0.1410377369389427,
          -0.12685793559162017,
          -0.1978267491191448,
          -0.15556690481066096,
          -0.11289049719258469,
          -0.1553884993099026,
          -0.1441303173899957,
          -0.15051927528316217,
          -0.014027620537154133,
          -0.1527163264292937,
          0.3412410551149906,
          -0.23487743946242234,
          -0.15570856823714163,
          -0.15547130283930927,
          -0.23527304583199912,
          -0.23585180339917408,
          0.305434962529635,
          -0.14604893324946855,
          3.2612302769844344,
          -0.134481234418031,
          -0.22670206170259513,
          -0.14641786570977372,
          -0.08144607047494092,
          1.5945580787852858,
          -0.15580661503847798,
          -0.15525694710866098,
          -0.1549572613748239,
          -0.15494416540930814,
          0.3056190497447641,
          0.04431664712162115,
          -0.19013980064885763,
          -0.1842465305003047,
          -0.16835215660343983,
          -0.14815889871727225,
          -0.15413287427331893,
          -0.2313861189633308,
          -0.18409157298875717,
          -0.1451517430190726,
          -0.1841920219444579,
          -0.10120644999647521,
          1.1449479740452884,
          0.30502177795989205,
          -0.06985871484136999,
          -0.23112659129033594,
          -0.13321743190555072,
          -0.07200829952123089,
          1.0858738046466978,
          -0.23582574593633082,
          -0.18424410123075216,
          -0.17726628036503572,
          -0.15505594938292974,
          -0.23575099077150868,
          -0.14639722309214592,
          -0.205864205161398,
          8.061632887599686,
          -0.1522453996813543,
          0.3089051027891714,
          0.03741053140147473,
          -0.1476612524039814,
          -0.18134141876168622,
          -0.15563092314967109,
          0.15212959986343175,
          -0.22987848543951755,
          -0.09807592256108968,
          0.31296402927047356,
          -0.15586847569920625,
          -0.14731361052423458,
          -0.16734103188080948,
          -0.14882083156133374,
          -0.23491829585863125,
          0.3052046892299618,
          -0.19788641040376986,
          -0.15217354915005715,
          -0.13186228144304296,
          -0.15112725418961537,
          0.3091426426836608,
          0.5960258291266972,
          2.1179356620366905,
          -0.1491278965506608,
          0.3188404323755262,
          -0.18987218141719078,
          -0.1457395241021666,
          -0.23580786601156162,
          -0.15589310503153242,
          -0.13309493516353788,
          -0.14168843578102103,
          -0.10921088827962476,
          3.1242995457595635,
          -0.10615699753335833,
          -0.23577916132264023,
          -0.18929850471682666,
          -0.06286014811279883,
          -0.1505235580895246,
          -0.14641790335258942,
          0.3851519596353608,
          -0.14029753252444882,
          -0.1406905905412762,
          -0.1528447080598742,
          -0.15478284348896867,
          -0.16640758042328582,
          -0.16818460312476324,
          -0.19118562918237564,
          -0.14569243312036587,
          -0.12118081551542847,
          -0.1445577457366313,
          0.5417348361675898,
          -0.10924430141454974,
          -0.09103425594172965,
          -0.13941029138424804,
          -0.14620753285320676,
          0.5613988413075389,
          -0.2100581277573167,
          -0.15597015011637666,
          -0.15392114992320202,
          -0.11173300748442383,
          -0.13038960513954898,
          -0.14682386018954796,
          0.3268276408952239,
          -0.16847341939843533
         ],
         "y": [
          -1.330258206247822,
          -2.0428561549963713,
          -1.1181660472412651,
          -2.2074949529733408,
          -2.0429492258216646,
          -2.0537105741431625,
          -1.8147960378352854,
          -1.1181608032619774,
          -0.9454420629257998,
          -1.1181777077599753,
          -1.8101316630055293,
          -1.2925755128430165,
          -1.3302636488089739,
          -1.1182145540641761,
          -1.1181960382684983,
          -0.4202200131286577,
          -1.2621460543629628,
          -1.118161848741284,
          -1.1181602108489128,
          -1.1181576674550244,
          -0.9454436653981411,
          -1.8109310623824522,
          -1.332133120534925,
          -1.1191685001854246,
          -1.1181546237839042,
          -1.1182004704026594,
          -1.1181601971684967,
          -1.1181582558227872,
          -1.6393589462325897,
          -1.118438083782479,
          -1.1181586133948023,
          -1.1181694335228536,
          -1.1223344028795876,
          -1.3302569157731803,
          -1.1182123736340088,
          -1.118154816051489,
          -1.1181537811184028,
          -1.1181571262631562,
          -2.202900304432385,
          -1.1181557921528569,
          -1.1240013885916058,
          -1.3302595083944577,
          -1.118170098050064,
          -1.1181627066900102,
          -1.1182572923670089,
          -1.1181664301140941,
          -1.3304294380960389,
          -1.3302595702811408,
          -1.3302657011037438,
          -1.330291391769834,
          -1.3302560151463985,
          -0.9454370359284404,
          -1.118154617924647,
          -1.292346135540674,
          -1.1182253677410197,
          -1.3302604279727128,
          -2.325371731743332,
          -2.3184231027837146,
          -1.1181735365277914,
          -1.118747340777453,
          -1.1181730744757883,
          -1.1181547380554075,
          -1.1181641531397482,
          -1.1182844099744642,
          -2.1777662832361635,
          -1.8098856150635516,
          -1.5464897513251739,
          -1.1181510118127589,
          -1.1208143878996453,
          -2.1430284266000643,
          -1.1181536471706042,
          -1.3302604363179162,
          -1.159942161435374,
          -0.9454393684725192,
          -2.229634934591098,
          -1.3302743843548628,
          -0.9454405933366135,
          -1.1182358247727229,
          -1.1182363164444524,
          -2.042903496827341,
          -2.176844820772199,
          -0.9454383206439628,
          -1.3302569532659496,
          -1.1181633051386077,
          -1.1502251130374996,
          -1.1181632734624567,
          -1.3312071284793368,
          -0.945457274016727,
          -2.2296270684996804,
          -1.118229828005201,
          -2.2115829652458308,
          -1.1181600215411744,
          -0.9454433120263754,
          -1.1181536470308415,
          -0.9454483218962617,
          -1.4764198532902733,
          -2.3167007755717366,
          -1.3302578578096236,
          -1.810049158754174,
          -1.1181967791118912,
          -1.3302570993236196,
          -1.1181627075914098,
          -2.2016949050557058,
          -2.042901309402912,
          -2.05371129627387,
          -1.1226157467563667,
          -0.9453283683019652,
          -0.9455160488141523,
          -2.3167085651675303,
          -1.1181544866397142,
          -2.316706962638321,
          -2.229614436584039,
          -0.9906407560013333,
          -2.2075815275454476,
          -1.118153873459543,
          -0.945879352054844,
          -2.0537089455454796,
          -1.1181582951401465,
          -2.229612630221889,
          -2.2100182771992976,
          -1.1199443559032338,
          -0.6628884580021643,
          -1.1181614781820923,
          -1.3308537736043997,
          -1.1181807426213706,
          -2.2075214927885174,
          -2.198086657146657,
          -2.1904523319696105,
          -2.148671775209073,
          -2.316869434375035,
          -0.9454686108761717,
          -1.1181549744676524,
          -1.1181855764175672,
          -0.9454541542310061,
          -0.9454450430633188,
          -2.316718174333953,
          -2.1697179705333163,
          -1.142456011599512,
          -1.2933306092614916,
          -0.9458871927034496,
          -1.3302581783279914,
          -1.1229227692535901,
          -1.0597929840545082,
          -1.1181587428767261,
          -1.1181846505578408,
          -1.1181857179221093,
          -1.1181852813416935,
          -2.316736149981746,
          -2.0611159250272353,
          -0.9451521031809296,
          -1.6393020482860612,
          -2.0537065669114565,
          -2.229672897004872,
          -1.1181582353158679,
          -0.9455250018000119,
          -1.6393093227064934,
          -2.0430220774283803,
          -1.6393035485311844,
          -1.8100153823172227,
          -2.3474395796180576,
          -2.316703267006739,
          -2.0472297629418126,
          -0.945654574827532,
          -2.207775887863607,
          -1.1188069572196586,
          -1.334899615096286,
          -0.9454447963973311,
          -1.6392978205542883,
          -1.6393962494756953,
          -1.1181641274028027,
          -0.9454445158816758,
          -1.330256913766854,
          -1.302562463481957,
          -2.749236885871805,
          -2.224375261397968,
          -2.31679738732871,
          -1.118614882514827,
          -2.2296173919974924,
          -1.2925657792931293,
          -1.1181667083239437,
          -1.1206007610410444,
          -0.9455784104759908,
          -2.0457515046042993,
          -2.3171209815176446,
          -1.1181614962511104,
          -2.2599323101398685,
          -2.0537067241320126,
          -2.20181338278421,
          -0.9454699729065181,
          -2.3167012469254686,
          -0.6628716124057199,
          -2.2296205166429712,
          -2.1903636364732937,
          -2.2016901914818434,
          -2.316971925691014,
          -2.196495625941659,
          -2.383424401566205,
          -2.242594953430168,
          -2.316925079771536,
          -1.2665399894071572,
          -2.1911330414016144,
          -0.9454450296834226,
          -1.1181630811939338,
          -2.2082905059214273,
          -2.2286772238981674,
          -0.5369896220987391,
          -2.239598597007611,
          -1.3303528490049223,
          -0.9454468372528555,
          -1.2665747201327753,
          -2.0554278109094706,
          -2.2017208637079895,
          -1.3302581795828907,
          -2.319607612971109,
          -2.2248089132660236,
          -2.224766801878578,
          -2.204179307626372,
          -1.1181937258407841,
          -2.0538088544547333,
          -2.053707813635499,
          -1.546532496368985,
          -1.3302637129246766,
          -0.3798112345801472,
          -1.3302977627838761,
          -1.162690285944172,
          -1.6395475355058104,
          -2.2279318433025415,
          -1.1182894404061303,
          -1.330265680073231,
          -1.12879165684281,
          -1.2621459009052294,
          -1.11815382778035,
          -1.1182078492691288,
          -1.8099120992953859,
          -2.212670466350807,
          -2.0429012301764122,
          -2.3169354137337153,
          -2.0537106094512296
         ],
         "z": [
          0.19379659538802,
          0.4231173424820513,
          -0.005213492995829649,
          0.4532220785643578,
          0.4231018957216364,
          0.4185634282945958,
          0.37953891210168134,
          -0.005185350543959639,
          0.10806515475799036,
          -0.005190745219071286,
          0.3848304696731532,
          -0.02903664025178501,
          0.19372293025076823,
          -0.005251685353151343,
          -0.005190930659288909,
          0.04787462899943522,
          0.12743822184616135,
          -0.0051987460650700056,
          -0.0051859646698393285,
          -0.005184411948944697,
          0.10806788195159225,
          0.3779014385267502,
          0.18455854401578975,
          -0.011324948036910924,
          -0.0051917565090483725,
          -0.005292824289986925,
          -0.005191841787192872,
          -0.005182787096122431,
          0.3038703999539067,
          -0.005643891003223233,
          -0.005213737385819053,
          -0.005203717629000927,
          -0.0491368584426627,
          0.1937952576155657,
          -0.005262164895330632,
          -0.005191024200433765,
          -0.005182156724656223,
          -0.0052003551871485235,
          0.5110086380624884,
          -0.00518468238211545,
          -0.0071144183270621135,
          0.19379794526024977,
          -0.005344141236065997,
          -0.005183377352472611,
          -0.005207380628272585,
          -0.005195613882384057,
          0.19351199721833565,
          0.19378414518868267,
          0.19379317206457572,
          0.19379955055431494,
          0.19380538360786456,
          0.10807060339651889,
          -0.005192828571334874,
          0.28005411519653606,
          -0.0052486945350684105,
          0.19378610668307206,
          0.36869812797852003,
          0.4544849448468117,
          -0.0052169860520842794,
          -0.005461552837176055,
          -0.0052501194578988665,
          -0.005181845881003589,
          -0.005255964073535313,
          -0.005579014724640914,
          0.5186029454918981,
          0.385641391988029,
          0.23184914488400699,
          -0.005186104890224646,
          -0.007753256615651782,
          0.500160279175624,
          -0.005181906217895416,
          0.19379890719347648,
          -0.010896911675292359,
          0.10805543262520197,
          0.42138780960971234,
          0.19379590555862394,
          0.10806309831204612,
          -0.0052084431946914506,
          -0.005229125349432506,
          0.42315740845067945,
          0.42472376976323595,
          0.10806340729254187,
          0.19379529648250013,
          -0.005283492862123639,
          0.22742797240325258,
          -0.0052163684377350234,
          0.18326480941161336,
          0.10804681173301284,
          0.47268599972189207,
          -0.005192333321025718,
          0.5082636631483562,
          -0.005185627921847912,
          0.10806378466925544,
          -0.0051819047478086555,
          0.10806897815828692,
          0.40237898804709515,
          0.45802410324252835,
          0.19380223782502035,
          0.3851713368301082,
          -0.005243462076791854,
          0.1938009706198366,
          -0.005188173365286134,
          0.4848396588436794,
          0.4231501844657234,
          0.4185641768924615,
          -0.005885875291028074,
          0.10769145587120503,
          0.10803098955772447,
          0.4580263154030062,
          -0.005182152501386601,
          0.45802252216217404,
          0.42139629558421426,
          0.10163169280388026,
          0.4532132223069334,
          -0.005183132317295851,
          0.10799613692450671,
          0.4185638719829532,
          -0.005230057129150215,
          0.42138856008015624,
          0.5089542584504226,
          -0.00545721173812946,
          -0.001537671266593905,
          -0.005192390175119669,
          0.19309269869893733,
          -0.005191863078626446,
          0.4531936267184389,
          0.385535397844967,
          0.4386486478763561,
          0.4663032920674049,
          0.45713828530390344,
          0.10805003619890921,
          -0.005190474516722039,
          -0.005188451099063019,
          0.1080563694618651,
          0.10806883041551239,
          0.4580186879530107,
          0.43851476963856445,
          -0.08658732179482745,
          0.172875131755371,
          0.10795096553058456,
          0.1937965664448791,
          -0.0058340970344360425,
          -0.06568124382610946,
          -0.005186953451240278,
          -0.005194207840169903,
          -0.00520162926164576,
          -0.005202081843379997,
          0.45801872686207534,
          0.4150585122050296,
          0.10681583799189934,
          0.30397611180239353,
          0.4185592741919168,
          0.472666187161367,
          -0.005230119146077253,
          0.10797524539880364,
          0.30397405894659746,
          0.4231401078578188,
          0.3039751086618543,
          0.38542413927183156,
          0.44459035807129965,
          0.4580253535069633,
          0.4223213082408849,
          0.10800296864173076,
          0.4529805923440111,
          -0.0071692919051682,
          0.16032851093244796,
          0.10806809501412622,
          0.30397492708282936,
          0.30382165937727657,
          -0.005204823316431413,
          0.10806609863591174,
          0.1937957000528165,
          0.07195831933479271,
          0.3734244930050919,
          0.5081759177642503,
          0.4579504998740467,
          -0.010033377127838914,
          0.47263865897184915,
          0.2797402871723163,
          -0.0051893559413749195,
          -0.012455584196385547,
          0.10795066246094248,
          0.4226543490342372,
          0.4579320461605751,
          -0.005184632155749414,
          0.4480337743273913,
          0.41853332046202685,
          0.48481398678913523,
          0.10805144814968334,
          0.4580201147213035,
          -0.001540609122800684,
          0.42139392134118864,
          0.3921947148147297,
          0.4848405821464749,
          0.4579907245968328,
          0.46434796068365103,
          0.4291276572337641,
          0.39774083030124596,
          0.45772896432556065,
          0.2182841686629041,
          0.528656990986582,
          0.10806769725753104,
          -0.00518357822112701,
          0.4531140499620248,
          0.3308609406643244,
          0.1102583039112368,
          0.41078923972151016,
          0.19278661212718834,
          0.1080674391005029,
          0.21827863912582554,
          0.4163040417500304,
          0.4848332034858824,
          0.19379656774577217,
          0.45673621783244045,
          0.47594320429103526,
          0.4759421310010462,
          0.38845944867290283,
          -0.005203987723681487,
          0.41853643274221286,
          0.4185552974301825,
          0.2318401571830289,
          0.19377938514474521,
          -0.055316278288593417,
          0.19375925159121601,
          -0.011299328584392344,
          0.302113010777693,
          0.47550566370645475,
          -0.005573799920211405,
          0.19379315026326366,
          -0.02080337452128123,
          0.1274268698870556,
          -0.005184053781086992,
          -0.005222392287406497,
          0.38566735452256434,
          0.5500322958074535,
          0.42315101780352415,
          0.4575263607373101,
          0.4185634648967555
         ]
        },
        {
         "customdata": [
          [
           "VeChainThor Authority"
          ],
          [
           "Proof-of-BibleHash"
          ],
          [
           "SHA-256 + Hive"
          ],
          [
           "Proof-of-Authority"
          ],
          [
           "SHA3-256"
          ],
          [
           "Leased POS"
          ]
         ],
         "hovertemplate": "<b>%{hovertext}</b><br><br>Class=%{marker.color}<br>PC 1=%{x}<br>PC 2=%{y}<br>PC 3=%{z}<br>Algorithm=%{customdata[0]}<extra></extra>",
         "hovertext": [
          "Vechain",
          "BiblePay",
          "LitecoinCash",
          "Poa Network",
          "Fiii",
          "Waves"
         ],
         "legendgroup": "3",
         "marker": {
          "color": [
           3,
           3,
           3,
           3,
           3,
           3
          ],
          "coloraxis": "coloraxis",
          "symbol": "square"
         },
         "mode": "markers",
         "name": "3",
         "scene": "scene",
         "showlegend": true,
         "type": "scatter3d",
         "x": [
          4.432210606010447,
          -0.22881222579777996,
          -0.33967456097180426,
          -0.4182832321995652,
          -0.5522573740328501,
          -0.4394151183545208
         ],
         "y": [
          3.695013077669586,
          2.695330125387462,
          3.7195211912142856,
          3.202097268403976,
          3.5056103255045286,
          2.80014126249209
         ],
         "z": [
          7.445074345599273,
          13.64019198169412,
          12.93283808072315,
          12.21432855539681,
          14.823667981080582,
          14.482189248941296
         ]
        },
        {
         "customdata": [
          [
           "TRC10"
          ]
         ],
         "hovertemplate": "<b>%{hovertext}</b><br><br>Class=%{marker.color}<br>PC 1=%{x}<br>PC 2=%{y}<br>PC 3=%{z}<br>Algorithm=%{customdata[0]}<extra></extra>",
         "hovertext": [
          "BitTorrent"
         ],
         "legendgroup": "2",
         "marker": {
          "color": [
           2
          ],
          "coloraxis": "coloraxis",
          "symbol": "x"
         },
         "mode": "markers",
         "name": "2",
         "scene": "scene",
         "showlegend": true,
         "type": "scatter3d",
         "x": [
          34.0961604133052
         ],
         "y": [
          1.6607853579399268
         ],
         "z": [
          -1.0852845675961558
         ]
        }
       ],
       "layout": {
        "autosize": true,
        "coloraxis": {
         "colorbar": {
          "title": {
           "text": "Class"
          }
         },
         "colorscale": [
          [
           0,
           "#0d0887"
          ],
          [
           0.1111111111111111,
           "#46039f"
          ],
          [
           0.2222222222222222,
           "#7201a8"
          ],
          [
           0.3333333333333333,
           "#9c179e"
          ],
          [
           0.4444444444444444,
           "#bd3786"
          ],
          [
           0.5555555555555556,
           "#d8576b"
          ],
          [
           0.6666666666666666,
           "#ed7953"
          ],
          [
           0.7777777777777778,
           "#fb9f3a"
          ],
          [
           0.8888888888888888,
           "#fdca26"
          ],
          [
           1,
           "#f0f921"
          ]
         ]
        },
        "legend": {
         "title": {
          "text": "Class"
         },
         "tracegroupgap": 0,
         "x": 0,
         "y": 1
        },
        "margin": {
         "t": 60
        },
        "scene": {
         "aspectmode": "auto",
         "aspectratio": {
          "x": 1,
          "y": 1,
          "z": 1
         },
         "domain": {
          "x": [
           0,
           1
          ],
          "y": [
           0,
           1
          ]
         },
         "xaxis": {
          "title": {
           "text": "PC 1"
          },
          "type": "linear"
         },
         "yaxis": {
          "title": {
           "text": "PC 2"
          },
          "type": "linear"
         },
         "zaxis": {
          "title": {
           "text": "PC 3"
          },
          "type": "linear"
         }
        },
        "template": {
         "data": {
          "bar": [
           {
            "error_x": {
             "color": "#2a3f5f"
            },
            "error_y": {
             "color": "#2a3f5f"
            },
            "marker": {
             "line": {
              "color": "#E5ECF6",
              "width": 0.5
             }
            },
            "type": "bar"
           }
          ],
          "barpolar": [
           {
            "marker": {
             "line": {
              "color": "#E5ECF6",
              "width": 0.5
             }
            },
            "type": "barpolar"
           }
          ],
          "carpet": [
           {
            "aaxis": {
             "endlinecolor": "#2a3f5f",
             "gridcolor": "white",
             "linecolor": "white",
             "minorgridcolor": "white",
             "startlinecolor": "#2a3f5f"
            },
            "baxis": {
             "endlinecolor": "#2a3f5f",
             "gridcolor": "white",
             "linecolor": "white",
             "minorgridcolor": "white",
             "startlinecolor": "#2a3f5f"
            },
            "type": "carpet"
           }
          ],
          "choropleth": [
           {
            "colorbar": {
             "outlinewidth": 0,
             "ticks": ""
            },
            "type": "choropleth"
           }
          ],
          "contour": [
           {
            "colorbar": {
             "outlinewidth": 0,
             "ticks": ""
            },
            "colorscale": [
             [
              0,
              "#0d0887"
             ],
             [
              0.1111111111111111,
              "#46039f"
             ],
             [
              0.2222222222222222,
              "#7201a8"
             ],
             [
              0.3333333333333333,
              "#9c179e"
             ],
             [
              0.4444444444444444,
              "#bd3786"
             ],
             [
              0.5555555555555556,
              "#d8576b"
             ],
             [
              0.6666666666666666,
              "#ed7953"
             ],
             [
              0.7777777777777778,
              "#fb9f3a"
             ],
             [
              0.8888888888888888,
              "#fdca26"
             ],
             [
              1,
              "#f0f921"
             ]
            ],
            "type": "contour"
           }
          ],
          "contourcarpet": [
           {
            "colorbar": {
             "outlinewidth": 0,
             "ticks": ""
            },
            "type": "contourcarpet"
           }
          ],
          "heatmap": [
           {
            "colorbar": {
             "outlinewidth": 0,
             "ticks": ""
            },
            "colorscale": [
             [
              0,
              "#0d0887"
             ],
             [
              0.1111111111111111,
              "#46039f"
             ],
             [
              0.2222222222222222,
              "#7201a8"
             ],
             [
              0.3333333333333333,
              "#9c179e"
             ],
             [
              0.4444444444444444,
              "#bd3786"
             ],
             [
              0.5555555555555556,
              "#d8576b"
             ],
             [
              0.6666666666666666,
              "#ed7953"
             ],
             [
              0.7777777777777778,
              "#fb9f3a"
             ],
             [
              0.8888888888888888,
              "#fdca26"
             ],
             [
              1,
              "#f0f921"
             ]
            ],
            "type": "heatmap"
           }
          ],
          "heatmapgl": [
           {
            "colorbar": {
             "outlinewidth": 0,
             "ticks": ""
            },
            "colorscale": [
             [
              0,
              "#0d0887"
             ],
             [
              0.1111111111111111,
              "#46039f"
             ],
             [
              0.2222222222222222,
              "#7201a8"
             ],
             [
              0.3333333333333333,
              "#9c179e"
             ],
             [
              0.4444444444444444,
              "#bd3786"
             ],
             [
              0.5555555555555556,
              "#d8576b"
             ],
             [
              0.6666666666666666,
              "#ed7953"
             ],
             [
              0.7777777777777778,
              "#fb9f3a"
             ],
             [
              0.8888888888888888,
              "#fdca26"
             ],
             [
              1,
              "#f0f921"
             ]
            ],
            "type": "heatmapgl"
           }
          ],
          "histogram": [
           {
            "marker": {
             "colorbar": {
              "outlinewidth": 0,
              "ticks": ""
             }
            },
            "type": "histogram"
           }
          ],
          "histogram2d": [
           {
            "colorbar": {
             "outlinewidth": 0,
             "ticks": ""
            },
            "colorscale": [
             [
              0,
              "#0d0887"
             ],
             [
              0.1111111111111111,
              "#46039f"
             ],
             [
              0.2222222222222222,
              "#7201a8"
             ],
             [
              0.3333333333333333,
              "#9c179e"
             ],
             [
              0.4444444444444444,
              "#bd3786"
             ],
             [
              0.5555555555555556,
              "#d8576b"
             ],
             [
              0.6666666666666666,
              "#ed7953"
             ],
             [
              0.7777777777777778,
              "#fb9f3a"
             ],
             [
              0.8888888888888888,
              "#fdca26"
             ],
             [
              1,
              "#f0f921"
             ]
            ],
            "type": "histogram2d"
           }
          ],
          "histogram2dcontour": [
           {
            "colorbar": {
             "outlinewidth": 0,
             "ticks": ""
            },
            "colorscale": [
             [
              0,
              "#0d0887"
             ],
             [
              0.1111111111111111,
              "#46039f"
             ],
             [
              0.2222222222222222,
              "#7201a8"
             ],
             [
              0.3333333333333333,
              "#9c179e"
             ],
             [
              0.4444444444444444,
              "#bd3786"
             ],
             [
              0.5555555555555556,
              "#d8576b"
             ],
             [
              0.6666666666666666,
              "#ed7953"
             ],
             [
              0.7777777777777778,
              "#fb9f3a"
             ],
             [
              0.8888888888888888,
              "#fdca26"
             ],
             [
              1,
              "#f0f921"
             ]
            ],
            "type": "histogram2dcontour"
           }
          ],
          "mesh3d": [
           {
            "colorbar": {
             "outlinewidth": 0,
             "ticks": ""
            },
            "type": "mesh3d"
           }
          ],
          "parcoords": [
           {
            "line": {
             "colorbar": {
              "outlinewidth": 0,
              "ticks": ""
             }
            },
            "type": "parcoords"
           }
          ],
          "pie": [
           {
            "automargin": true,
            "type": "pie"
           }
          ],
          "scatter": [
           {
            "marker": {
             "colorbar": {
              "outlinewidth": 0,
              "ticks": ""
             }
            },
            "type": "scatter"
           }
          ],
          "scatter3d": [
           {
            "line": {
             "colorbar": {
              "outlinewidth": 0,
              "ticks": ""
             }
            },
            "marker": {
             "colorbar": {
              "outlinewidth": 0,
              "ticks": ""
             }
            },
            "type": "scatter3d"
           }
          ],
          "scattercarpet": [
           {
            "marker": {
             "colorbar": {
              "outlinewidth": 0,
              "ticks": ""
             }
            },
            "type": "scattercarpet"
           }
          ],
          "scattergeo": [
           {
            "marker": {
             "colorbar": {
              "outlinewidth": 0,
              "ticks": ""
             }
            },
            "type": "scattergeo"
           }
          ],
          "scattergl": [
           {
            "marker": {
             "colorbar": {
              "outlinewidth": 0,
              "ticks": ""
             }
            },
            "type": "scattergl"
           }
          ],
          "scattermapbox": [
           {
            "marker": {
             "colorbar": {
              "outlinewidth": 0,
              "ticks": ""
             }
            },
            "type": "scattermapbox"
           }
          ],
          "scatterpolar": [
           {
            "marker": {
             "colorbar": {
              "outlinewidth": 0,
              "ticks": ""
             }
            },
            "type": "scatterpolar"
           }
          ],
          "scatterpolargl": [
           {
            "marker": {
             "colorbar": {
              "outlinewidth": 0,
              "ticks": ""
             }
            },
            "type": "scatterpolargl"
           }
          ],
          "scatterternary": [
           {
            "marker": {
             "colorbar": {
              "outlinewidth": 0,
              "ticks": ""
             }
            },
            "type": "scatterternary"
           }
          ],
          "surface": [
           {
            "colorbar": {
             "outlinewidth": 0,
             "ticks": ""
            },
            "colorscale": [
             [
              0,
              "#0d0887"
             ],
             [
              0.1111111111111111,
              "#46039f"
             ],
             [
              0.2222222222222222,
              "#7201a8"
             ],
             [
              0.3333333333333333,
              "#9c179e"
             ],
             [
              0.4444444444444444,
              "#bd3786"
             ],
             [
              0.5555555555555556,
              "#d8576b"
             ],
             [
              0.6666666666666666,
              "#ed7953"
             ],
             [
              0.7777777777777778,
              "#fb9f3a"
             ],
             [
              0.8888888888888888,
              "#fdca26"
             ],
             [
              1,
              "#f0f921"
             ]
            ],
            "type": "surface"
           }
          ],
          "table": [
           {
            "cells": {
             "fill": {
              "color": "#EBF0F8"
             },
             "line": {
              "color": "white"
             }
            },
            "header": {
             "fill": {
              "color": "#C8D4E3"
             },
             "line": {
              "color": "white"
             }
            },
            "type": "table"
           }
          ]
         },
         "layout": {
          "annotationdefaults": {
           "arrowcolor": "#2a3f5f",
           "arrowhead": 0,
           "arrowwidth": 1
          },
          "coloraxis": {
           "colorbar": {
            "outlinewidth": 0,
            "ticks": ""
           }
          },
          "colorscale": {
           "diverging": [
            [
             0,
             "#8e0152"
            ],
            [
             0.1,
             "#c51b7d"
            ],
            [
             0.2,
             "#de77ae"
            ],
            [
             0.3,
             "#f1b6da"
            ],
            [
             0.4,
             "#fde0ef"
            ],
            [
             0.5,
             "#f7f7f7"
            ],
            [
             0.6,
             "#e6f5d0"
            ],
            [
             0.7,
             "#b8e186"
            ],
            [
             0.8,
             "#7fbc41"
            ],
            [
             0.9,
             "#4d9221"
            ],
            [
             1,
             "#276419"
            ]
           ],
           "sequential": [
            [
             0,
             "#0d0887"
            ],
            [
             0.1111111111111111,
             "#46039f"
            ],
            [
             0.2222222222222222,
             "#7201a8"
            ],
            [
             0.3333333333333333,
             "#9c179e"
            ],
            [
             0.4444444444444444,
             "#bd3786"
            ],
            [
             0.5555555555555556,
             "#d8576b"
            ],
            [
             0.6666666666666666,
             "#ed7953"
            ],
            [
             0.7777777777777778,
             "#fb9f3a"
            ],
            [
             0.8888888888888888,
             "#fdca26"
            ],
            [
             1,
             "#f0f921"
            ]
           ],
           "sequentialminus": [
            [
             0,
             "#0d0887"
            ],
            [
             0.1111111111111111,
             "#46039f"
            ],
            [
             0.2222222222222222,
             "#7201a8"
            ],
            [
             0.3333333333333333,
             "#9c179e"
            ],
            [
             0.4444444444444444,
             "#bd3786"
            ],
            [
             0.5555555555555556,
             "#d8576b"
            ],
            [
             0.6666666666666666,
             "#ed7953"
            ],
            [
             0.7777777777777778,
             "#fb9f3a"
            ],
            [
             0.8888888888888888,
             "#fdca26"
            ],
            [
             1,
             "#f0f921"
            ]
           ]
          },
          "colorway": [
           "#636efa",
           "#EF553B",
           "#00cc96",
           "#ab63fa",
           "#FFA15A",
           "#19d3f3",
           "#FF6692",
           "#B6E880",
           "#FF97FF",
           "#FECB52"
          ],
          "font": {
           "color": "#2a3f5f"
          },
          "geo": {
           "bgcolor": "white",
           "lakecolor": "white",
           "landcolor": "#E5ECF6",
           "showlakes": true,
           "showland": true,
           "subunitcolor": "white"
          },
          "hoverlabel": {
           "align": "left"
          },
          "hovermode": "closest",
          "mapbox": {
           "style": "light"
          },
          "paper_bgcolor": "white",
          "plot_bgcolor": "#E5ECF6",
          "polar": {
           "angularaxis": {
            "gridcolor": "white",
            "linecolor": "white",
            "ticks": ""
           },
           "bgcolor": "#E5ECF6",
           "radialaxis": {
            "gridcolor": "white",
            "linecolor": "white",
            "ticks": ""
           }
          },
          "scene": {
           "xaxis": {
            "backgroundcolor": "#E5ECF6",
            "gridcolor": "white",
            "gridwidth": 2,
            "linecolor": "white",
            "showbackground": true,
            "ticks": "",
            "zerolinecolor": "white"
           },
           "yaxis": {
            "backgroundcolor": "#E5ECF6",
            "gridcolor": "white",
            "gridwidth": 2,
            "linecolor": "white",
            "showbackground": true,
            "ticks": "",
            "zerolinecolor": "white"
           },
           "zaxis": {
            "backgroundcolor": "#E5ECF6",
            "gridcolor": "white",
            "gridwidth": 2,
            "linecolor": "white",
            "showbackground": true,
            "ticks": "",
            "zerolinecolor": "white"
           }
          },
          "shapedefaults": {
           "line": {
            "color": "#2a3f5f"
           }
          },
          "ternary": {
           "aaxis": {
            "gridcolor": "white",
            "linecolor": "white",
            "ticks": ""
           },
           "baxis": {
            "gridcolor": "white",
            "linecolor": "white",
            "ticks": ""
           },
           "bgcolor": "#E5ECF6",
           "caxis": {
            "gridcolor": "white",
            "linecolor": "white",
            "ticks": ""
           }
          },
          "title": {
           "x": 0.05
          },
          "xaxis": {
           "automargin": true,
           "gridcolor": "white",
           "linecolor": "white",
           "ticks": "",
           "title": {
            "standoff": 15
           },
           "zerolinecolor": "white",
           "zerolinewidth": 2
          },
          "yaxis": {
           "automargin": true,
           "gridcolor": "white",
           "linecolor": "white",
           "ticks": "",
           "title": {
            "standoff": 15
           },
           "zerolinecolor": "white",
           "zerolinewidth": 2
          }
         }
        }
       }
      },
      "image/png": "[encoded data removed]",
      "text/html": [
       "<div>                            <div id=\"34fd5a3e-49f4-44e9-ba2a-e21b21081d58\" class=\"plotly-graph-div\" style=\"height:525px; width:800px;\"></div>            <script type=\"text/javascript\">                require([\"plotly\"], function(Plotly) {                    window.PLOTLYENV=window.PLOTLYENV || {};                                    if (document.getElementById(\"34fd5a3e-49f4-44e9-ba2a-e21b21081d58\")) {                    Plotly.newPlot(                        \"34fd5a3e-49f4-44e9-ba2a-e21b21081d58\",                        [{\"customdata\": [[\"Scrypt\"], [\"Scrypt\"], [\"X13\"], [\"X11\"], [\"SHA-512\"], [\"SHA-256\"], [\"SHA-256\"], [\"X15\"], [\"Scrypt\"], [\"Scrypt\"], [\"Scrypt\"], [\"Scrypt\"], [\"Scrypt\"], [\"Scrypt\"], [\"Groestl\"], [\"PoS\"], [\"Scrypt\"], [\"Scrypt\"], [\"X11\"], [\"X11\"], [\"SHA3\"], [\"Scrypt\"], [\"SHA-256\"], [\"Scrypt\"], [\"X13\"], [\"X13\"], [\"NeoScrypt\"], [\"Scrypt\"], [\"Scrypt\"], [\"Scrypt\"], [\"X11\"], [\"X11\"], [\"Multiple\"], [\"PHI1612\"], [\"X11\"], [\"Scrypt\"], [\"Scrypt\"], [\"Scrypt\"], [\"X11\"], [\"Multiple\"], [\"X13\"], [\"Scrypt\"], [\"Shabal256\"], [\"Counterparty\"], [\"SHA-256\"], [\"Groestl\"], [\"Scrypt\"], [\"X13\"], [\"Scrypt\"], [\"Scrypt\"], [\"X13\"], [\"X11\"], [\"Scrypt\"], [\"X11\"], [\"SHA3\"], [\"QUAIT\"], [\"X11\"], [\"Scrypt\"], [\"X13\"], [\"SHA-256\"], [\"X15\"], [\"BLAKE256\"], [\"SHA-256\"], [\"X11\"], [\"SHA-256\"], [\"NIST5\"], [\"Scrypt\"], [\"Scrypt\"], [\"X11\"], [\"Scrypt\"], [\"SHA-256\"], [\"Scrypt\"], [\"PoS\"], [\"X11\"], [\"SHA-256\"], [\"SHA-256\"], [\"NIST5\"], [\"X11\"], [\"POS 3.0\"], [\"Scrypt\"], [\"Scrypt\"], [\"Scrypt\"], [\"X13\"], [\"X11\"], [\"X11\"], [\"Scrypt\"], [\"SHA-256\"], [\"X11\"], [\"Scrypt\"], [\"Scrypt\"], [\"Scrypt\"], [\"Scrypt\"], [\"SHA-256D\"], [\"PoS\"], [\"Scrypt\"], [\"X11\"], [\"PoS\"], [\"X13\"], [\"X14\"], [\"PoS\"], [\"SHA-256D\"], [\"DPoS\"], [\"X11\"], [\"X13\"], [\"X11\"], [\"PoS\"], [\"Scrypt\"], [\"Scrypt\"], [\"PoS\"], [\"X11\"], [\"SHA-256\"], [\"Scrypt\"], [\"X11\"], [\"Scrypt\"], [\"Scrypt\"], [\"X11\"], [\"Scrypt\"], [\"Scrypt\"], [\"Scrypt\"], [\"Scrypt\"], [\"Quark\"], [\"QuBit\"], [\"Scrypt\"], [\"SHA-256\"], [\"X11\"], [\"Scrypt\"], [\"Scrypt\"], [\"Scrypt\"], [\"Scrypt\"], [\"X13\"], [\"Scrypt\"], [\"Scrypt\"], [\"X11\"], [\"Blake2S\"], [\"X11\"], [\"PoS\"], [\"X11\"], [\"PoS\"], [\"X11\"], [\"Scrypt\"], [\"Scrypt\"], [\"Scrypt\"], [\"SHA-256\"], [\"X11\"], [\"Scrypt\"], [\"PoS\"], [\"Scrypt\"], [\"X15\"], [\"SHA-256\"], [\"POS 3.0\"], [\"536\"], [\"NIST5\"], [\"NIST5\"], [\"Skein\"], [\"X13\"], [\"Scrypt\"], [\"X13\"], [\"SkunkHash v2 Raptor\"], [\"Skein\"], [\"X11\"], [\"Scrypt\"], [\"PoS\"], [\"Scrypt\"], [\"Scrypt\"], [\"SHA-512\"], [\"Ouroboros\"], [\"X11\"], [\"NeoScrypt\"], [\"Scrypt\"], [\"Lyra2REv2\"], [\"Scrypt\"], [\"SHA-256\"], [\"NIST5\"], [\"PHI1612\"], [\"Scrypt\"], [\"Quark\"], [\"POS 2.0\"], [\"Scrypt\"], [\"SHA-256\"], [\"X11\"], [\"DPoS\"], [\"NIST5\"], [\"X13\"], [\"Scrypt\"], [\"NIST5\"], [\"Quark\"], [\"Scrypt\"], [\"Scrypt\"], [\"X11\"], [\"Quark\"], [\"Scrypt\"], [\"Scrypt\"], [\"X11\"], [\"POS 3.0\"], [\"Ethash\"], [\"Scrypt\"], [\"Scrypt\"], [\"X13\"], [\"C11\"], [\"X11\"], [\"XEVAN\"], [\"Scrypt\"], [\"VBFT\"], [\"NIST5\"], [\"Scrypt\"], [\"Scrypt\"], [\"Scrypt\"], [\"Green Protocol\"], [\"PoS\"], [\"Scrypt\"], [\"Semux BFT consensus\"], [\"Quark\"], [\"PoS\"], [\"X16R\"], [\"Scrypt\"], [\"XEVAN\"], [\"Scrypt\"], [\"Scrypt\"], [\"Scrypt\"], [\"SHA-256D\"], [\"Scrypt\"], [\"X15\"], [\"Scrypt\"], [\"Quark\"], [\"SHA-256\"], [\"DPoS\"], [\"X16R\"], [\"Quark\"], [\"Quark\"], [\"Scrypt\"], [\"Lyra2REv2\"], [\"Quark\"], [\"Scrypt\"], [\"X11\"], [\"X11\"], [\"Scrypt\"], [\"PoS\"], [\"Keccak\"], [\"X11\"], [\"Scrypt\"], [\"SHA-512\"], [\"ECC 256K1\"], [\"XEVAN\"], [\"XEVAN\"], [\"X11\"], [\"Quark\"], [\"Equihash\"], [\"Scrypt\"], [\"Quark\"], [\"Quark\"], [\"Scrypt\"], [\"X11\"], [\"Scrypt\"], [\"XEVAN\"], [\"SHA-256D\"], [\"X11\"], [\"X11\"], [\"DPoS\"], [\"Scrypt\"], [\"X11\"], [\"Scrypt\"], [\"Scrypt\"], [\"SHA-256\"], [\"Scrypt\"], [\"X11\"], [\"Scrypt\"], [\"SHA-256\"], [\"X11\"], [\"Scrypt\"], [\"Scrypt\"], [\"X11\"], [\"Scrypt\"], [\"PoS\"], [\"X11\"], [\"SHA-256\"], [\"DPoS\"], [\"Scrypt\"], [\"Scrypt\"], [\"NeoScrypt\"], [\"X13\"], [\"DPoS\"], [\"DPoS\"], [\"SHA-256\"], [\"PoS\"], [\"PoS\"], [\"SHA-256\"], [\"Scrypt\"], [\"Scrypt\"]], \"hovertemplate\": \"<b>%{hovertext}</b><br><br>Class=%{marker.color}<br>PC 1=%{x}<br>PC 2=%{y}<br>PC 3=%{z}<br>Algorithm=%{customdata[0]}<extra></extra>\", \"hovertext\": [\"42 Coin\", \"404Coin\", \"EliteCoin\", \"Dash\", \"Bitshares\", \"BitcoinDark\", \"PayCoin\", \"KoboCoin\", \"Aurora Coin\", \"BlueCoin\", \"EnergyCoin\", \"BitBar\", \"CryptoBullion\", \"CasinoCoin\", \"Diamond\", \"Exclusive Coin\", \"FlutterCoin\", \"HoboNickels\", \"HyperStake\", \"IOCoin\", \"MaxCoin\", \"MintCoin\", \"MazaCoin\", \"Nautilus Coin\", \"NavCoin\", \"OpalCoin\", \"Orbitcoin\", \"PotCoin\", \"PhoenixCoin\", \"Reddcoin\", \"SuperCoin\", \"SyncCoin\", \"TeslaCoin\", \"TittieCoin\", \"TorCoin\", \"UnitaryStatus Dollar\", \"UltraCoin\", \"VeriCoin\", \"X11 Coin\", \"Crypti\", \"StealthCoin\", \"ZCC Coin\", \"BurstCoin\", \"StorjCoin\", \"Neutron\", \"FairCoin\", \"RubyCoin\", \"Kore\", \"Dnotes\", \"8BIT Coin\", \"Sativa Coin\", \"Ucoin\", \"Vtorrent\", \"IslaCoin\", \"Nexus\", \"Droidz\", \"Squall Coin\", \"Diggits\", \"Paycon\", \"Emercoin\", \"EverGreenCoin\", \"Decred\", \"EDRCoin\", \"Hitcoin\", \"DubaiCoin\", \"PWR Coin\", \"BillaryCoin\", \"GPU Coin\", \"EuropeCoin\", \"ZeitCoin\", \"SwingCoin\", \"SafeExchangeCoin\", \"Nebuchadnezzar\", \"Ratecoin\", \"Revenu\", \"Clockcoin\", \"VIP Tokens\", \"BitSend\", \"Let it Ride\", \"PutinCoin\", \"iBankCoin\", \"Frankywillcoin\", \"MudraCoin\", \"Lutetium Coin\", \"GoldBlocks\", \"CarterCoin\", \"BitTokens\", \"MustangCoin\", \"ZoneCoin\", \"RootCoin\", \"BitCurrency\", \"Swiscoin\", \"BuzzCoin\", \"Opair\", \"PesoBit\", \"Halloween Coin\", \"CoffeeCoin\", \"RoyalCoin\", \"GanjaCoin V2\", \"TeamUP\", \"LanaCoin\", \"ARK\", \"InsaneCoin\", \"EmberCoin\", \"XenixCoin\", \"FreeCoin\", \"PLNCoin\", \"AquariusCoin\", \"Creatio\", \"Eternity\", \"Eurocoin\", \"BitcoinFast\", \"Stakenet\", \"BitConnect Coin\", \"MoneyCoin\", \"Enigma\", \"Russiacoin\", \"PandaCoin\", \"GameUnits\", \"GAKHcoin\", \"Allsafe\", \"LiteCreed\", \"Klingon Empire Darsek\", \"Internet of People\", \"KushCoin\", \"Printerium\", \"Impeach\", \"Zilbercoin\", \"FirstCoin\", \"FindCoin\", \"OpenChat\", \"RenosCoin\", \"VirtacoinPlus\", \"TajCoin\", \"Impact\", \"Atmos\", \"HappyCoin\", \"MacronCoin\", \"Condensate\", \"Independent Money System\", \"ArgusCoin\", \"LomoCoin\", \"ProCurrency\", \"GoldReserve\", \"GrowthCoin\", \"Phreak\", \"Degas Coin\", \"HTML5 Coin\", \"Ultimate Secure Cash\", \"QTUM\", \"Espers\", \"Denarius\", \"Virta Unique Coin\", \"Bitcoin Planet\", \"BritCoin\", \"Linda\", \"DeepOnion\", \"Signatum\", \"Cream\", \"Monoeci\", \"Draftcoin\", \"Stakecoin\", \"CoinonatX\", \"Ethereum Dark\", \"Obsidian\", \"Cardano\", \"Regalcoin\", \"TrezarCoin\", \"TerraNovaCoin\", \"Rupee\", \"WomenCoin\", \"Theresa May Coin\", \"NamoCoin\", \"LUXCoin\", \"Xios\", \"Bitcloud 2.0\", \"KekCoin\", \"BlackholeCoin\", \"Infinity Economics\", \"Magnet\", \"Lamden Tau\", \"Electra\", \"Bitcoin Diamond\", \"Cash & Back Coin\", \"Bulwark\", \"Kalkulus\", \"GermanCoin\", \"LiteCoin Ultra\", \"PhantomX\", \"Digiwage\", \"Trollcoin\", \"Litecoin Plus\", \"Monkey Project\", \"TokenPay\", \"1717 Masonic Commemorative Token\", \"My Big Coin\", \"Unified Society USDEX\", \"Tokyo Coin\", \"Stipend\", \"Pushi\", \"Ellerium\", \"Velox\", \"Ontology\", \"Bitspace\", \"Briacoin\", \"Ignition\", \"MedicCoin\", \"Bitcoin Green\", \"Deviant Coin\", \"Abjcoin\", \"Semux\", \"Carebit\", \"Zealium\", \"Proton\", \"iDealCash\", \"Bitcoin Incognito\", \"HollyWoodCoin\", \"Swisscoin\", \"Xt3ch\", \"TheVig\", \"EmaratCoin\", \"Dekado\", \"Lynx\", \"Poseidon Quark\", \"BitcoinWSpectrum\", \"Muse\", \"Trivechain\", \"Dystem\", \"Giant\", \"Peony Coin\", \"Absolute Coin\", \"Vitae\", \"TPCash\", \"ARENON\", \"EUNO\", \"MMOCoin\", \"Ketan\", \"XDNA\", \"PAXEX\", \"ThunderStake\", \"Kcash\", \"Acute Angle Cloud\", \"Bettex coin\", \"BitMoney\", \"Junson Ming Chan Coin\", \"HerbCoin\", \"PirateCash\", \"Oduwa\", \"Galilel\", \"Crypto Sports\", \"Credit\", \"Dash Platinum\", \"Nasdacoin\", \"Beetle Coin\", \"Titan Coin\", \"Award\", \"Insane Coin\", \"ALAX\", \"LiteDoge\", \"TruckCoin\", \"OrangeCoin\", \"BitstarCoin\", \"NeosCoin\", \"HyperCoin\", \"PinkCoin\", \"AudioCoin\", \"IncaKoin\", \"Piggy Coin\", \"Genstake\", \"XiaoMiCoin\", \"CapriCoin\", \" ClubCoin\", \"Radium\", \"Creditbit \", \"OKCash\", \"Lisk\", \"HiCoin\", \"WhiteCoin\", \"FriendshipCoin\", \"Triangles Coin\", \"EOS\", \"Oxycoin\", \"TigerCash\", \"Particl\", \"Nxt\", \"ZEPHYR\", \"Gapcoin\", \"BitcoinPlus\"], \"legendgroup\": \"0\", \"marker\": {\"color\": [0, 0, 0, 0, 0, 0, 0, 0, 0, 0, 0, 0, 0, 0, 0, 0, 0, 0, 0, 0, 0, 0, 0, 0, 0, 0, 0, 0, 0, 0, 0, 0, 0, 0, 0, 0, 0, 0, 0, 0, 0, 0, 0, 0, 0, 0, 0, 0, 0, 0, 0, 0, 0, 0, 0, 0, 0, 0, 0, 0, 0, 0, 0, 0, 0, 0, 0, 0, 0, 0, 0, 0, 0, 0, 0, 0, 0, 0, 0, 0, 0, 0, 0, 0, 0, 0, 0, 0, 0, 0, 0, 0, 0, 0, 0, 0, 0, 0, 0, 0, 0, 0, 0, 0, 0, 0, 0, 0, 0, 0, 0, 0, 0, 0, 0, 0, 0, 0, 0, 0, 0, 0, 0, 0, 0, 0, 0, 0, 0, 0, 0, 0, 0, 0, 0, 0, 0, 0, 0, 0, 0, 0, 0, 0, 0, 0, 0, 0, 0, 0, 0, 0, 0, 0, 0, 0, 0, 0, 0, 0, 0, 0, 0, 0, 0, 0, 0, 0, 0, 0, 0, 0, 0, 0, 0, 0, 0, 0, 0, 0, 0, 0, 0, 0, 0, 0, 0, 0, 0, 0, 0, 0, 0, 0, 0, 0, 0, 0, 0, 0, 0, 0, 0, 0, 0, 0, 0, 0, 0, 0, 0, 0, 0, 0, 0, 0, 0, 0, 0, 0, 0, 0, 0, 0, 0, 0, 0, 0, 0, 0, 0, 0, 0, 0, 0, 0, 0, 0, 0, 0, 0, 0, 0, 0, 0, 0, 0, 0, 0, 0, 0, 0, 0, 0, 0, 0, 0, 0, 0, 0, 0, 0, 0, 0, 0, 0, 0, 0, 0, 0, 0, 0, 0, 0, 0, 0, 0, 0, 0, 0, 0, 0, 0, 0, 0, 0, 0, 0], \"coloraxis\": \"coloraxis\", \"symbol\": \"circle\"}, \"mode\": \"markers\", \"name\": \"0\", \"scene\": \"scene\", \"showlegend\": true, \"type\": \"scatter3d\", \"x\": [-0.3370501550437664, -0.32035252025521654, 2.2887245314571185, -0.41673394844054845, -0.2816435629081323, -0.32759789932289596, -0.2621957870461894, -0.2650481559204887, -0.33670899224371, -0.3292715721344873, -0.33554367443249994, -0.33704608149677107, -0.33703032920089426, 0.8150527217714595, -0.39261261369709577, -0.3277347145677041, -0.23435128228495056, -0.33510463995446466, -0.33111457058113775, -0.41662843079681644, -0.453114111160578, -0.01104060079891407, -0.29082271655228176, -0.27139855078652764, -0.3013836786125943, -0.3020071505372766, -0.36540580438221143, -0.3313396169677122, -0.3354483669605857, 0.0218182996408811, -0.3510415441536731, -0.41700082139847977, -0.225744633127546, -0.3076546159053511, -0.41691225241211877, -0.31222727062487926, -0.33572457417325474, -0.25817978828133153, -0.41687666953300384, -0.22621361430957695, -0.3017875691445661, -0.32813228334937816, 0.3753346676670609, -0.3171413381461729, -0.32680787915642484, -0.3920330153323177, -0.27137881755584303, -0.30208265515388577, -0.26602053622511307, -0.33703218718362526, -0.30203474940901626, -0.3514872330347189, -0.3367659710797357, -0.41698231280535597, -0.47429062416268747, -0.459808358277146, -0.3468506674714409, -0.2697768176547789, -0.30155529860171576, -0.3201366547541346, -0.2674955055285879, -0.10273902788619003, -0.3275687542367942, -0.09371800949130575, -0.32763261161053686, -0.2560103599024266, -0.33664153505642863, -0.2696452428024584, -0.41414464538853313, 0.8843920157108186, -0.3274321823543028, 0.08268959699053006, -0.3274172869244903, -0.41482071168043877, -0.32617264184673755, -0.3238352591703399, -0.37761506133584316, -0.41571453157974336, -0.32025520969961524, -0.31288415175557394, -0.3366797032477377, -0.33511537521719736, -0.23537167473785855, -0.3389507765513058, -0.4164550047209876, -0.3358821809121996, -0.3276134942690695, -0.416971473693554, -0.33686931745522103, -0.33702640857679494, -0.2696354456127655, -0.22859634390076766, 0.010808826593372947, -0.326372091531223, -0.3366397823598212, -0.40310140372747055, -0.3256994674239493, -0.23680575869669723, -0.44500323338471437, -0.3254471361706088, -0.30439195145765807, 3.6770794352562217, -0.41656311094738396, 0.8324321563556831, -0.41692628949259675, -0.3268368527327407, -0.33656707788913737, -0.3367217071032857, -0.3274172869244903, -0.4165001685336196, -0.3274758914253185, -0.33656783137418417, -0.4193533912527883, -0.336715535734075, -0.33229280121438115, -0.41695533886300823, -0.3359242989786105, 0.3732730494894208, -0.3369152599823401, -0.3369860026127555, -0.3410252058768972, -0.3721068515933969, -0.33320366206142393, -0.3275898600957548, -0.4168650949321683, -0.3367633145864261, -0.33689051972971984, -0.27128497770985077, -0.2572670557542687, -0.23657310659744962, -0.31770234946470516, -0.27102564293352377, -0.41612908622751493, -0.442716176445923, -0.41486486727537275, -0.32566001890394924, -0.4160267642039244, -0.3200477203212557, -0.4119583471277102, -0.3368336932682034, -0.33683286010196717, -0.3299377948579537, 0.27176739680558337, -0.41650638869533824, -0.2538861975208491, -0.32745162164083635, -0.3360425359108035, 0.8694436827383476, -0.26088299444393037, -0.31903088780417727, 0.5712132950502808, -0.37915405993503576, -0.3776529281837618, -0.4432553557567046, -0.3017191462121007, 0.1289859756117991, -0.30179009448651084, -0.30181303428168704, -0.44275923641214276, -0.4167794145024038, -0.2713594398603705, -0.32731753263907276, -0.3364680703939332, -0.33696889506951827, -0.3398357214318942, 0.6821284910752465, -0.4167200712520255, -0.3603937441490653, -0.3369243866307039, -0.3122190716791522, 0.43382568844267544, -0.3259325443157812, -0.3638865265739527, -0.4086692929445222, -0.3368746092639309, -0.4048019055323118, -0.33691726181794696, -0.33674476363746775, -0.08830119933217327, -0.415509933695531, 3.681946392112018, 0.18156109649660865, -0.2984536338177076, -0.33419931339955905, -0.313578505392989, -0.34091086356871614, 0.07838631048277894, -0.3358811531533872, -0.41609252777081185, -0.34007361382599005, -0.3234194955812117, -0.33699107206160733, -0.35145910263908947, -0.3205377230709543, -0.26291040857978293, -0.2691137450304755, -0.3325266220225708, -0.2283499189088206, -0.386880976772529, -0.4167966493087569, -0.29143483107484475, -0.27051740749932546, -0.30150589912607484, -0.37875208964036716, -0.3370184852044623, -0.3370001532449857, -0.26488633599292366, -0.3406533239751398, -0.32691109022770176, -0.33671601582626365, 3.8820823124503643, -0.4034672314924041, -0.3271001653791991, -0.3053989055187292, -0.2834632527969958, -0.22143746768539083, -0.271053004078787, -0.13970253066145144, -0.2713055205743566, -0.3698612445831896, -0.3361888219323064, -0.2014991754598179, 2.282440585894363, -0.3366082460140076, -0.2610112722269592, 1.003093226415196, -0.3700725607627168, -0.341024622873236, -0.40649004298448366, -0.1517455075949302, -0.3774856868588329, -0.3397413265554517, -0.32987776463518426, -0.35103555315766627, -0.4162688441273206, -0.268544777317429, -0.32619775390842504, -0.37577043783163677, -0.3508965174926739, -0.19616233396106408, -0.3798922720206396, -0.16316181749832057, -0.2260893800322118, 0.6349828082331314, -0.14098586514060732, -0.4057830976233195, -0.2834449156793852, -0.33672002446300947, -0.4062402443280158, -0.34114185928087365, 0.571851581147595, -0.35151353162595966, -0.33620170999354854, -0.2858779035081918, -0.32447469039776605, -0.4138274542010455, -0.4164966007149112, 3.6942143986492613, 0.09919542162995147, -0.4140313559512802, -0.33558560755749833, -0.3364127098634406, -0.2622284575701702, -0.3369322548842902, -0.4081060710349001, -0.25042893144069783, -0.10680949732844561, -0.40384432287749655, -0.33620906828255315, -0.3292581928786615, -0.4130577302084993, -0.3346446633674965, -0.3276935088577651, -0.40864056740969945, -0.3261097070836295, 3.6774721473766268, -0.07816775099434087, -0.33183334100089823, -0.36503073573627154, -0.30219011208521307, 3.6873596555726884, 3.688606309254626, -0.24308365034302168, -0.3276292466367167, -0.3217999451406532, 2.4483887500036583, -0.3350908164129485, -0.2717029211303115], \"y\": [0.9923983197591466, 0.9925872908619333, 1.59999145536084, 1.1651081024547738, 1.7101719214936466, 0.7802864878354383, 0.6521138732511707, 1.770294504931878, 0.9923981039582895, 0.9926576345334298, 0.9924485413568762, 0.9923981100258183, 0.9923982895980983, 1.0755992222184316, 0.8484231771932105, 1.6525074558181077, 0.4044632306983299, 0.9923802425129559, 1.0376181102394197, 1.1651116200981828, 1.867366328809355, 0.8729070140620823, 0.7798556989822072, 0.8642162744442317, 1.7307681500187424, 1.7307473653250256, 0.47126005589220316, 0.9922984197869623, 0.9923839884197859, 1.0043619233121097, 1.0369538043965918, 1.165114409755136, 0.17244578344938993, 1.6664691009113077, 1.1651104518267135, 0.9921200414444186, 0.9923733982463768, 0.3345564962643432, 1.1651147481141149, 0.1724992614689723, 1.7307546855134943, 0.9920044904933027, 2.5074030384531816, 1.6122983009308711, 0.7802810330222757, 0.8484455263987822, 0.8642281146861431, 1.7307365547320437, 0.8640611815337493, 0.9923989187830269, 1.7307395340156992, 1.0369251239685207, 0.9923939711430431, 1.1651150274675317, 1.9816135719280756, 1.7297256287743015, 0.9024584078988389, 0.8642124081300668, 1.730727872493921, 0.7798593036779649, 1.77043663599036, 0.8042476325398334, 0.7802874594456488, 1.1575423385737673, 0.7802932785634222, 1.4517905811794742, 0.9923829147291444, 0.8641331319997971, 1.1649442350133563, 0.8343367374316802, 0.7802795721032009, 1.0773452233221883, 1.652504215418046, 1.1651352544598006, 0.7801952756960855, 0.7800642873934899, 1.447674442057841, 1.165061225201395, 1.602087726300178, 0.9918216931758851, 0.992380029691858, 0.9923937071219057, 1.6024710768118096, 1.0369028056977443, 1.1650980501192896, 0.9923750553532407, 0.7802866590709924, 1.1651133154375917, 0.9923898347587099, 0.9923991114245367, 0.8642862335050289, 0.3192651692605278, 1.8374713948255648, 1.6525017383893477, 0.9924120003890347, 1.164541088766348, 1.6525476599746538, 1.6025597657402602, 1.783169047053421, 1.6523756883732146, 1.8355984512138526, 1.7200392279838, 1.1651082686708367, 1.767978731142432, 1.1651142319889687, 1.6525028316262904, 0.9923877881998141, 0.9923802420323116, 1.652504215418046, 1.165089633247243, 0.7802919374637668, 0.992391591910761, 0.6413174455817202, 0.9923901235107524, 0.9921072287997676, 1.1651124710756424, 0.9923363305380118, 0.8632470278623706, 0.9923938321681661, 0.9923981668157079, 1.5621543738300327, 0.5640361164246673, 0.9921809881229723, 0.7802874469638134, 1.165112470382837, 0.9923940597026041, 0.9923884828888092, 0.8641932311775272, 0.3224458214480396, 1.6025592110829683, 0.9923521933692402, 0.8642160955289057, 1.1650743590429729, 1.8251177515325905, 1.1651095930855, 1.6525003958362419, 1.1650777701539412, 1.6524872674590394, 1.1649369492287616, 0.9923908757607873, 0.99238579759167, 0.9919443001267084, 0.6180889120026383, 1.1651032483761887, 0.8634290173875492, 1.6524961595557575, 0.9923593427281043, 1.746155763832774, 0.6520279937976932, 1.6020825817579907, 1.8242429902462136, 1.447678426398766, 1.4476524459542466, 1.8187095368537394, 1.7307362327940408, 0.9733783474265288, 1.730741540325111, 1.6322018506505198, 1.8187260759924169, 1.1651152207833733, 0.8642167310423386, 1.6524787901720701, 0.9923843766128708, 0.992398126030245, 1.7106572500061346, 1.5669523868899344, 1.1651051094561886, 0.47115329875380235, 0.9923916388394586, 0.6900406677227977, 1.0008189071257383, 0.780288098089202, 1.4473649622178837, 1.795009183471374, 0.9923896583455967, 1.690259882466527, 1.5751712289095408, 0.9923982800861924, 0.6516995182527978, 1.165064590261752, 1.7199423061054915, 1.4456441720866828, 1.7307206928187586, 0.9923482221914712, 1.3194927841333195, 1.5621547300387804, 0.9716915055652698, 0.9923336221439171, 1.1651101340192864, 1.5621135289942087, 0.9922307132288486, 0.9923975249404038, 1.0369253706274493, 1.6020841827058088, -0.06052953590440292, 0.35404338803876784, 0.9923887799915371, 1.6022904864829908, 0.8079908655792717, 1.1651039388213213, 1.5736246030511383, 0.8641711320856522, 1.6483562852909506, 1.4476641819078748, 0.9923973021925425, 0.9923965310763168, 0.8640989923853791, 1.605937665847822, 1.6524740940376106, 0.9923887252568533, 1.7938046238531142, 1.6903043765167522, 1.6524733198324337, 0.7158187182337841, 0.9906448410978133, 1.3109904607797023, 0.8642210070975866, 0.9919278305642136, 0.8642001487095367, 1.8385343685829199, 0.9923689796037282, 1.6422332391565464, 0.40527340846480636, 1.5618627580171154, 0.6520927068284206, 1.6381514954690362, 0.8439962337336943, 1.5621502465184618, 1.6903382699241019, 0.8565501502422047, 0.8182046680099484, 1.5621384289509421, 0.991946301355224, 1.0369159922694322, 1.165104256158035, 0.8641429007542488, 1.6524135573495857, 0.8184135587200104, 1.0368895266998615, 0.9846548578555909, 1.9910538644273856, 0.23346755279519027, 1.445450445112651, 1.635286391453192, 1.0439564339920813, 1.690328076631017, -0.07137560308577266, 0.992394811741625, 1.690337001202591, 1.5621516114865852, 0.9710022770202406, 1.0369244545893144, 0.9923685499542204, 1.5735057596432858, 1.8366609106879206, 1.1649299287381023, 1.1651104859235406, 1.720005722574947, 0.9827520871767306, 1.1652134035642805, 0.9923089185258187, 0.9923820725738626, 0.652106909554884, 0.9924022502277188, 1.1650653726196656, 0.9880292053777467, 0.7875308054710577, 1.1648618843229979, 0.992415992243316, 0.9923816307463278, 1.1651021074395222, 0.992367931778777, 1.6525026093727713, 0.6761022946919786, 0.7802787363884774, 1.7200281868714085, 0.8637518433483798, 0.9923648954442912, 0.47123358142037136, 1.7307411829979769, 1.720468330422189, 1.7205098901363063, 0.6520685293916845, 1.652505004538302, 1.8113564418800088, 0.7339219686152575, 0.9922908571598243, 0.8642166189154685], \"z\": [-0.6021111964966245, -0.6025906465295586, -0.6841483951078673, -0.4888636640861488, -0.07483509517089301, -0.4031260186335309, -0.12451790052596622, -0.6701867832132251, -0.6021199103209484, -0.602380015518751, -0.6021632587678427, -0.602111245550939, -0.6021116982018783, -0.4726706556373864, -0.46946685899550206, -0.1795350596653881, -0.3278733892642244, -0.6021564159669013, -0.21095652504078363, -0.48886731065639416, -0.6086309720292877, -0.3325076335162461, -0.40395713428138186, -0.323506989275278, -0.6522732020026709, -0.6522516555191705, -0.29295163597191193, -0.6022314925586196, -0.6021485732957018, -0.6145132838021685, -0.21026787140572004, -0.4888584772203392, 0.0673112382143595, -0.29988724456956506, -0.4888597036363785, -0.6026755094698918, -0.6021386609650429, -0.3462222779901674, -0.48886175891544553, 0.06730909956012067, -0.6522592440033792, -0.6022359269220002, -0.5194471090713605, -0.187490450173638, -0.4031448816237888, -0.46948769281820335, -0.32351063963440796, -0.6522468446316257, -0.32360408520444994, -0.6021118174532263, -0.6522488671221583, -0.2102487996802967, -0.6021173483576961, -0.4888591170398137, -0.3708479938063971, -0.7221550119447742, -0.18285347130228805, -0.32354765682371023, -0.6522580979539101, -0.4032044458124692, -0.6701615923165476, -0.41828616992867995, -0.4031270258546937, -0.49515987228249986, -0.4031269288191462, -0.60271990922539, -0.6021176125809239, -0.3235299954493161, -0.4888867345388251, -0.34529011893125044, -0.4031284433239751, -0.45430548090197814, -0.17954236038264884, -0.4889200599417099, -0.40313844868284354, -0.4031637702684837, -0.5985008769860497, -0.4888774290263271, -0.19759209803210354, -0.6025794239514054, -0.602115865455565, -0.602159714190915, -0.3736477259518622, -0.2105651806784267, -0.4888681671535856, -0.6021350488659355, -0.4031256631509826, -0.4888589412438599, -0.6021135933628949, -0.6021120171553328, -0.32357088859401534, -0.28482700488794427, -0.7344877518491685, -0.17956857425068995, -0.6021253785194537, -0.48906363384440676, -0.17959805707496546, -0.3736343991844235, -0.8133385878620784, -0.17955889398448635, -0.7258869333093676, -0.10596054914570903, -0.4888681003473883, -0.6913006510100878, -0.48886034620637214, -0.17955691569704846, -0.602120820511785, -0.6021148419257965, -0.17954236038264884, -0.4888647717321119, -0.40313060201052436, -0.602121810846837, -0.0055482241621563665, -0.6021176236570996, -0.6021562344779017, -0.4888591319230741, -0.6021236864124276, -0.33982385466416754, -0.6021134733302107, -0.6021128052212958, -0.27032313475598224, -0.36509543849654674, -0.6021523963814808, -0.40312647992124145, -0.48886145186135743, -0.6021174401630957, -0.6021126894059803, -0.3235037922712245, -0.348318555947857, -0.3736402333073928, -0.6025963736229009, -0.32351652903895783, -0.48887025747121315, -0.8132113853226461, -0.48891211283493125, -0.17958652486432167, -0.4888737936044466, -0.17972732902869443, -0.4889410090395699, -0.6021147855784882, -0.6021134589831643, -0.6021735304893959, -0.12921377209478943, -0.4888682259929022, -0.3237482425152989, -0.17953933920247694, -0.6021267552619202, -0.6929462460938757, -0.12452885474260088, -0.19762220904507735, -0.7437995252525603, -0.5984623678278441, -0.5984940645168777, -0.696475385052435, -0.6522561047886213, -0.6090438209595087, -0.6522556896476291, -0.34288398843388906, -0.6964925303750208, -0.4888643847606882, -0.32350811600120416, -0.1795381758013111, -0.6021224603242096, -0.6021132342202659, -0.07346783848947068, -0.2816939803895405, -0.48886322636043145, -0.2930521542941065, -0.6021126564632294, -0.03824819493152048, -0.624165264304936, -0.4031692614483218, -0.5987716777462816, -0.5776773285823148, -0.6021134104839796, -0.5489552278548769, -0.15645241911641813, -0.6021190374116373, -0.12887864362819246, -0.48888358239182084, -0.10605994773926292, -0.6123380493141212, -0.652335934195272, -0.6021711915257606, -0.31985525058828623, -0.27032616899100237, -0.6072951538477034, -0.6021240767165155, -0.4888806939464001, -0.2703367572810775, -0.6024171416416849, -0.6021125045007648, -0.2102495883737792, -0.19758389410957447, 0.10484458031400941, -0.317251451376614, -0.6022249617002781, -0.37378031320365407, -0.5249707627133512, -0.48886094683178544, -0.4866559074784204, -0.3235176598105206, -0.2213057637238965, -0.5984689210208426, -0.6021117405947256, -0.6021120072042269, -0.3236432818797475, -0.23933401743566657, -0.17954737861049877, -0.6021172401434041, -0.19565548673852612, -0.5490013526778894, -0.17954231207644514, -0.10003321426236074, -0.6030234202056483, -0.18065277609293762, -0.32351712938982724, -0.6070600033720922, -0.32350510040548974, -0.7249831018012121, -0.6021255524663778, -0.3915605799814017, -0.5520236990943506, -0.27035928207024484, -0.1245427350633913, -0.13343581702587298, -0.3786613615656105, -0.2703220541371682, -0.5489326349537812, -0.3245482074978388, -0.3168575099038718, -0.2703519099752934, -0.6021756050658975, -0.2102579880857888, -0.48887460065283567, -0.3235608809619495, -0.17954964844823143, -0.4228204908234877, -0.21025453725018287, -0.6036778197349318, 0.17527039954124113, 0.06074491927944876, -0.20804592295335061, -0.1156894848926291, -0.2175271577389688, -0.5489481042921177, 0.10023809894366086, -0.6021187527595989, -0.5489387203548375, -0.27031940238811275, -0.61979891870434, -0.21024794586911003, -0.6021251070695796, -0.4867672257049664, -0.7256526501830819, -0.48889109170641676, -0.4888703988656853, -0.10639218558568495, -0.610766210058235, -0.4889610987660943, -0.6021251173812063, -0.6021232719989992, -0.12451521205008727, -0.6021152710002964, -0.48907413933780214, -0.6031783860447327, -0.41072539424660753, -0.4891296899634349, -0.6021375115931873, -0.6023070934400081, -0.4889565862545753, -0.6021649737916573, -0.17953483253790922, -0.009418772892677257, -0.40316222159810694, -0.1059677146627538, -0.3283515629792086, -0.6022364453504824, -0.2929542510522454, -0.6522453105599825, -0.10633875455610978, -0.10638183749525329, -0.12499722645921352, -0.17953712048856574, -0.06664632962288929, -0.09796241575625585, -0.6021330437463707, -0.32349925552086495]}, {\"customdata\": [[\"SHA-256\"], [\"Ethash\"], [\"Scrypt\"], [\"CryptoNight-V7\"], [\"Ethash\"], [\"Equihash\"], [\"Multiple\"], [\"Scrypt\"], [\"X11\"], [\"Scrypt\"], [\"Multiple\"], [\"Scrypt\"], [\"SHA-256\"], [\"Scrypt\"], [\"Scrypt\"], [\"Quark\"], [\"Groestl\"], [\"Scrypt\"], [\"Scrypt\"], [\"Scrypt\"], [\"X11\"], [\"Multiple\"], [\"SHA-256\"], [\"Scrypt\"], [\"Scrypt\"], [\"Scrypt\"], [\"Scrypt\"], [\"Scrypt\"], [\"NeoScrypt\"], [\"Scrypt\"], [\"Scrypt\"], [\"Scrypt\"], [\"Scrypt\"], [\"SHA-256\"], [\"Scrypt\"], [\"Scrypt\"], [\"Scrypt\"], [\"Scrypt\"], [\"HybridScryptHash256\"], [\"Scrypt\"], [\"Scrypt\"], [\"SHA-256\"], [\"Scrypt\"], [\"Scrypt\"], [\"Scrypt\"], [\"Scrypt\"], [\"SHA-256\"], [\"SHA-256\"], [\"SHA-256\"], [\"SHA-256\"], [\"SHA-256\"], [\"X11\"], [\"Scrypt\"], [\"Lyra2REv2\"], [\"Scrypt\"], [\"SHA-256\"], [\"CryptoNight\"], [\"CryptoNight\"], [\"Scrypt\"], [\"Scrypt\"], [\"Scrypt\"], [\"Scrypt\"], [\"Scrypt\"], [\"Scrypt\"], [\"Stanford Folding\"], [\"Multiple\"], [\"QuBit\"], [\"Scrypt\"], [\"Scrypt\"], [\"M7 POW\"], [\"Scrypt\"], [\"SHA-256\"], [\"Scrypt\"], [\"X11\"], [\"Lyra2RE\"], [\"SHA-256\"], [\"X11\"], [\"Scrypt\"], [\"Scrypt\"], [\"Ethash\"], [\"Blake2b\"], [\"X11\"], [\"SHA-256\"], [\"Scrypt\"], [\"1GB AES Pattern Search\"], [\"Scrypt\"], [\"SHA-256\"], [\"X11\"], [\"Dagger\"], [\"Scrypt\"], [\"X11GOST\"], [\"Scrypt\"], [\"X11\"], [\"Scrypt\"], [\"X11\"], [\"Equihash\"], [\"CryptoNight\"], [\"SHA-256\"], [\"Multiple\"], [\"Scrypt\"], [\"SHA-256\"], [\"Scrypt\"], [\"Lyra2Z\"], [\"Ethash\"], [\"Equihash\"], [\"Scrypt\"], [\"X11\"], [\"X11\"], [\"CryptoNight\"], [\"Scrypt\"], [\"CryptoNight\"], [\"Lyra2RE\"], [\"X11\"], [\"CryptoNight-V7\"], [\"Scrypt\"], [\"X11\"], [\"Equihash\"], [\"Scrypt\"], [\"Lyra2RE\"], [\"Dagger-Hashimoto\"], [\"Scrypt\"], [\"NIST5\"], [\"Scrypt\"], [\"SHA-256\"], [\"Scrypt\"], [\"CryptoNight-V7\"], [\"Argon2d\"], [\"Blake2b\"], [\"Cloverhash\"], [\"CryptoNight\"], [\"X11\"], [\"Scrypt\"], [\"Scrypt\"], [\"X11\"], [\"X11\"], [\"CryptoNight\"], [\"Time Travel\"], [\"Scrypt\"], [\"Keccak\"], [\"X11\"], [\"SHA-256\"], [\"Scrypt\"], [\"Scrypt\"], [\"Scrypt\"], [\"Scrypt\"], [\"Scrypt\"], [\"Scrypt\"], [\"CryptoNight\"], [\"Equihash\"], [\"X11\"], [\"NeoScrypt\"], [\"Equihash\"], [\"Dagger\"], [\"Scrypt\"], [\"X11\"], [\"NeoScrypt\"], [\"Ethash\"], [\"NeoScrypt\"], [\"Multiple\"], [\"CryptoNight\"], [\"CryptoNight\"], [\"Ethash\"], [\"X11\"], [\"CryptoNight-V7\"], [\"Scrypt\"], [\"BLAKE256\"], [\"X11\"], [\"NeoScrypt\"], [\"NeoScrypt\"], [\"Scrypt\"], [\"X11\"], [\"SHA-256\"], [\"C11\"], [\"CryptoNight\"], [\"SkunkHash\"], [\"CryptoNight\"], [\"Scrypt\"], [\"Dagger\"], [\"Lyra2REv2\"], [\"Scrypt\"], [\"Scrypt\"], [\"X11\"], [\"Ethash\"], [\"CryptoNight\"], [\"Scrypt\"], [\"IMesh\"], [\"Equihash\"], [\"Lyra2Z\"], [\"X11\"], [\"CryptoNight\"], [\"NIST5\"], [\"Lyra2RE\"], [\"Tribus\"], [\"Lyra2Z\"], [\"CryptoNight\"], [\"CryptoNight Heavy\"], [\"CryptoNight\"], [\"Jump Consistent Hash\"], [\"CryptoNight\"], [\"X16R\"], [\"HMQ1725\"], [\"X11\"], [\"Scrypt\"], [\"CryptoNight-V7\"], [\"Cryptonight-GPU\"], [\"XEVAN\"], [\"CryptoNight Heavy\"], [\"SHA-256\"], [\"X11\"], [\"X16R\"], [\"Equihash\"], [\"Lyra2Z\"], [\"SHA-256\"], [\"CryptoNight\"], [\"Blake\"], [\"Blake\"], [\"Exosis\"], [\"Scrypt\"], [\"Equihash\"], [\"Equihash\"], [\"QuBit\"], [\"SHA-256\"], [\"X13\"], [\"SHA-256\"], [\"Scrypt\"], [\"NeoScrypt\"], [\"Blake\"], [\"Scrypt\"], [\"SHA-256\"], [\"Scrypt\"], [\"Groestl\"], [\"Scrypt\"], [\"Scrypt\"], [\"Multiple\"], [\"Equihash+Scrypt\"], [\"Ethash\"], [\"CryptoNight\"], [\"Equihash\"]], \"hovertemplate\": \"<b>%{hovertext}</b><br><br>Class=%{marker.color}<br>PC 1=%{x}<br>PC 2=%{y}<br>PC 3=%{z}<br>Algorithm=%{customdata[0]}<extra></extra>\", \"hovertext\": [\"Bitcoin\", \"Ethereum\", \"Litecoin\", \"Monero\", \"Ethereum Classic\", \"ZCash\", \"DigiByte\", \"ProsperCoin\", \"Spreadcoin\", \"Argentum\", \"MyriadCoin\", \"MoonCoin\", \"ZetaCoin\", \"SexCoin\", \"Quatloo\", \"QuarkCoin\", \"Riecoin\", \"Digitalcoin \", \"Catcoin\", \"CannaCoin\", \"CryptCoin\", \"Verge\", \"DevCoin\", \"EarthCoin\", \"E-Gulden\", \"Einsteinium\", \"Emerald\", \"Franko\", \"FeatherCoin\", \"GrandCoin\", \"GlobalCoin\", \"GoldCoin\", \"Infinite Coin\", \"IXcoin\", \"KrugerCoin\", \"LuckyCoin\", \"Litebar \", \"MegaCoin\", \"MediterraneanCoin\", \"MinCoin\", \"NobleCoin\", \"Namecoin\", \"NyanCoin\", \"RonPaulCoin\", \"StableCoin\", \"SmartCoin\", \"SysCoin\", \"TigerCoin\", \"TerraCoin\", \"UnbreakableCoin\", \"Unobtanium\", \"UroCoin\", \"ViaCoin\", \"Vertcoin\", \"WorldCoin\", \"JouleCoin\", \"ByteCoin\", \"DigitalNote \", \"MonaCoin\", \"Gulden\", \"PesetaCoin\", \"Wild Beast Coin\", \"Flo\", \"ArtByte\", \"Folding Coin\", \"Unitus\", \"CypherPunkCoin\", \"OmniCron\", \"GreenCoin\", \"Cryptonite\", \"MasterCoin\", \"SoonCoin\", \"1Credit\", \"MarsCoin \", \"Crypto\", \"Anarchists Prime\", \"BowsCoin\", \"Song Coin\", \"BitZeny\", \"Expanse\", \"Siacoin\", \"MindCoin\", \"I0coin\", \"Revolution VR\", \"HOdlcoin\", \"Gamecredits\", \"CarpeDiemCoin\", \"Adzcoin\", \"SoilCoin\", \"YoCoin\", \"SibCoin\", \"Francs\", \"BolivarCoin\", \"Omni\", \"PizzaCoin\", \"Komodo\", \"Karbo\", \"ZayedCoin\", \"Circuits of Value\", \"DopeCoin\", \"DollarCoin\", \"Shilling\", \"ZCoin\", \"Elementrem\", \"ZClassic\", \"KiloCoin\", \"ArtexCoin\", \"Kurrent\", \"Cannabis Industry Coin\", \"OsmiumCoin\", \"Bikercoins\", \"HexxCoin\", \"PacCoin\", \"Citadel\", \"BeaverCoin\", \"VaultCoin\", \"Zero\", \"Canada eCoin\", \"Zoin\", \"DubaiCoin\", \"EB3coin\", \"Coinonat\", \"BenjiRolls\", \"ILCoin\", \"EquiTrader\", \"Quantum Resistant Ledger\", \"Dynamic\", \"Nano\", \"ChanCoin\", \"Dinastycoin\", \"DigitalPrice\", \"Unify\", \"SocialCoin\", \"ArcticCoin\", \"DAS\", \"LeviarCoin\", \"Bitcore\", \"gCn Coin\", \"SmartCash\", \"Onix\", \"Bitcoin Cash\", \"Sojourn Coin\", \"NewYorkCoin\", \"FrazCoin\", \"Kronecoin\", \"AdCoin\", \"Linx\", \"Sumokoin\", \"BitcoinZ\", \"Elements\", \"VIVO Coin\", \"Bitcoin Gold\", \"Pirl\", \"eBoost\", \"Pura\", \"Innova\", \"Ellaism\", \"GoByte\", \"SHIELD\", \"UltraNote\", \"BitCoal\", \"DaxxCoin\", \"AC3\", \"Lethean\", \"PopularCoin\", \"Photon\", \"Sucre\", \"SparksPay\", \"GunCoin\", \"IrishCoin\", \"Pioneer Coin\", \"UnitedBitcoin\", \"Interzone\", \"TurtleCoin\", \"MUNcoin\", \"Niobio Cash\", \"ShareChain\", \"Travelflex\", \"KREDS\", \"BitFlip\", \"LottoCoin\", \"Crypto Improvement Fund\", \"Callisto Network\", \"BitTube\", \"Poseidon\", \"Aidos Kuneen\", \"Bitrolium\", \"Alpenschillling\", \"FuturoCoin\", \"Monero Classic\", \"Jumpcoin\", \"Infinex\", \"KEYCO\", \"GINcoin\", \"PlatinCoin\", \"Loki\", \"Newton Coin\", \"MassGrid\", \"PluraCoin\", \"Motion\", \"PlusOneCoin\", \"Axe\", \"HexCoin\", \"Webchain\", \"Ryo\", \"Urals Coin\", \"Qwertycoin\", \"Project Pai\", \"Azart\", \"Xchange\", \"CrypticCoin\", \"Actinium\", \"Bitcoin SV\", \"FREDEnergy\", \"Universal Molecule\", \"Lithium\", \"Exosis\", \"Block-Logic\", \"Beam\", \"Bithereum\", \"SLICE\", \"BLAST\", \"Bitcoin Rhodium\", \"GlobalToken\", \"SolarCoin\", \"UFO Coin\", \"BlakeCoin\", \"Crypto Escudo\", \"Crown Coin\", \"SmileyCoin\", \"Groestlcoin\", \"Bata\", \"Pakcoin\", \"JoinCoin\", \"Vollar\", \"Reality Clash\", \"Beldex\", \"Horizen\"], \"legendgroup\": \"1\", \"marker\": {\"color\": [1, 1, 1, 1, 1, 1, 1, 1, 1, 1, 1, 1, 1, 1, 1, 1, 1, 1, 1, 1, 1, 1, 1, 1, 1, 1, 1, 1, 1, 1, 1, 1, 1, 1, 1, 1, 1, 1, 1, 1, 1, 1, 1, 1, 1, 1, 1, 1, 1, 1, 1, 1, 1, 1, 1, 1, 1, 1, 1, 1, 1, 1, 1, 1, 1, 1, 1, 1, 1, 1, 1, 1, 1, 1, 1, 1, 1, 1, 1, 1, 1, 1, 1, 1, 1, 1, 1, 1, 1, 1, 1, 1, 1, 1, 1, 1, 1, 1, 1, 1, 1, 1, 1, 1, 1, 1, 1, 1, 1, 1, 1, 1, 1, 1, 1, 1, 1, 1, 1, 1, 1, 1, 1, 1, 1, 1, 1, 1, 1, 1, 1, 1, 1, 1, 1, 1, 1, 1, 1, 1, 1, 1, 1, 1, 1, 1, 1, 1, 1, 1, 1, 1, 1, 1, 1, 1, 1, 1, 1, 1, 1, 1, 1, 1, 1, 1, 1, 1, 1, 1, 1, 1, 1, 1, 1, 1, 1, 1, 1, 1, 1, 1, 1, 1, 1, 1, 1, 1, 1, 1, 1, 1, 1, 1, 1, 1, 1, 1, 1, 1, 1, 1, 1, 1, 1, 1, 1, 1, 1, 1, 1, 1, 1, 1, 1, 1, 1, 1, 1, 1, 1, 1, 1, 1, 1, 1, 1, 1, 1, 1, 1, 1, 1, 1, 1, 1, 1, 1], \"coloraxis\": \"coloraxis\", \"symbol\": \"diamond\"}, \"mode\": \"markers\", \"name\": \"1\", \"scene\": \"scene\", \"showlegend\": true, \"type\": \"scatter3d\", \"x\": [-0.14641870321220393, -0.14597942465199723, -0.15469890926845456, -0.1455110126491117, -0.144417637438941, -0.16847236027343174, 0.17706732580972578, -0.15584768832199297, -0.2357396045608986, -0.15546331508865055, -0.07691434859387163, 2.572728711245523, -0.14349721441932342, -0.152712533274528, -0.155266837561709, -0.22068386016827113, -0.21049809133138134, -0.1553158587939462, -0.15582991789350803, -0.15591657366626793, -0.23582913631058974, 0.20085250546029784, 0.23226507253727205, 0.09336389458730456, -0.155662324460498, -0.1512578004886706, -0.1556014616283722, -0.15597369929768748, -0.1795472637305178, -0.13514925483243675, -0.1547661587464085, -0.15504417012007288, 1.5967917368656372, -0.14637999324993137, -0.15232743212488511, -0.15568882329605557, -0.15604442018784923, -0.15530203019338668, -0.14557794218099768, -0.15592541755471515, -0.020509572025665408, -0.14645776329551743, -0.14957536445344286, -0.15590478485443682, -0.15399454071171637, -0.15539038558923682, -0.13358092809476263, -0.14592035399993122, -0.14620816369888223, -0.14619100361462997, -0.14678315492079494, -0.23600344020652514, -0.15562068581163763, -0.19581598254903454, -0.15271721226876195, -0.1459877929089194, 3.869014074472878, 0.4604877143477898, -0.15448571491836155, -0.13904840211861041, -0.15320172216371555, -0.15604663033936028, -0.15306650266004737, -0.139259395106697, -0.13225741276332817, -0.11099661635297832, -0.19197656406518976, -0.15591944495945612, -0.028567340310982743, -0.10524484667221466, -0.15605554697469737, -0.14648559792385787, 0.49770764715973004, -0.23538927110420294, -0.15178695906403578, -0.14622483065714634, -0.235674790310697, -0.15417486629723404, -0.15336533255563442, -0.14704902863172908, 0.3870980706723067, -0.2357102742899319, -0.1463811179087392, -0.15200449317285702, -0.09403837918703783, -0.1546157050973711, 0.27302545472851397, -0.23486907437721657, -0.14940271656759319, -0.15486339643819869, -0.1654803620238475, -0.15584497073403644, -0.2356734162119161, -0.15605560559855083, -0.23582369570426145, -0.35386018579855005, 0.3050446841394155, -0.14664177022054944, -0.09102465071364912, -0.15321591588109004, -0.14660031221269018, -0.15571822888601777, -0.15104267302982527, -0.14679062849520164, -0.16849402180129042, -0.08260213575961528, -0.22237804893482344, -0.23364679538345426, 0.3050390679806761, -0.15603729986833387, 0.30517006432675986, -0.15232867548296383, 0.48117930355472016, -0.1442726455027862, -0.15600551991101846, -0.22854001275775054, -0.1685064335216968, -0.15413466880340362, -0.1520464446866082, -0.1410377369389427, -0.12685793559162017, -0.1978267491191448, -0.15556690481066096, -0.11289049719258469, -0.1553884993099026, -0.1441303173899957, -0.15051927528316217, -0.014027620537154133, -0.1527163264292937, 0.3412410551149906, -0.23487743946242234, -0.15570856823714163, -0.15547130283930927, -0.23527304583199912, -0.23585180339917408, 0.305434962529635, -0.14604893324946855, 3.2612302769844344, -0.134481234418031, -0.22670206170259513, -0.14641786570977372, -0.08144607047494092, 1.5945580787852858, -0.15580661503847798, -0.15525694710866098, -0.1549572613748239, -0.15494416540930814, 0.3056190497447641, 0.04431664712162115, -0.19013980064885763, -0.1842465305003047, -0.16835215660343983, -0.14815889871727225, -0.15413287427331893, -0.2313861189633308, -0.18409157298875717, -0.1451517430190726, -0.1841920219444579, -0.10120644999647521, 1.1449479740452884, 0.30502177795989205, -0.06985871484136999, -0.23112659129033594, -0.13321743190555072, -0.07200829952123089, 1.0858738046466978, -0.23582574593633082, -0.18424410123075216, -0.17726628036503572, -0.15505594938292974, -0.23575099077150868, -0.14639722309214592, -0.205864205161398, 8.061632887599686, -0.1522453996813543, 0.3089051027891714, 0.03741053140147473, -0.1476612524039814, -0.18134141876168622, -0.15563092314967109, 0.15212959986343175, -0.22987848543951755, -0.09807592256108968, 0.31296402927047356, -0.15586847569920625, -0.14731361052423458, -0.16734103188080948, -0.14882083156133374, -0.23491829585863125, 0.3052046892299618, -0.19788641040376986, -0.15217354915005715, -0.13186228144304296, -0.15112725418961537, 0.3091426426836608, 0.5960258291266972, 2.1179356620366905, -0.1491278965506608, 0.3188404323755262, -0.18987218141719078, -0.1457395241021666, -0.23580786601156162, -0.15589310503153242, -0.13309493516353788, -0.14168843578102103, -0.10921088827962476, 3.1242995457595635, -0.10615699753335833, -0.23577916132264023, -0.18929850471682666, -0.06286014811279883, -0.1505235580895246, -0.14641790335258942, 0.3851519596353608, -0.14029753252444882, -0.1406905905412762, -0.1528447080598742, -0.15478284348896867, -0.16640758042328582, -0.16818460312476324, -0.19118562918237564, -0.14569243312036587, -0.12118081551542847, -0.1445577457366313, 0.5417348361675898, -0.10924430141454974, -0.09103425594172965, -0.13941029138424804, -0.14620753285320676, 0.5613988413075389, -0.2100581277573167, -0.15597015011637666, -0.15392114992320202, -0.11173300748442383, -0.13038960513954898, -0.14682386018954796, 0.3268276408952239, -0.16847341939843533], \"y\": [-1.330258206247822, -2.0428561549963713, -1.1181660472412651, -2.2074949529733408, -2.0429492258216646, -2.0537105741431625, -1.8147960378352854, -1.1181608032619774, -0.9454420629257998, -1.1181777077599753, -1.8101316630055293, -1.2925755128430165, -1.3302636488089739, -1.1182145540641761, -1.1181960382684983, -0.4202200131286577, -1.2621460543629628, -1.118161848741284, -1.1181602108489128, -1.1181576674550244, -0.9454436653981411, -1.8109310623824522, -1.332133120534925, -1.1191685001854246, -1.1181546237839042, -1.1182004704026594, -1.1181601971684967, -1.1181582558227872, -1.6393589462325897, -1.118438083782479, -1.1181586133948023, -1.1181694335228536, -1.1223344028795876, -1.3302569157731803, -1.1182123736340088, -1.118154816051489, -1.1181537811184028, -1.1181571262631562, -2.202900304432385, -1.1181557921528569, -1.1240013885916058, -1.3302595083944577, -1.118170098050064, -1.1181627066900102, -1.1182572923670089, -1.1181664301140941, -1.3304294380960389, -1.3302595702811408, -1.3302657011037438, -1.330291391769834, -1.3302560151463985, -0.9454370359284404, -1.118154617924647, -1.292346135540674, -1.1182253677410197, -1.3302604279727128, -2.325371731743332, -2.3184231027837146, -1.1181735365277914, -1.118747340777453, -1.1181730744757883, -1.1181547380554075, -1.1181641531397482, -1.1182844099744642, -2.1777662832361635, -1.8098856150635516, -1.5464897513251739, -1.1181510118127589, -1.1208143878996453, -2.1430284266000643, -1.1181536471706042, -1.3302604363179162, -1.159942161435374, -0.9454393684725192, -2.229634934591098, -1.3302743843548628, -0.9454405933366135, -1.1182358247727229, -1.1182363164444524, -2.042903496827341, -2.176844820772199, -0.9454383206439628, -1.3302569532659496, -1.1181633051386077, -1.1502251130374996, -1.1181632734624567, -1.3312071284793368, -0.945457274016727, -2.2296270684996804, -1.118229828005201, -2.2115829652458308, -1.1181600215411744, -0.9454433120263754, -1.1181536470308415, -0.9454483218962617, -1.4764198532902733, -2.3167007755717366, -1.3302578578096236, -1.810049158754174, -1.1181967791118912, -1.3302570993236196, -1.1181627075914098, -2.2016949050557058, -2.042901309402912, -2.05371129627387, -1.1226157467563667, -0.9453283683019652, -0.9455160488141523, -2.3167085651675303, -1.1181544866397142, -2.316706962638321, -2.229614436584039, -0.9906407560013333, -2.2075815275454476, -1.118153873459543, -0.945879352054844, -2.0537089455454796, -1.1181582951401465, -2.229612630221889, -2.2100182771992976, -1.1199443559032338, -0.6628884580021643, -1.1181614781820923, -1.3308537736043997, -1.1181807426213706, -2.2075214927885174, -2.198086657146657, -2.1904523319696105, -2.148671775209073, -2.316869434375035, -0.9454686108761717, -1.1181549744676524, -1.1181855764175672, -0.9454541542310061, -0.9454450430633188, -2.316718174333953, -2.1697179705333163, -1.142456011599512, -1.2933306092614916, -0.9458871927034496, -1.3302581783279914, -1.1229227692535901, -1.0597929840545082, -1.1181587428767261, -1.1181846505578408, -1.1181857179221093, -1.1181852813416935, -2.316736149981746, -2.0611159250272353, -0.9451521031809296, -1.6393020482860612, -2.0537065669114565, -2.229672897004872, -1.1181582353158679, -0.9455250018000119, -1.6393093227064934, -2.0430220774283803, -1.6393035485311844, -1.8100153823172227, -2.3474395796180576, -2.316703267006739, -2.0472297629418126, -0.945654574827532, -2.207775887863607, -1.1188069572196586, -1.334899615096286, -0.9454447963973311, -1.6392978205542883, -1.6393962494756953, -1.1181641274028027, -0.9454445158816758, -1.330256913766854, -1.302562463481957, -2.749236885871805, -2.224375261397968, -2.31679738732871, -1.118614882514827, -2.2296173919974924, -1.2925657792931293, -1.1181667083239437, -1.1206007610410444, -0.9455784104759908, -2.0457515046042993, -2.3171209815176446, -1.1181614962511104, -2.2599323101398685, -2.0537067241320126, -2.20181338278421, -0.9454699729065181, -2.3167012469254686, -0.6628716124057199, -2.2296205166429712, -2.1903636364732937, -2.2016901914818434, -2.316971925691014, -2.196495625941659, -2.383424401566205, -2.242594953430168, -2.316925079771536, -1.2665399894071572, -2.1911330414016144, -0.9454450296834226, -1.1181630811939338, -2.2082905059214273, -2.2286772238981674, -0.5369896220987391, -2.239598597007611, -1.3303528490049223, -0.9454468372528555, -1.2665747201327753, -2.0554278109094706, -2.2017208637079895, -1.3302581795828907, -2.319607612971109, -2.2248089132660236, -2.224766801878578, -2.204179307626372, -1.1181937258407841, -2.0538088544547333, -2.053707813635499, -1.546532496368985, -1.3302637129246766, -0.3798112345801472, -1.3302977627838761, -1.162690285944172, -1.6395475355058104, -2.2279318433025415, -1.1182894404061303, -1.330265680073231, -1.12879165684281, -1.2621459009052294, -1.11815382778035, -1.1182078492691288, -1.8099120992953859, -2.212670466350807, -2.0429012301764122, -2.3169354137337153, -2.0537106094512296], \"z\": [0.19379659538802, 0.4231173424820513, -0.005213492995829649, 0.4532220785643578, 0.4231018957216364, 0.4185634282945958, 0.37953891210168134, -0.005185350543959639, 0.10806515475799036, -0.005190745219071286, 0.3848304696731532, -0.02903664025178501, 0.19372293025076823, -0.005251685353151343, -0.005190930659288909, 0.04787462899943522, 0.12743822184616135, -0.0051987460650700056, -0.0051859646698393285, -0.005184411948944697, 0.10806788195159225, 0.3779014385267502, 0.18455854401578975, -0.011324948036910924, -0.0051917565090483725, -0.005292824289986925, -0.005191841787192872, -0.005182787096122431, 0.3038703999539067, -0.005643891003223233, -0.005213737385819053, -0.005203717629000927, -0.0491368584426627, 0.1937952576155657, -0.005262164895330632, -0.005191024200433765, -0.005182156724656223, -0.0052003551871485235, 0.5110086380624884, -0.00518468238211545, -0.0071144183270621135, 0.19379794526024977, -0.005344141236065997, -0.005183377352472611, -0.005207380628272585, -0.005195613882384057, 0.19351199721833565, 0.19378414518868267, 0.19379317206457572, 0.19379955055431494, 0.19380538360786456, 0.10807060339651889, -0.005192828571334874, 0.28005411519653606, -0.0052486945350684105, 0.19378610668307206, 0.36869812797852003, 0.4544849448468117, -0.0052169860520842794, -0.005461552837176055, -0.0052501194578988665, -0.005181845881003589, -0.005255964073535313, -0.005579014724640914, 0.5186029454918981, 0.385641391988029, 0.23184914488400699, -0.005186104890224646, -0.007753256615651782, 0.500160279175624, -0.005181906217895416, 0.19379890719347648, -0.010896911675292359, 0.10805543262520197, 0.42138780960971234, 0.19379590555862394, 0.10806309831204612, -0.0052084431946914506, -0.005229125349432506, 0.42315740845067945, 0.42472376976323595, 0.10806340729254187, 0.19379529648250013, -0.005283492862123639, 0.22742797240325258, -0.0052163684377350234, 0.18326480941161336, 0.10804681173301284, 0.47268599972189207, -0.005192333321025718, 0.5082636631483562, -0.005185627921847912, 0.10806378466925544, -0.0051819047478086555, 0.10806897815828692, 0.40237898804709515, 0.45802410324252835, 0.19380223782502035, 0.3851713368301082, -0.005243462076791854, 0.1938009706198366, -0.005188173365286134, 0.4848396588436794, 0.4231501844657234, 0.4185641768924615, -0.005885875291028074, 0.10769145587120503, 0.10803098955772447, 0.4580263154030062, -0.005182152501386601, 0.45802252216217404, 0.42139629558421426, 0.10163169280388026, 0.4532132223069334, -0.005183132317295851, 0.10799613692450671, 0.4185638719829532, -0.005230057129150215, 0.42138856008015624, 0.5089542584504226, -0.00545721173812946, -0.001537671266593905, -0.005192390175119669, 0.19309269869893733, -0.005191863078626446, 0.4531936267184389, 0.385535397844967, 0.4386486478763561, 0.4663032920674049, 0.45713828530390344, 0.10805003619890921, -0.005190474516722039, -0.005188451099063019, 0.1080563694618651, 0.10806883041551239, 0.4580186879530107, 0.43851476963856445, -0.08658732179482745, 0.172875131755371, 0.10795096553058456, 0.1937965664448791, -0.0058340970344360425, -0.06568124382610946, -0.005186953451240278, -0.005194207840169903, -0.00520162926164576, -0.005202081843379997, 0.45801872686207534, 0.4150585122050296, 0.10681583799189934, 0.30397611180239353, 0.4185592741919168, 0.472666187161367, -0.005230119146077253, 0.10797524539880364, 0.30397405894659746, 0.4231401078578188, 0.3039751086618543, 0.38542413927183156, 0.44459035807129965, 0.4580253535069633, 0.4223213082408849, 0.10800296864173076, 0.4529805923440111, -0.0071692919051682, 0.16032851093244796, 0.10806809501412622, 0.30397492708282936, 0.30382165937727657, -0.005204823316431413, 0.10806609863591174, 0.1937957000528165, 0.07195831933479271, 0.3734244930050919, 0.5081759177642503, 0.4579504998740467, -0.010033377127838914, 0.47263865897184915, 0.2797402871723163, -0.0051893559413749195, -0.012455584196385547, 0.10795066246094248, 0.4226543490342372, 0.4579320461605751, -0.005184632155749414, 0.4480337743273913, 0.41853332046202685, 0.48481398678913523, 0.10805144814968334, 0.4580201147213035, -0.001540609122800684, 0.42139392134118864, 0.3921947148147297, 0.4848405821464749, 0.4579907245968328, 0.46434796068365103, 0.4291276572337641, 0.39774083030124596, 0.45772896432556065, 0.2182841686629041, 0.528656990986582, 0.10806769725753104, -0.00518357822112701, 0.4531140499620248, 0.3308609406643244, 0.1102583039112368, 0.41078923972151016, 0.19278661212718834, 0.1080674391005029, 0.21827863912582554, 0.4163040417500304, 0.4848332034858824, 0.19379656774577217, 0.45673621783244045, 0.47594320429103526, 0.4759421310010462, 0.38845944867290283, -0.005203987723681487, 0.41853643274221286, 0.4185552974301825, 0.2318401571830289, 0.19377938514474521, -0.055316278288593417, 0.19375925159121601, -0.011299328584392344, 0.302113010777693, 0.47550566370645475, -0.005573799920211405, 0.19379315026326366, -0.02080337452128123, 0.1274268698870556, -0.005184053781086992, -0.005222392287406497, 0.38566735452256434, 0.5500322958074535, 0.42315101780352415, 0.4575263607373101, 0.4185634648967555]}, {\"customdata\": [[\"VeChainThor Authority\"], [\"Proof-of-BibleHash\"], [\"SHA-256 + Hive\"], [\"Proof-of-Authority\"], [\"SHA3-256\"], [\"Leased POS\"]], \"hovertemplate\": \"<b>%{hovertext}</b><br><br>Class=%{marker.color}<br>PC 1=%{x}<br>PC 2=%{y}<br>PC 3=%{z}<br>Algorithm=%{customdata[0]}<extra></extra>\", \"hovertext\": [\"Vechain\", \"BiblePay\", \"LitecoinCash\", \"Poa Network\", \"Fiii\", \"Waves\"], \"legendgroup\": \"3\", \"marker\": {\"color\": [3, 3, 3, 3, 3, 3], \"coloraxis\": \"coloraxis\", \"symbol\": \"square\"}, \"mode\": \"markers\", \"name\": \"3\", \"scene\": \"scene\", \"showlegend\": true, \"type\": \"scatter3d\", \"x\": [4.432210606010447, -0.22881222579777996, -0.33967456097180426, -0.4182832321995652, -0.5522573740328501, -0.4394151183545208], \"y\": [3.695013077669586, 2.695330125387462, 3.7195211912142856, 3.202097268403976, 3.5056103255045286, 2.80014126249209], \"z\": [7.445074345599273, 13.64019198169412, 12.93283808072315, 12.21432855539681, 14.823667981080582, 14.482189248941296]}, {\"customdata\": [[\"TRC10\"]], \"hovertemplate\": \"<b>%{hovertext}</b><br><br>Class=%{marker.color}<br>PC 1=%{x}<br>PC 2=%{y}<br>PC 3=%{z}<br>Algorithm=%{customdata[0]}<extra></extra>\", \"hovertext\": [\"BitTorrent\"], \"legendgroup\": \"2\", \"marker\": {\"color\": [2], \"coloraxis\": \"coloraxis\", \"symbol\": \"x\"}, \"mode\": \"markers\", \"name\": \"2\", \"scene\": \"scene\", \"showlegend\": true, \"type\": \"scatter3d\", \"x\": [34.0961604133052], \"y\": [1.6607853579399268], \"z\": [-1.0852845675961558]}],                        {\"coloraxis\": {\"colorbar\": {\"title\": {\"text\": \"Class\"}}, \"colorscale\": [[0.0, \"#0d0887\"], [0.1111111111111111, \"#46039f\"], [0.2222222222222222, \"#7201a8\"], [0.3333333333333333, \"#9c179e\"], [0.4444444444444444, \"#bd3786\"], [0.5555555555555556, \"#d8576b\"], [0.6666666666666666, \"#ed7953\"], [0.7777777777777778, \"#fb9f3a\"], [0.8888888888888888, \"#fdca26\"], [1.0, \"#f0f921\"]]}, \"legend\": {\"title\": {\"text\": \"Class\"}, \"tracegroupgap\": 0, \"x\": 0, \"y\": 1}, \"margin\": {\"t\": 60}, \"scene\": {\"domain\": {\"x\": [0.0, 1.0], \"y\": [0.0, 1.0]}, \"xaxis\": {\"title\": {\"text\": \"PC 1\"}}, \"yaxis\": {\"title\": {\"text\": \"PC 2\"}}, \"zaxis\": {\"title\": {\"text\": \"PC 3\"}}}, \"template\": {\"data\": {\"bar\": [{\"error_x\": {\"color\": \"#2a3f5f\"}, \"error_y\": {\"color\": \"#2a3f5f\"}, \"marker\": {\"line\": {\"color\": \"#E5ECF6\", \"width\": 0.5}}, \"type\": \"bar\"}], \"barpolar\": [{\"marker\": {\"line\": {\"color\": \"#E5ECF6\", \"width\": 0.5}}, \"type\": \"barpolar\"}], \"carpet\": [{\"aaxis\": {\"endlinecolor\": \"#2a3f5f\", \"gridcolor\": \"white\", \"linecolor\": \"white\", \"minorgridcolor\": \"white\", \"startlinecolor\": \"#2a3f5f\"}, \"baxis\": {\"endlinecolor\": \"#2a3f5f\", \"gridcolor\": \"white\", \"linecolor\": \"white\", \"minorgridcolor\": \"white\", \"startlinecolor\": \"#2a3f5f\"}, \"type\": \"carpet\"}], \"choropleth\": [{\"colorbar\": {\"outlinewidth\": 0, \"ticks\": \"\"}, \"type\": \"choropleth\"}], \"contour\": [{\"colorbar\": {\"outlinewidth\": 0, \"ticks\": \"\"}, \"colorscale\": [[0.0, \"#0d0887\"], [0.1111111111111111, \"#46039f\"], [0.2222222222222222, \"#7201a8\"], [0.3333333333333333, \"#9c179e\"], [0.4444444444444444, \"#bd3786\"], [0.5555555555555556, \"#d8576b\"], [0.6666666666666666, \"#ed7953\"], [0.7777777777777778, \"#fb9f3a\"], [0.8888888888888888, \"#fdca26\"], [1.0, \"#f0f921\"]], \"type\": \"contour\"}], \"contourcarpet\": [{\"colorbar\": {\"outlinewidth\": 0, \"ticks\": \"\"}, \"type\": \"contourcarpet\"}], \"heatmap\": [{\"colorbar\": {\"outlinewidth\": 0, \"ticks\": \"\"}, \"colorscale\": [[0.0, \"#0d0887\"], [0.1111111111111111, \"#46039f\"], [0.2222222222222222, \"#7201a8\"], [0.3333333333333333, \"#9c179e\"], [0.4444444444444444, \"#bd3786\"], [0.5555555555555556, \"#d8576b\"], [0.6666666666666666, \"#ed7953\"], [0.7777777777777778, \"#fb9f3a\"], [0.8888888888888888, \"#fdca26\"], [1.0, \"#f0f921\"]], \"type\": \"heatmap\"}], \"heatmapgl\": [{\"colorbar\": {\"outlinewidth\": 0, \"ticks\": \"\"}, \"colorscale\": [[0.0, \"#0d0887\"], [0.1111111111111111, \"#46039f\"], [0.2222222222222222, \"#7201a8\"], [0.3333333333333333, \"#9c179e\"], [0.4444444444444444, \"#bd3786\"], [0.5555555555555556, \"#d8576b\"], [0.6666666666666666, \"#ed7953\"], [0.7777777777777778, \"#fb9f3a\"], [0.8888888888888888, \"#fdca26\"], [1.0, \"#f0f921\"]], \"type\": \"heatmapgl\"}], \"histogram\": [{\"marker\": {\"colorbar\": {\"outlinewidth\": 0, \"ticks\": \"\"}}, \"type\": \"histogram\"}], \"histogram2d\": [{\"colorbar\": {\"outlinewidth\": 0, \"ticks\": \"\"}, \"colorscale\": [[0.0, \"#0d0887\"], [0.1111111111111111, \"#46039f\"], [0.2222222222222222, \"#7201a8\"], [0.3333333333333333, \"#9c179e\"], [0.4444444444444444, \"#bd3786\"], [0.5555555555555556, \"#d8576b\"], [0.6666666666666666, \"#ed7953\"], [0.7777777777777778, \"#fb9f3a\"], [0.8888888888888888, \"#fdca26\"], [1.0, \"#f0f921\"]], \"type\": \"histogram2d\"}], \"histogram2dcontour\": [{\"colorbar\": {\"outlinewidth\": 0, \"ticks\": \"\"}, \"colorscale\": [[0.0, \"#0d0887\"], [0.1111111111111111, \"#46039f\"], [0.2222222222222222, \"#7201a8\"], [0.3333333333333333, \"#9c179e\"], [0.4444444444444444, \"#bd3786\"], [0.5555555555555556, \"#d8576b\"], [0.6666666666666666, \"#ed7953\"], [0.7777777777777778, \"#fb9f3a\"], [0.8888888888888888, \"#fdca26\"], [1.0, \"#f0f921\"]], \"type\": \"histogram2dcontour\"}], \"mesh3d\": [{\"colorbar\": {\"outlinewidth\": 0, \"ticks\": \"\"}, \"type\": \"mesh3d\"}], \"parcoords\": [{\"line\": {\"colorbar\": {\"outlinewidth\": 0, \"ticks\": \"\"}}, \"type\": \"parcoords\"}], \"pie\": [{\"automargin\": true, \"type\": \"pie\"}], \"scatter\": [{\"marker\": {\"colorbar\": {\"outlinewidth\": 0, \"ticks\": \"\"}}, \"type\": \"scatter\"}], \"scatter3d\": [{\"line\": {\"colorbar\": {\"outlinewidth\": 0, \"ticks\": \"\"}}, \"marker\": {\"colorbar\": {\"outlinewidth\": 0, \"ticks\": \"\"}}, \"type\": \"scatter3d\"}], \"scattercarpet\": [{\"marker\": {\"colorbar\": {\"outlinewidth\": 0, \"ticks\": \"\"}}, \"type\": \"scattercarpet\"}], \"scattergeo\": [{\"marker\": {\"colorbar\": {\"outlinewidth\": 0, \"ticks\": \"\"}}, \"type\": \"scattergeo\"}], \"scattergl\": [{\"marker\": {\"colorbar\": {\"outlinewidth\": 0, \"ticks\": \"\"}}, \"type\": \"scattergl\"}], \"scattermapbox\": [{\"marker\": {\"colorbar\": {\"outlinewidth\": 0, \"ticks\": \"\"}}, \"type\": \"scattermapbox\"}], \"scatterpolar\": [{\"marker\": {\"colorbar\": {\"outlinewidth\": 0, \"ticks\": \"\"}}, \"type\": \"scatterpolar\"}], \"scatterpolargl\": [{\"marker\": {\"colorbar\": {\"outlinewidth\": 0, \"ticks\": \"\"}}, \"type\": \"scatterpolargl\"}], \"scatterternary\": [{\"marker\": {\"colorbar\": {\"outlinewidth\": 0, \"ticks\": \"\"}}, \"type\": \"scatterternary\"}], \"surface\": [{\"colorbar\": {\"outlinewidth\": 0, \"ticks\": \"\"}, \"colorscale\": [[0.0, \"#0d0887\"], [0.1111111111111111, \"#46039f\"], [0.2222222222222222, \"#7201a8\"], [0.3333333333333333, \"#9c179e\"], [0.4444444444444444, \"#bd3786\"], [0.5555555555555556, \"#d8576b\"], [0.6666666666666666, \"#ed7953\"], [0.7777777777777778, \"#fb9f3a\"], [0.8888888888888888, \"#fdca26\"], [1.0, \"#f0f921\"]], \"type\": \"surface\"}], \"table\": [{\"cells\": {\"fill\": {\"color\": \"#EBF0F8\"}, \"line\": {\"color\": \"white\"}}, \"header\": {\"fill\": {\"color\": \"#C8D4E3\"}, \"line\": {\"color\": \"white\"}}, \"type\": \"table\"}]}, \"layout\": {\"annotationdefaults\": {\"arrowcolor\": \"#2a3f5f\", \"arrowhead\": 0, \"arrowwidth\": 1}, \"coloraxis\": {\"colorbar\": {\"outlinewidth\": 0, \"ticks\": \"\"}}, \"colorscale\": {\"diverging\": [[0, \"#8e0152\"], [0.1, \"#c51b7d\"], [0.2, \"#de77ae\"], [0.3, \"#f1b6da\"], [0.4, \"#fde0ef\"], [0.5, \"#f7f7f7\"], [0.6, \"#e6f5d0\"], [0.7, \"#b8e186\"], [0.8, \"#7fbc41\"], [0.9, \"#4d9221\"], [1, \"#276419\"]], \"sequential\": [[0.0, \"#0d0887\"], [0.1111111111111111, \"#46039f\"], [0.2222222222222222, \"#7201a8\"], [0.3333333333333333, \"#9c179e\"], [0.4444444444444444, \"#bd3786\"], [0.5555555555555556, \"#d8576b\"], [0.6666666666666666, \"#ed7953\"], [0.7777777777777778, \"#fb9f3a\"], [0.8888888888888888, \"#fdca26\"], [1.0, \"#f0f921\"]], \"sequentialminus\": [[0.0, \"#0d0887\"], [0.1111111111111111, \"#46039f\"], [0.2222222222222222, \"#7201a8\"], [0.3333333333333333, \"#9c179e\"], [0.4444444444444444, \"#bd3786\"], [0.5555555555555556, \"#d8576b\"], [0.6666666666666666, \"#ed7953\"], [0.7777777777777778, \"#fb9f3a\"], [0.8888888888888888, \"#fdca26\"], [1.0, \"#f0f921\"]]}, \"colorway\": [\"#636efa\", \"#EF553B\", \"#00cc96\", \"#ab63fa\", \"#FFA15A\", \"#19d3f3\", \"#FF6692\", \"#B6E880\", \"#FF97FF\", \"#FECB52\"], \"font\": {\"color\": \"#2a3f5f\"}, \"geo\": {\"bgcolor\": \"white\", \"lakecolor\": \"white\", \"landcolor\": \"#E5ECF6\", \"showlakes\": true, \"showland\": true, \"subunitcolor\": \"white\"}, \"hoverlabel\": {\"align\": \"left\"}, \"hovermode\": \"closest\", \"mapbox\": {\"style\": \"light\"}, \"paper_bgcolor\": \"white\", \"plot_bgcolor\": \"#E5ECF6\", \"polar\": {\"angularaxis\": {\"gridcolor\": \"white\", \"linecolor\": \"white\", \"ticks\": \"\"}, \"bgcolor\": \"#E5ECF6\", \"radialaxis\": {\"gridcolor\": \"white\", \"linecolor\": \"white\", \"ticks\": \"\"}}, \"scene\": {\"xaxis\": {\"backgroundcolor\": \"#E5ECF6\", \"gridcolor\": \"white\", \"gridwidth\": 2, \"linecolor\": \"white\", \"showbackground\": true, \"ticks\": \"\", \"zerolinecolor\": \"white\"}, \"yaxis\": {\"backgroundcolor\": \"#E5ECF6\", \"gridcolor\": \"white\", \"gridwidth\": 2, \"linecolor\": \"white\", \"showbackground\": true, \"ticks\": \"\", \"zerolinecolor\": \"white\"}, \"zaxis\": {\"backgroundcolor\": \"#E5ECF6\", \"gridcolor\": \"white\", \"gridwidth\": 2, \"linecolor\": \"white\", \"showbackground\": true, \"ticks\": \"\", \"zerolinecolor\": \"white\"}}, \"shapedefaults\": {\"line\": {\"color\": \"#2a3f5f\"}}, \"ternary\": {\"aaxis\": {\"gridcolor\": \"white\", \"linecolor\": \"white\", \"ticks\": \"\"}, \"baxis\": {\"gridcolor\": \"white\", \"linecolor\": \"white\", \"ticks\": \"\"}, \"bgcolor\": \"#E5ECF6\", \"caxis\": {\"gridcolor\": \"white\", \"linecolor\": \"white\", \"ticks\": \"\"}}, \"title\": {\"x\": 0.05}, \"xaxis\": {\"automargin\": true, \"gridcolor\": \"white\", \"linecolor\": \"white\", \"ticks\": \"\", \"title\": {\"standoff\": 15}, \"zerolinecolor\": \"white\", \"zerolinewidth\": 2}, \"yaxis\": {\"automargin\": true, \"gridcolor\": \"white\", \"linecolor\": \"white\", \"ticks\": \"\", \"title\": {\"standoff\": 15}, \"zerolinecolor\": \"white\", \"zerolinewidth\": 2}}}, \"width\": 800},                        {\"responsive\": true}                    ).then(function(){\n",
       "                            \n",
       "var gd = document.getElementById('34fd5a3e-49f4-44e9-ba2a-e21b21081d58');\n",
       "var x = new MutationObserver(function (mutations, observer) {{\n",
       "        var display = window.getComputedStyle(gd).display;\n",
       "        if (!display || display === 'none') {{\n",
       "            console.log([gd, 'removed!']);\n",
       "            Plotly.purge(gd);\n",
       "            observer.disconnect();\n",
       "        }}\n",
       "}});\n",
       "\n",
       "// Listen for the removal of the full notebook cells\n",
       "var notebookContainer = gd.closest('#notebook-container');\n",
       "if (notebookContainer) {{\n",
       "    x.observe(notebookContainer, {childList: true});\n",
       "}}\n",
       "\n",
       "// Listen for the clearing of the current output cell\n",
       "var outputEl = gd.closest('.output');\n",
       "if (outputEl) {{\n",
       "    x.observe(outputEl, {childList: true});\n",
       "}}\n",
       "\n",
       "                        })                };                });            </script>        </div>"
      ]
     },
     "metadata": {},
     "output_type": "display_data"
    }
   ],
   "source": [
    "# Create a 3D-Scatter with the PCA data and the clusters\n",
    "fig = px.scatter_3d(\n",
    "    clustered_df,\n",
    "    x=\"PC 1\",\n",
    "    y=\"PC 2\",\n",
    "    z=\"PC 3\",\n",
    "    color=\"Class\",\n",
    "    symbol=\"Class\",\n",
    "    width=800,\n",
    "    hover_name=\"CoinName\",\n",
    "    hover_data=[\"Algorithm\"]\n",
    ")\n",
    "\n",
    "fig.update_layout(legend=dict(x=0, y=1))\n",
    "fig.show() "
   ]
  },
  {
   "cell_type": "markdown",
   "metadata": {},
   "source": [
    "#### Table of Tradable Cryptocurrencies"
   ]
  },
  {
   "cell_type": "code",
   "execution_count": 66,
   "metadata": {},
   "outputs": [
    {
     "data": {},
     "metadata": {},
     "output_type": "display_data"
    },
    {
     "data": {
      "application/vnd.holoviews_exec.v0+json": "",
      "text/html": [
       "<div id='1145'>\n",
       "\n",
       "\n",
       "\n",
       "\n",
       "\n",
       "  <div class=\"bk-root\" id=\"c1179bf1-4f02-44d7-be0f-1771fee9f834\" data-root-id=\"1145\"></div>\n",
       "</div>\n",
       "<script type=\"application/javascript\">(function(root) {\n",
       "  function embed_document(root) {\n",
       "  var docs_json = {\"93e823d8-5977-4d9d-b814-baabd523f25a\":{\"roots\":{\"references\":[{\"attributes\":{},\"id\":\"1174\",\"type\":\"NumberFormatter\"},{\"attributes\":{\"format\":\"0,0.0[00000]\"},\"id\":\"1169\",\"type\":\"NumberFormatter\"},{\"attributes\":{},\"id\":\"1159\",\"type\":\"StringFormatter\"},{\"attributes\":{\"editor\":{\"id\":\"1170\"},\"field\":\"TotalCoinsMined\",\"formatter\":{\"id\":\"1169\"},\"title\":\"TotalCoinsMined\"},\"id\":\"1171\",\"type\":\"TableColumn\"},{\"attributes\":{},\"id\":\"1160\",\"type\":\"StringEditor\"},{\"attributes\":{\"source\":{\"id\":\"1147\"}},\"id\":\"1180\",\"type\":\"CDSView\"},{\"attributes\":{},\"id\":\"1182\",\"type\":\"UnionRenderers\"},{\"attributes\":{\"editor\":{\"id\":\"1165\"},\"field\":\"TotalCoinSupply\",\"formatter\":{\"id\":\"1164\"},\"title\":\"TotalCoinSupply\"},\"id\":\"1166\",\"type\":\"TableColumn\"},{\"attributes\":{},\"id\":\"1164\",\"type\":\"StringFormatter\"},{\"attributes\":{\"data\":{\"Algorithm\":[\"Scrypt\",\"Scrypt\",\"X13\",\"SHA-256\",\"Ethash\",\"Scrypt\",\"X11\",\"CryptoNight-V7\",\"Ethash\",\"Equihash\",\"SHA-512\",\"Multiple\",\"SHA-256\",\"SHA-256\",\"Scrypt\",\"X15\",\"X11\",\"Scrypt\",\"Scrypt\",\"Scrypt\",\"Multiple\",\"Scrypt\",\"SHA-256\",\"Scrypt\",\"Scrypt\",\"Scrypt\",\"Quark\",\"Groestl\",\"Scrypt\",\"Scrypt\",\"Scrypt\",\"Scrypt\",\"Scrypt\",\"X11\",\"Scrypt\",\"Groestl\",\"Multiple\",\"SHA-256\",\"Scrypt\",\"Scrypt\",\"Scrypt\",\"Scrypt\",\"PoS\",\"Scrypt\",\"Scrypt\",\"NeoScrypt\",\"Scrypt\",\"Scrypt\",\"Scrypt\",\"Scrypt\",\"X11\",\"Scrypt\",\"X11\",\"SHA-256\",\"Scrypt\",\"Scrypt\",\"Scrypt\",\"SHA3\",\"Scrypt\",\"HybridScryptHash256\",\"Scrypt\",\"Scrypt\",\"SHA-256\",\"Scrypt\",\"X13\",\"Scrypt\",\"SHA-256\",\"Scrypt\",\"X13\",\"NeoScrypt\",\"Scrypt\",\"Scrypt\",\"Scrypt\",\"Scrypt\",\"Scrypt\",\"Scrypt\",\"X11\",\"X11\",\"SHA-256\",\"Multiple\",\"SHA-256\",\"PHI1612\",\"X11\",\"SHA-256\",\"SHA-256\",\"SHA-256\",\"X11\",\"Scrypt\",\"Scrypt\",\"Scrypt\",\"Scrypt\",\"Lyra2REv2\",\"Scrypt\",\"X11\",\"Multiple\",\"SHA-256\",\"X13\",\"Scrypt\",\"CryptoNight\",\"CryptoNight\",\"Shabal256\",\"Counterparty\",\"Scrypt\",\"SHA-256\",\"Groestl\",\"Scrypt\",\"Scrypt\",\"Scrypt\",\"X13\",\"Scrypt\",\"Scrypt\",\"Scrypt\",\"Scrypt\",\"X13\",\"Scrypt\",\"Stanford Folding\",\"X11\",\"Multiple\",\"QuBit\",\"Scrypt\",\"Scrypt\",\"Scrypt\",\"M7 POW\",\"Scrypt\",\"SHA-256\",\"Scrypt\",\"X11\",\"SHA3\",\"X11\",\"Lyra2RE\",\"SHA-256\",\"QUAIT\",\"X11\",\"X11\",\"Scrypt\",\"Scrypt\",\"Scrypt\",\"Ethash\",\"X13\",\"Blake2b\",\"SHA-256\",\"X15\",\"X11\",\"SHA-256\",\"BLAKE256\",\"Scrypt\",\"1GB AES Pattern Search\",\"SHA-256\",\"X11\",\"Scrypt\",\"SHA-256\",\"SHA-256\",\"NIST5\",\"Scrypt\",\"Scrypt\",\"X11\",\"Dagger\",\"Scrypt\",\"X11GOST\",\"X11\",\"Scrypt\",\"SHA-256\",\"Scrypt\",\"PoS\",\"Scrypt\",\"X11\",\"X11\",\"SHA-256\",\"SHA-256\",\"NIST5\",\"X11\",\"Scrypt\",\"POS 3.0\",\"Scrypt\",\"Scrypt\",\"Scrypt\",\"X13\",\"X11\",\"X11\",\"Equihash\",\"X11\",\"Scrypt\",\"CryptoNight\",\"SHA-256\",\"SHA-256\",\"X11\",\"Scrypt\",\"Multiple\",\"Scrypt\",\"Scrypt\",\"Scrypt\",\"SHA-256\",\"Scrypt\",\"Scrypt\",\"SHA-256D\",\"PoS\",\"Scrypt\",\"X11\",\"Lyra2Z\",\"PoS\",\"X13\",\"X14\",\"PoS\",\"SHA-256D\",\"Ethash\",\"Equihash\",\"DPoS\",\"X11\",\"Scrypt\",\"X11\",\"X13\",\"X11\",\"PoS\",\"Scrypt\",\"Scrypt\",\"X11\",\"PoS\",\"X11\",\"SHA-256\",\"Scrypt\",\"X11\",\"Scrypt\",\"Scrypt\",\"X11\",\"CryptoNight\",\"Scrypt\",\"Scrypt\",\"Scrypt\",\"Scrypt\",\"Quark\",\"QuBit\",\"Scrypt\",\"CryptoNight\",\"Lyra2RE\",\"Scrypt\",\"SHA-256\",\"X11\",\"Scrypt\",\"X11\",\"Scrypt\",\"CryptoNight-V7\",\"Scrypt\",\"Scrypt\",\"Scrypt\",\"X13\",\"X11\",\"Equihash\",\"Scrypt\",\"Scrypt\",\"Lyra2RE\",\"Scrypt\",\"Dagger-Hashimoto\",\"X11\",\"Blake2S\",\"X11\",\"Scrypt\",\"PoS\",\"X11\",\"NIST5\",\"PoS\",\"X11\",\"Scrypt\",\"Scrypt\",\"Scrypt\",\"SHA-256\",\"X11\",\"Scrypt\",\"Scrypt\",\"SHA-256\",\"PoS\",\"Scrypt\",\"X15\",\"SHA-256\",\"Scrypt\",\"POS 3.0\",\"CryptoNight-V7\",\"536\",\"Argon2d\",\"Blake2b\",\"Cloverhash\",\"CryptoNight\",\"NIST5\",\"X11\",\"NIST5\",\"Skein\",\"Scrypt\",\"X13\",\"Scrypt\",\"X11\",\"X11\",\"Scrypt\",\"CryptoNight\",\"X13\",\"Time Travel\",\"Scrypt\",\"Keccak\",\"SkunkHash v2 Raptor\",\"X11\",\"Skein\",\"SHA-256\",\"X11\",\"Scrypt\",\"VeChainThor Authority\",\"Scrypt\",\"PoS\",\"Scrypt\",\"Scrypt\",\"Scrypt\",\"Scrypt\",\"Scrypt\",\"Scrypt\",\"Scrypt\",\"CryptoNight\",\"SHA-512\",\"Ouroboros\",\"X11\",\"Equihash\",\"NeoScrypt\",\"X11\",\"Scrypt\",\"NeoScrypt\",\"Lyra2REv2\",\"Equihash\",\"Scrypt\",\"SHA-256\",\"NIST5\",\"PHI1612\",\"Dagger\",\"Scrypt\",\"Quark\",\"Scrypt\",\"POS 2.0\",\"Scrypt\",\"SHA-256\",\"X11\",\"NeoScrypt\",\"Ethash\",\"NeoScrypt\",\"X11\",\"DPoS\",\"NIST5\",\"X13\",\"Multiple\",\"Scrypt\",\"CryptoNight\",\"CryptoNight\",\"Ethash\",\"NIST5\",\"Quark\",\"X11\",\"CryptoNight-V7\",\"Scrypt\",\"Scrypt\",\"Scrypt\",\"X11\",\"BLAKE256\",\"X11\",\"NeoScrypt\",\"Quark\",\"NeoScrypt\",\"Scrypt\",\"Scrypt\",\"Scrypt\",\"X11\",\"X11\",\"SHA-256\",\"C11\",\"POS 3.0\",\"Ethash\",\"Scrypt\",\"CryptoNight\",\"SkunkHash\",\"Scrypt\",\"CryptoNight\",\"Scrypt\",\"Dagger\",\"Lyra2REv2\",\"X13\",\"Proof-of-BibleHash\",\"SHA-256 + Hive\",\"Scrypt\",\"Scrypt\",\"X11\",\"C11\",\"Proof-of-Authority\",\"X11\",\"XEVAN\",\"Scrypt\",\"VBFT\",\"Ethash\",\"CryptoNight\",\"Scrypt\",\"IMesh\",\"NIST5\",\"Scrypt\",\"Scrypt\",\"Equihash\",\"Scrypt\",\"Lyra2Z\",\"Green Protocol\",\"PoS\",\"Scrypt\",\"Semux BFT consensus\",\"X11\",\"Quark\",\"PoS\",\"CryptoNight\",\"X16R\",\"Scrypt\",\"NIST5\",\"Lyra2RE\",\"XEVAN\",\"Tribus\",\"Scrypt\",\"Lyra2Z\",\"CryptoNight\",\"CryptoNight Heavy\",\"CryptoNight\",\"Scrypt\",\"Scrypt\",\"Jump Consistent Hash\",\"SHA-256D\",\"CryptoNight\",\"Scrypt\",\"X15\",\"Scrypt\",\"Quark\",\"SHA-256\",\"DPoS\",\"X16R\",\"HMQ1725\",\"X11\",\"X16R\",\"Quark\",\"Quark\",\"Scrypt\",\"Lyra2REv2\",\"Quark\",\"Scrypt\",\"Scrypt\",\"CryptoNight-V7\",\"Cryptonight-GPU\",\"XEVAN\",\"CryptoNight Heavy\",\"X11\",\"X11\",\"Scrypt\",\"PoS\",\"SHA-256\",\"Keccak\",\"X11\",\"X11\",\"Scrypt\",\"SHA-512\",\"X16R\",\"ECC 256K1\",\"Equihash\",\"XEVAN\",\"Lyra2Z\",\"SHA-256\",\"XEVAN\",\"X11\",\"CryptoNight\",\"Quark\",\"Blake\",\"Blake\",\"Equihash\",\"Exosis\",\"Scrypt\",\"Scrypt\",\"Equihash\",\"Quark\",\"Equihash\",\"Quark\",\"Scrypt\",\"QuBit\",\"X11\",\"Scrypt\",\"XEVAN\",\"SHA-256D\",\"X11\",\"SHA-256\",\"X13\",\"SHA-256\",\"X11\",\"DPoS\",\"Scrypt\",\"Scrypt\",\"X11\",\"NeoScrypt\",\"Scrypt\",\"Blake\",\"Scrypt\",\"SHA-256\",\"Scrypt\",\"X11\",\"Scrypt\",\"Scrypt\",\"SHA-256\",\"X11\",\"SHA-256\",\"Scrypt\",\"Scrypt\",\"Scrypt\",\"Groestl\",\"X11\",\"Scrypt\",\"PoS\",\"Scrypt\",\"Scrypt\",\"X11\",\"SHA-256\",\"DPoS\",\"Scrypt\",\"Scrypt\",\"NeoScrypt\",\"SHA3-256\",\"Multiple\",\"X13\",\"Equihash+Scrypt\",\"DPoS\",\"Ethash\",\"DPoS\",\"SHA-256\",\"Leased POS\",\"PoS\",\"TRC10\",\"PoS\",\"SHA-256\",\"Scrypt\",\"CryptoNight\",\"Equihash\",\"Scrypt\"],\"Class\":{\"__ndarray__\":\"AAAAAAAAAAAAAAAAAQAAAAEAAAABAAAAAAAAAAEAAAABAAAAAQAAAAAAAAABAAAAAAAAAAAAAAABAAAAAAAAAAEAAAABAAAAAAAAAAAAAAABAAAAAQAAAAEAAAABAAAAAQAAAAAAAAABAAAAAQAAAAEAAAAAAAAAAQAAAAAAAAABAAAAAQAAAAAAAAAAAAAAAQAAAAEAAAABAAAAAQAAAAEAAAABAAAAAAAAAAAAAAABAAAAAQAAAAEAAAABAAAAAQAAAAAAAAAAAAAAAQAAAAAAAAABAAAAAQAAAAEAAAABAAAAAAAAAAEAAAABAAAAAAAAAAEAAAAAAAAAAAAAAAAAAAABAAAAAQAAAAEAAAAAAAAAAAAAAAAAAAAAAAAAAAAAAAEAAAABAAAAAQAAAAAAAAAAAAAAAQAAAAAAAAABAAAAAAAAAAAAAAABAAAAAQAAAAEAAAABAAAAAAAAAAAAAAABAAAAAAAAAAEAAAABAAAAAAAAAAAAAAABAAAAAAAAAAAAAAABAAAAAQAAAAAAAAAAAAAAAQAAAAAAAAAAAAAAAQAAAAAAAAABAAAAAAAAAAEAAAAAAAAAAQAAAAAAAAAAAAAAAQAAAAEAAAAAAAAAAQAAAAEAAAABAAAAAAAAAAEAAAABAAAAAQAAAAEAAAABAAAAAAAAAAAAAAABAAAAAQAAAAEAAAAAAAAAAQAAAAAAAAABAAAAAQAAAAAAAAABAAAAAAAAAAEAAAAAAAAAAAAAAAEAAAABAAAAAAAAAAEAAAABAAAAAAAAAAAAAAABAAAAAAAAAAEAAAAAAAAAAAAAAAAAAAABAAAAAQAAAAEAAAABAAAAAAAAAAAAAAAAAAAAAAAAAAAAAAABAAAAAQAAAAAAAAAAAAAAAAAAAAAAAAAAAAAAAQAAAAAAAAAAAAAAAAAAAAAAAAAAAAAAAQAAAAAAAAABAAAAAAAAAAAAAAABAAAAAAAAAAEAAAAAAAAAAAAAAAEAAAAAAAAAAQAAAAAAAAABAAAAAAAAAAEAAAAAAAAAAAAAAAAAAAAAAAAAAQAAAAAAAAAAAAAAAAAAAAAAAAAAAAAAAQAAAAEAAAAAAAAAAAAAAAEAAAABAAAAAAAAAAAAAAAAAAAAAAAAAAAAAAABAAAAAAAAAAAAAAAAAAAAAAAAAAAAAAAAAAAAAAAAAAAAAAABAAAAAAAAAAAAAAAAAAAAAAAAAAAAAAAAAAAAAQAAAAEAAAABAAAAAAAAAAAAAAAAAAAAAAAAAAEAAAAAAAAAAQAAAAAAAAAAAAAAAQAAAAAAAAABAAAAAQAAAAAAAAABAAAAAQAAAAAAAAABAAAAAAAAAAAAAAAAAAAAAQAAAAAAAAAAAAAAAQAAAAAAAAAAAAAAAAAAAAAAAAAAAAAAAAAAAAAAAAABAAAAAAAAAAEAAAAAAAAAAAAAAAAAAAAAAAAAAQAAAAAAAAABAAAAAAAAAAEAAAABAAAAAQAAAAEAAAAAAAAAAQAAAAAAAAAAAAAAAQAAAAAAAAABAAAAAQAAAAEAAAAAAAAAAQAAAAAAAAABAAAAAQAAAAEAAAAAAAAAAQAAAAAAAAABAAAAAAAAAAAAAAADAAAAAQAAAAAAAAABAAAAAQAAAAEAAAABAAAAAQAAAAAAAAAAAAAAAQAAAAAAAAAAAAAAAAAAAAEAAAAAAAAAAQAAAAAAAAABAAAAAAAAAAEAAAAAAAAAAAAAAAAAAAAAAAAAAQAAAAAAAAAAAAAAAQAAAAAAAAAAAAAAAAAAAAEAAAABAAAAAQAAAAEAAAAAAAAAAAAAAAAAAAAAAAAAAQAAAAAAAAABAAAAAQAAAAEAAAAAAAAAAAAAAAEAAAABAAAAAAAAAAAAAAABAAAAAAAAAAEAAAABAAAAAQAAAAAAAAABAAAAAQAAAAAAAAAAAAAAAAAAAAEAAAABAAAAAQAAAAAAAAAAAAAAAAAAAAEAAAABAAAAAAAAAAEAAAABAAAAAQAAAAEAAAAAAAAAAwAAAAMAAAABAAAAAQAAAAEAAAAAAAAAAwAAAAAAAAAAAAAAAAAAAAAAAAABAAAAAQAAAAEAAAABAAAAAAAAAAAAAAAAAAAAAQAAAAAAAAABAAAAAAAAAAAAAAAAAAAAAAAAAAEAAAAAAAAAAAAAAAEAAAAAAAAAAAAAAAEAAAABAAAAAAAAAAEAAAAAAAAAAQAAAAEAAAABAAAAAQAAAAAAAAAAAAAAAQAAAAAAAAABAAAAAAAAAAAAAAAAAAAAAAAAAAAAAAAAAAAAAQAAAAEAAAABAAAAAAAAAAAAAAAAAAAAAAAAAAAAAAAAAAAAAQAAAAAAAAABAAAAAQAAAAEAAAABAAAAAAAAAAAAAAAAAAAAAAAAAAEAAAAAAAAAAAAAAAEAAAAAAAAAAAAAAAEAAAAAAAAAAQAAAAAAAAABAAAAAQAAAAAAAAAAAAAAAQAAAAAAAAABAAAAAQAAAAAAAAABAAAAAQAAAAAAAAABAAAAAAAAAAEAAAAAAAAAAAAAAAEAAAAAAAAAAAAAAAAAAAAAAAAAAAAAAAEAAAABAAAAAQAAAAAAAAAAAAAAAAAAAAEAAAAAAAAAAQAAAAAAAAABAAAAAAAAAAAAAAAAAAAAAAAAAAEAAAAAAAAAAAAAAAAAAAABAAAAAAAAAAEAAAAAAAAAAQAAAAAAAAAAAAAAAAAAAAEAAAABAAAAAAAAAAAAAAAAAAAAAAAAAAAAAAAAAAAAAwAAAAEAAAAAAAAAAQAAAAAAAAABAAAAAAAAAAAAAAADAAAAAAAAAAIAAAAAAAAAAAAAAAAAAAABAAAAAQAAAAAAAAA=\",\"dtype\":\"int32\",\"shape\":[533]},\"CoinName\":[\"42 Coin\",\"404Coin\",\"EliteCoin\",\"Bitcoin\",\"Ethereum\",\"Litecoin\",\"Dash\",\"Monero\",\"Ethereum Classic\",\"ZCash\",\"Bitshares\",\"DigiByte\",\"BitcoinDark\",\"PayCoin\",\"ProsperCoin\",\"KoboCoin\",\"Spreadcoin\",\"Argentum\",\"Aurora Coin\",\"BlueCoin\",\"MyriadCoin\",\"MoonCoin\",\"ZetaCoin\",\"SexCoin\",\"Quatloo\",\"EnergyCoin\",\"QuarkCoin\",\"Riecoin\",\"Digitalcoin \",\"BitBar\",\"Catcoin\",\"CryptoBullion\",\"CannaCoin\",\"CryptCoin\",\"CasinoCoin\",\"Diamond\",\"Verge\",\"DevCoin\",\"EarthCoin\",\"E-Gulden\",\"Einsteinium\",\"Emerald\",\"Exclusive Coin\",\"FlutterCoin\",\"Franko\",\"FeatherCoin\",\"GrandCoin\",\"GlobalCoin\",\"GoldCoin\",\"HoboNickels\",\"HyperStake\",\"Infinite Coin\",\"IOCoin\",\"IXcoin\",\"KrugerCoin\",\"LuckyCoin\",\"Litebar \",\"MaxCoin\",\"MegaCoin\",\"MediterraneanCoin\",\"MintCoin\",\"MinCoin\",\"MazaCoin\",\"Nautilus Coin\",\"NavCoin\",\"NobleCoin\",\"Namecoin\",\"NyanCoin\",\"OpalCoin\",\"Orbitcoin\",\"PotCoin\",\"PhoenixCoin\",\"Reddcoin\",\"RonPaulCoin\",\"StableCoin\",\"SmartCoin\",\"SuperCoin\",\"SyncCoin\",\"SysCoin\",\"TeslaCoin\",\"TigerCoin\",\"TittieCoin\",\"TorCoin\",\"TerraCoin\",\"UnbreakableCoin\",\"Unobtanium\",\"UroCoin\",\"UnitaryStatus Dollar\",\"UltraCoin\",\"ViaCoin\",\"VeriCoin\",\"Vertcoin\",\"WorldCoin\",\"X11 Coin\",\"Crypti\",\"JouleCoin\",\"StealthCoin\",\"ZCC Coin\",\"ByteCoin\",\"DigitalNote \",\"BurstCoin\",\"StorjCoin\",\"MonaCoin\",\"Neutron\",\"FairCoin\",\"Gulden\",\"RubyCoin\",\"PesetaCoin\",\"Kore\",\"Wild Beast Coin\",\"Dnotes\",\"Flo\",\"8BIT Coin\",\"Sativa Coin\",\"ArtByte\",\"Folding Coin\",\"Ucoin\",\"Unitus\",\"CypherPunkCoin\",\"OmniCron\",\"Vtorrent\",\"GreenCoin\",\"Cryptonite\",\"MasterCoin\",\"SoonCoin\",\"1Credit\",\"IslaCoin\",\"Nexus\",\"MarsCoin \",\"Crypto\",\"Anarchists Prime\",\"Droidz\",\"BowsCoin\",\"Squall Coin\",\"Song Coin\",\"BitZeny\",\"Diggits\",\"Expanse\",\"Paycon\",\"Siacoin\",\"Emercoin\",\"EverGreenCoin\",\"MindCoin\",\"I0coin\",\"Decred\",\"Revolution VR\",\"HOdlcoin\",\"EDRCoin\",\"Hitcoin\",\"Gamecredits\",\"DubaiCoin\",\"CarpeDiemCoin\",\"PWR Coin\",\"BillaryCoin\",\"GPU Coin\",\"Adzcoin\",\"SoilCoin\",\"YoCoin\",\"SibCoin\",\"EuropeCoin\",\"ZeitCoin\",\"SwingCoin\",\"SafeExchangeCoin\",\"Nebuchadnezzar\",\"Francs\",\"BolivarCoin\",\"Ratecoin\",\"Revenu\",\"Clockcoin\",\"VIP Tokens\",\"BitSend\",\"Omni\",\"Let it Ride\",\"PutinCoin\",\"iBankCoin\",\"Frankywillcoin\",\"MudraCoin\",\"PizzaCoin\",\"Lutetium Coin\",\"Komodo\",\"GoldBlocks\",\"CarterCoin\",\"Karbo\",\"BitTokens\",\"ZayedCoin\",\"MustangCoin\",\"ZoneCoin\",\"Circuits of Value\",\"RootCoin\",\"DopeCoin\",\"BitCurrency\",\"DollarCoin\",\"Swiscoin\",\"Shilling\",\"BuzzCoin\",\"Opair\",\"PesoBit\",\"Halloween Coin\",\"ZCoin\",\"CoffeeCoin\",\"RoyalCoin\",\"GanjaCoin V2\",\"TeamUP\",\"LanaCoin\",\"Elementrem\",\"ZClassic\",\"ARK\",\"InsaneCoin\",\"KiloCoin\",\"ArtexCoin\",\"EmberCoin\",\"XenixCoin\",\"FreeCoin\",\"PLNCoin\",\"AquariusCoin\",\"Kurrent\",\"Creatio\",\"Eternity\",\"Eurocoin\",\"BitcoinFast\",\"Stakenet\",\"BitConnect Coin\",\"MoneyCoin\",\"Enigma\",\"Cannabis Industry Coin\",\"Russiacoin\",\"PandaCoin\",\"GameUnits\",\"GAKHcoin\",\"Allsafe\",\"LiteCreed\",\"OsmiumCoin\",\"Bikercoins\",\"HexxCoin\",\"Klingon Empire Darsek\",\"Internet of People\",\"KushCoin\",\"Printerium\",\"PacCoin\",\"Impeach\",\"Citadel\",\"Zilbercoin\",\"FirstCoin\",\"BeaverCoin\",\"FindCoin\",\"VaultCoin\",\"Zero\",\"OpenChat\",\"Canada eCoin\",\"Zoin\",\"RenosCoin\",\"DubaiCoin\",\"VirtacoinPlus\",\"TajCoin\",\"Impact\",\"EB3coin\",\"Atmos\",\"HappyCoin\",\"Coinonat\",\"MacronCoin\",\"Condensate\",\"Independent Money System\",\"ArgusCoin\",\"LomoCoin\",\"ProCurrency\",\"GoldReserve\",\"BenjiRolls\",\"GrowthCoin\",\"ILCoin\",\"Phreak\",\"Degas Coin\",\"HTML5 Coin\",\"Ultimate Secure Cash\",\"EquiTrader\",\"QTUM\",\"Quantum Resistant Ledger\",\"Espers\",\"Dynamic\",\"Nano\",\"ChanCoin\",\"Dinastycoin\",\"Denarius\",\"DigitalPrice\",\"Virta Unique Coin\",\"Bitcoin Planet\",\"Unify\",\"BritCoin\",\"SocialCoin\",\"ArcticCoin\",\"DAS\",\"Linda\",\"LeviarCoin\",\"DeepOnion\",\"Bitcore\",\"gCn Coin\",\"SmartCash\",\"Signatum\",\"Onix\",\"Cream\",\"Bitcoin Cash\",\"Monoeci\",\"Draftcoin\",\"Vechain\",\"Sojourn Coin\",\"Stakecoin\",\"NewYorkCoin\",\"FrazCoin\",\"Kronecoin\",\"AdCoin\",\"Linx\",\"CoinonatX\",\"Ethereum Dark\",\"Sumokoin\",\"Obsidian\",\"Cardano\",\"Regalcoin\",\"BitcoinZ\",\"TrezarCoin\",\"Elements\",\"TerraNovaCoin\",\"VIVO Coin\",\"Rupee\",\"Bitcoin Gold\",\"WomenCoin\",\"Theresa May Coin\",\"NamoCoin\",\"LUXCoin\",\"Pirl\",\"Xios\",\"Bitcloud 2.0\",\"eBoost\",\"KekCoin\",\"BlackholeCoin\",\"Infinity Economics\",\"Pura\",\"Innova\",\"Ellaism\",\"GoByte\",\"Magnet\",\"Lamden Tau\",\"Electra\",\"Bitcoin Diamond\",\"SHIELD\",\"Cash & Back Coin\",\"UltraNote\",\"BitCoal\",\"DaxxCoin\",\"Bulwark\",\"Kalkulus\",\"AC3\",\"Lethean\",\"GermanCoin\",\"LiteCoin Ultra\",\"PopularCoin\",\"PhantomX\",\"Photon\",\"Sucre\",\"SparksPay\",\"Digiwage\",\"GunCoin\",\"IrishCoin\",\"Trollcoin\",\"Litecoin Plus\",\"Monkey Project\",\"Pioneer Coin\",\"UnitedBitcoin\",\"Interzone\",\"TokenPay\",\"1717 Masonic Commemorative Token\",\"My Big Coin\",\"TurtleCoin\",\"MUNcoin\",\"Unified Society USDEX\",\"Niobio Cash\",\"ShareChain\",\"Travelflex\",\"KREDS\",\"Tokyo Coin\",\"BiblePay\",\"LitecoinCash\",\"BitFlip\",\"LottoCoin\",\"Crypto Improvement Fund\",\"Stipend\",\"Poa Network\",\"Pushi\",\"Ellerium\",\"Velox\",\"Ontology\",\"Callisto Network\",\"BitTube\",\"Poseidon\",\"Aidos Kuneen\",\"Bitspace\",\"Briacoin\",\"Ignition\",\"Bitrolium\",\"MedicCoin\",\"Alpenschillling\",\"Bitcoin Green\",\"Deviant Coin\",\"Abjcoin\",\"Semux\",\"FuturoCoin\",\"Carebit\",\"Zealium\",\"Monero Classic\",\"Proton\",\"iDealCash\",\"Jumpcoin\",\"Infinex\",\"Bitcoin Incognito\",\"KEYCO\",\"HollyWoodCoin\",\"GINcoin\",\"PlatinCoin\",\"Loki\",\"Newton Coin\",\"Swisscoin\",\"Xt3ch\",\"MassGrid\",\"TheVig\",\"PluraCoin\",\"EmaratCoin\",\"Dekado\",\"Lynx\",\"Poseidon Quark\",\"BitcoinWSpectrum\",\"Muse\",\"Motion\",\"PlusOneCoin\",\"Axe\",\"Trivechain\",\"Dystem\",\"Giant\",\"Peony Coin\",\"Absolute Coin\",\"Vitae\",\"HexCoin\",\"TPCash\",\"Webchain\",\"Ryo\",\"Urals Coin\",\"Qwertycoin\",\"ARENON\",\"EUNO\",\"MMOCoin\",\"Ketan\",\"Project Pai\",\"XDNA\",\"PAXEX\",\"Azart\",\"ThunderStake\",\"Kcash\",\"Xchange\",\"Acute Angle Cloud\",\"CrypticCoin\",\"Bettex coin\",\"Actinium\",\"Bitcoin SV\",\"BitMoney\",\"Junson Ming Chan Coin\",\"FREDEnergy\",\"HerbCoin\",\"Universal Molecule\",\"Lithium\",\"PirateCash\",\"Exosis\",\"Block-Logic\",\"Oduwa\",\"Beam\",\"Galilel\",\"Bithereum\",\"Crypto Sports\",\"Credit\",\"SLICE\",\"Dash Platinum\",\"Nasdacoin\",\"Beetle Coin\",\"Titan Coin\",\"Award\",\"BLAST\",\"Bitcoin Rhodium\",\"GlobalToken\",\"Insane Coin\",\"ALAX\",\"LiteDoge\",\"SolarCoin\",\"TruckCoin\",\"UFO Coin\",\"OrangeCoin\",\"BlakeCoin\",\"BitstarCoin\",\"NeosCoin\",\"HyperCoin\",\"PinkCoin\",\"Crypto Escudo\",\"AudioCoin\",\"IncaKoin\",\"Piggy Coin\",\"Crown Coin\",\"Genstake\",\"SmileyCoin\",\"XiaoMiCoin\",\"Groestlcoin\",\"CapriCoin\",\" ClubCoin\",\"Radium\",\"Bata\",\"Pakcoin\",\"Creditbit \",\"OKCash\",\"Lisk\",\"HiCoin\",\"WhiteCoin\",\"FriendshipCoin\",\"Fiii\",\"JoinCoin\",\"Triangles Coin\",\"Vollar\",\"EOS\",\"Reality Clash\",\"Oxycoin\",\"TigerCash\",\"Waves\",\"Particl\",\"BitTorrent\",\"Nxt\",\"ZEPHYR\",\"Gapcoin\",\"Beldex\",\"Horizen\",\"BitcoinPlus\"],\"ProofType\":[\"PoW/PoS\",\"PoW/PoS\",\"PoW/PoS\",\"PoW\",\"PoW\",\"PoW\",\"PoW/PoS\",\"PoW\",\"PoW\",\"PoW\",\"PoS\",\"PoW\",\"PoW/PoS\",\"PoS\",\"PoW\",\"PoW/PoS\",\"PoW\",\"PoW\",\"PoW/PoS\",\"PoW/PoS\",\"PoW\",\"PoW\",\"PoW\",\"PoW\",\"PoW\",\"PoW/PoS\",\"PoW\",\"PoW\",\"PoW\",\"PoW/PoS\",\"PoW\",\"PoW/PoS\",\"PoW\",\"PoW\",\"PoC\",\"PoW/PoS\",\"PoW\",\"PoW\",\"PoW\",\"PoW\",\"PoW\",\"PoW\",\"PoS\",\"PoS/PoW/PoT\",\"PoW\",\"PoW\",\"PoW\",\"PoW\",\"PoW\",\"PoW/PoS\",\"PoS\",\"PoW\",\"PoW/PoS\",\"PoW\",\"PoW\",\"PoW\",\"PoW\",\"PoW/PoS\",\"PoW\",\"PoW\",\"PoS\",\"PoW\",\"PoW/PoS\",\"PoS\",\"PoW/PoS\",\"PoW\",\"PoW\",\"PoW\",\"PoW/PoS\",\"PoW/PoS\",\"PoW/PoS\",\"PoW/PoS\",\"PoW/PoS\",\"PoW\",\"PoW\",\"PoW\",\"PoS\",\"PoW/PoS\",\"PoW\",\"PoS\",\"PoW\",\"PoS\",\"PoW/PoS\",\"PoW\",\"PoW\",\"PoW\",\"PoW\",\"PoW/PoS\",\"PoW/PoS\",\"PoW\",\"PoST\",\"PoW\",\"PoW\",\"PoW/PoS\",\"PoS\",\"PoW\",\"PoW/PoS\",\"PoW/PoS\",\"PoW\",\"PoW\",\"PoC\",\"PoS\",\"PoW\",\"PoW/PoS\",\"PoW/PoS\",\"PoW\",\"PoS\",\"PoW\",\"PoW/PoS\",\"PoW\",\"PoS\",\"PoW\",\"PoW/PoS\",\"PoW/PoS\",\"PoW\",\"PoW\",\"PoS\",\"PoW\",\"PoW\",\"PoW\",\"PoW/PoS\",\"PoW\",\"PoW\",\"PoW\",\"PoW\",\"PoW\",\"PoW/PoS\",\"PoW/nPoS\",\"PoW\",\"PoW\",\"PoW\",\"PoW/PoS\",\"PoW\",\"PoS/PoW\",\"PoW\",\"PoW\",\"PoS\",\"PoW\",\"PoW/PoS\",\"PoW\",\"PoW/PoS\",\"PoW/PoS\",\"PoW\",\"PoW\",\"PoW/PoS\",\"PoW\",\"PoW\",\"PoW/PoS\",\"PoW/PoS\",\"PoW\",\"PoW/PoS\",\"PoW\",\"PoW/PoS\",\"PoW/PoS\",\"PoS\",\"PoW\",\"PoW\",\"PoW\",\"PoW\",\"PoW/PoS\",\"PoS\",\"PoW/PoS\",\"PoC\",\"PoS\",\"PoW\",\"PoW\",\"PoW/PoS\",\"PoW/PoS\",\"PoW/PoS\",\"PoW/PoS\",\"PoW/PoS\",\"PoW\",\"PoS\",\"PoW/PoS\",\"PoW/PoS\",\"PoW/PoS\",\"PoS\",\"PoW\",\"PoS\",\"dPoW/PoW\",\"PoW/PoS\",\"PoW/PoS\",\"PoW\",\"PoW/PoS\",\"PoW\",\"PoW/PoS\",\"PoW/PoS\",\"PoW\",\"PoW/PoS\",\"PoW\",\"PoS\",\"PoW\",\"PoW/PoW\",\"PoW\",\"PoW/PoS\",\"PoS\",\"PoW/PoS\",\"PoW/PoS\",\"PoW\",\"PoS\",\"PoS\",\"PoW/PoS\",\"PoS\",\"PoW/PoS\",\"PoW\",\"PoW\",\"DPoS\",\"PoW/PoS\",\"PoW\",\"PoW\",\"PoW/PoS\",\"PoW/PoS\",\"PoS\",\"PoW/PoS\",\"PoW/PoS\",\"PoW\",\"PoS\",\"PoW/PoS\",\"PoW/PoS\",\"PoW/PoS\",\"TPoS\",\"PoW/PoS\",\"PoW/PoS\",\"PoW/PoS\",\"PoW\",\"PoW/PoS\",\"PoS\",\"PoW/PoS\",\"PoW/PoS\",\"PoS\",\"PoW/PoS\",\"PoW\",\"PoW\",\"PoW\",\"PoW/PoS\",\"PoW/PoS\",\"PoW/PoS\",\"PoW/PoS\",\"PoW\",\"PoW/PoS\",\"PoW\",\"PoS\",\"PoW/PoS \",\"PoW\",\"PoS\",\"PoW\",\"PoW\",\"PoW/PoS\",\"PoW\",\"PoW\",\"PoS\",\"PoW\",\"PoW/PoS\",\"PoW/PoS\",\"PoW/PoS\",\"PoW\",\"PoS\",\"PoW/PoS\",\"PoW\",\"PoS\",\"PoW/PoS\",\"PoW/PoS\",\"PoW/PoS\",\"PoW/PoS\",\"PoS\",\"PoW/PoS\",\"PoW\",\"PoS\",\"PoW\",\"PoS\",\"PoW/PoS\",\"PoW/PoS\",\"PoS\",\"PoW\",\"PoS\",\"PoW\",\"PoW/PoS\",\"PoW\",\"PoW\",\"PoW\",\"PoW\",\"PoW/PoS\",\"PoW\",\"PoW/PoS\",\"PoW/PoS\",\"PoW\",\"PoW/PoS\",\"PoW\",\"PoW\",\"PoW\",\"PoW/PoS\",\"PoW\",\"PoW/PoS\",\"PoW\",\"PoW\",\"PoW\",\"PoS\",\"PoW\",\"PoW/PoS\",\"PoW\",\"PoW/PoS\",\"PoS\",\"Proof of Authority\",\"PoW\",\"PoS\",\"PoW\",\"PoW\",\"PoW\",\"PoW\",\"PoW\",\"PoW/PoS\",\"PoW/PoS\",\"PoW\",\"PoS\",\"PoS\",\"PoW/PoS\",\"PoW\",\"PoW/PoS\",\"PoW\",\"PoW/PoS\",\"PoW\",\"PoS\",\"PoW\",\"PoW/PoS\",\"PoW/PoS\",\"PoW/PoS\",\"PoW/PoS\",\"PoW\",\"PoW/PoS\",\"PoW/PoS\",\"PoW\",\"PoS\",\"PoW/PoS\",\"PoS\",\"PoW\",\"PoW\",\"PoW\",\"PoW\",\"PoW/PoS\",\"DPoS\",\"PoW/PoS\",\"PoW/PoS\",\"PoW\",\"PoW/PoS\",\"PoW\",\"PoW\",\"PoW\",\"PoS\",\"PoS\",\"PoW\",\"PoW\",\"PoW/PoS\",\"PoW/PoS\",\"PoW\",\"PoW/PoS\",\"PoW\",\"PoW\",\"PoW\",\"PoS\",\"PoW\",\"PoW\",\"PoW/PoS\",\"PoW/PoS\",\"PoS\",\"PoW\",\"PoW\",\"PoW\",\"PoS\",\"PoS\",\"PoW and PoS\",\"PoW\",\"PoW\",\"PoW/PoS\",\"PoW\",\"PoW\",\"PoW\",\"PoW\",\"PoS\",\"POBh\",\"PoW + Hive\",\"PoW\",\"PoW\",\"PoW\",\"PoW/PoS\",\"PoA\",\"PoW/PoS\",\"PoW/PoS\",\"PoS\",\"PoS\",\"PoW\",\"PoW\",\"PoW\",\"PoW\",\"PoW/PoS\",\"PoW/PoS\",\"PoW/PoS\",\"PoW\",\"PoS\",\"PoW\",\"PoS\",\"PoS\",\"PoW/PoS\",\"DPoS\",\"PoW\",\"PoW/PoS\",\"PoS\",\"PoW\",\"PoS\",\"PoW/PoS\",\"PoW\",\"PoW\",\"PoS/PoW\",\"PoW\",\"PoS\",\"PoW\",\"PoW\",\"PoW\",\"PoW\",\"PoW/PoS\",\"PoS\",\"PoW\",\"PoW/PoS\",\"PoW\",\"PoW/PoS\",\"PoS\",\"HPoW\",\"PoS\",\"PoS\",\"PoS\",\"PoW\",\"PoW\",\"PoW\",\"PoW/PoS\",\"PoS\",\"PoW/PoS\",\"PoS\",\"PoW/PoS\",\"PoS\",\"PoW\",\"PoW/PoS\",\"PoW\",\"PoW\",\"PoW\",\"PoW\",\"PoS\",\"PoW/PoS\",\"PoS\",\"PoS\",\"PoW\",\"PoW/PoS\",\"PoS\",\"PoW\",\"PoW/PoS\",\"Zero-Knowledge Proof\",\"PoW\",\"DPOS\",\"PoW\",\"PoS\",\"PoW\",\"PoW\",\"Pos\",\"PoS\",\"PoW\",\"PoW/PoS\",\"PoW\",\"PoW\",\"PoS\",\"PoW\",\"PoW\",\"PoW/PoS\",\"PoW\",\"PoW/PoS\",\"PoW\",\"PoS\",\"PoW/PoS\",\"PoW\",\"PoS\",\"PoW/PoS\",\"PoW/PoS\",\"PoW/PoS\",\"PoW/PoS\",\"PoW\",\"PoW\",\"PoW\",\"PoW/PoS\",\"DPoS\",\"PoW/PoS\",\"PoW\",\"PoW/PoS\",\"PoW\",\"PoW/PoS\",\"PoW\",\"PoW/PoS\",\"PoS\",\"PoW/PoS\",\"PoW/PoS\",\"PoW\",\"PoW/PoS\",\"PoW/PoS\",\"PoW/PoS\",\"PoW\",\"PoW/PoS\",\"PoW\",\"PoW/PoS\",\"PoW\",\"PoW/PoS\",\"PoW/PoS\",\"PoS\",\"PoW\",\"PoW\",\"Proof of Trust\",\"PoW/PoS\",\"DPoS\",\"PoS\",\"PoW/PoS\",\"PoW/PoS\",\"DPoC\",\"PoW\",\"PoW/PoS\",\"PoW\",\"DPoS\",\"PoW\",\"DPoS\",\"PoS\",\"LPoS\",\"PoS\",\"DPoS\",\"PoS/LPoS\",\"DPoS\",\"PoW/PoS\",\"PoW\",\"PoW\",\"PoS\"],\"TotalCoinSupply\":[\"42\",\"532000000\",\"314159265359\",\"21000000\",\"0\",\"84000000\",\"22000000\",\"0\",\"210000000\",\"21000000\",\"3600570502\",\"21000000000\",\"22000000\",\"12500000\",\"21000000\",\"350000000\",\"20000000\",\"64000000\",\"16768584\",\"0\",\"2000000000\",\"384000000000\",\"169795588\",\"250000000\",\"100000000\",\"0\",\"247000000\",\"84000000\",\"48166000\",\"500000\",\"21000000 \",\"1000000\",\"13140000\",\"18000000\",\"40000000000\",\"4380000\",\"16555000000\",\"21000000000\",\"13500000000\",\"21000000 \",\"299792458\",\"32000000\",\"0\",\"0\",\"11235813\",\"336000000\",\"1420609614\",\"70000000\",\"72245700\",\"120000000\",\"0\",\"90600000000\",\"22000000\",\"21000000\",\"265420800\",\"20000000\",\"1350000\",\"100000000\",\"42000000\",\"200000000\",\"0\",\"10000000\",\"2419200000\",\"16180000\",\"0\",\"15000000000\",\"21000000\",\"337000000\",\"0\",\"3770000\",\"420000000\",\"98000000\",\"0\",\"21000000\",\"250000000\",\"51200000\",\"0\",\"1000\",\"888000000\",\"100000000\",\"47011968\",\"2300000000\",\"10000000\",\"42000000\",\"80000000\",\"250000\",\"0\",\"1600000000\",\"100000000\",\"23000000\",\"0\",\"84000000\",\"265420800\",\"5500000\",\"0\",\"45000000\",\"0\",\"1000000000\",\"184467440735\",\"10000000000\",\"2158812800\",\"500000000\",\"105120000\",\"68000000\",\"0\",\"1680000000\",\"0\",\"166386000\",\"12000000\",\"2628000\",\"500000000\",\"160000000\",\"0\",\"10000000\",\"1000000000\",\"1000000000\",\"20000000\",\"0\",\"0\",\"3371337\",\"20000000\",\"10000000000\",\"1840000000\",\"619478\",\"21000000\",\"92000000000\",\"0\",\"78000000\",\"33000000\",\"65789100\",\"53760000\",\"5060000\",\"21000000\",\"0\",\"210240000\",\"250000000\",\"100000000\",\"16906397\",\"50000000\",\"0\",\"1000000000\",\"26298000\",\"16000000\",\"21000000\",\"21000000\",\"210000000\",\"81962100\",\"22000000\",\"26550000000\",\"84000000\",\"10500000\",\"21626280000 \",\"0\",\"42000000\",\"221052632\",\"84000000\",\"30000000\",\"168351300\",\"24000000\",\"384000000\",\" 99000000000\",\"40000000\",\"2147483647\",\"20000000\",\"20000000\",\"25000000\",\"75000000\",\"222725000\",\"525000000\",\"90000000\",\"139000000\",\"616448\",\"33500000\",\"2000000000\",\"44333333\",\"100000000\",\"200000000\",\"25000000\",\"657000000\",\"200000000\",\"50000000\",\"90000000\",\"10000000\",\"21000000\",\"9736000\",\"3000000\",\"21000000\",\"1200000000\",\"0\",\"200000000\",\"0\",\"10638298\",\"3100000000\",\"30000000\",\"20000000000\",\"74000000\",\"0\",\"1500000000\",\"21400000\",\"39999898\",\"2500124\",\"100000000\",\"301000000\",\"7506000000\",\"26205539\",\"21000000\",\"125000000\",\"30000000\",\"10000000000\",\"500000000\",\"850000000\",\"3853326.77707314\",\"50000000\",\"38540000 \",\"42000000\",\"228000000\",\"20000000\",\"60000000\",\"20000000\",\"33000000\",\"76500000\",\"28000000\",\"650659833\",\"5000000\",\"21000000\",\"144000000\",\"32514916898\",\"13000000\",\"3315789\",\"15000000\",\"78835200\",\"2714286\",\"25000000\",\"9999999\",\"500000000\",\"21000000\",\"9354000\",\"20000000\",\"100000000000\",\"21933333\",\"185000000\",\"55000000\",\"110000000\",\"3360000\",\"14524851.4827\",\"1000000000\",\"17000000\",\"1000000000\",\"100000000 \",\"21000000\",\"34426423\",\"2232901\",\"100000000\",\"36900000\",\"110000000\",\"4000000000\",\"110290030\",\"100000000\",\"48252000\",\"400000000\",\"500000000\",\"21212121\",\"28600000\",\"1000000000\",\"75000000000\",\"40000000\",\"35520400\",\"2000000000\",\"2500000000\",\"30000000\",\"105000000\",\"90000000000\",\"200084200\",\"72000000\",\"100000000\",\"105000000\",\"50000000000\",\"0\",\"340282367\",\"30000000\",\"2000000000\",\"10000000\",\"100000000\",\"120000000\",\"100000000\",\"19276800\",\"30000000\",\" 75000000\",\"60000000\",\"18900000\",\"50000000000\",\"54000000\",\"18898187.6216583\",\"21000000\",\"200000000000\",\"5000000000\",\"137500000\",\"1100000000\",\"100000000\",\"21000000\",\"9507271\",\"17405891.19707116\",\"86712634466\",\"10500000000\",\"61599965\",\"0\",\"20000000\",\"84000000\",\"100000000\",\"100000000\",\"48252000\",\"4200000\",\"88888888\",\"91388946\",\"45000000000\",\"27000000\",\"21000000000\",\"400000000\",\"1800000000\",\"15733333\",\"27000000\",\"24000000\",\"21000000\",\"25000000000\",\"100000000\",\"1200000000\",\"60000000\",\"156306732.71\",\"21000000\",\"200000000\",\"100000000\",\"21000000\",\"14788275.991\",\"9000000000\",\"350000000\",\"45000000\",\"280000000\",\"31800000\",\"144000000\",\"500000000\",\"30000000000\",\"210000000\",\"660000000\",\"210000000\",\"85000000000\",\"12500000\",\"10000000000\",\"27716121\",\"20000000\",\"550000000\",\"999481516\",\"50000000000\",\"150000000\",\"4999999999\",\"50000000\",\" 90000000000\",\"19800000\",\"21000000\",\"120000000\",\"500000000\",\"64000000\",\"900000000\",\"4000000\",\"21000000\",\"23000000\",\"20166000\",\"23000000\",\"25000000\",\"1618033\",\"30000000\",\"1000000000000\",\"16600000\",\"232000000\",\"336000000\",\"10000000000\",\"100000000\",\"1100000000\",\"800000000\",\"5200000000\",\"840000000\",\"40000000\",\"18406979840\",\"500000000\",\"19340594\",\"252460800\",\"25000000\",\"60000000\",\"124000000\",\"1000000000\",\"6500000000\",\"1000000000\",\"21000000\",\"25000000\",\"50000000\",\"3000000\",\"5000000\",\"70000000\",\"500000000\",\"300000000\",\"21000000\",\"88000000\",\"30000000\",\"100000000\",\"100000000\",\"200000000\",\"80000000\",\"18400000\",\"45000000\",\"5121951220\",\"21000000\",\"26280000\",\"21000000\",\"18000000\",\"26000000\",\"10500000\",\"600000518\",\"150000000\",\"184000000000\",\"10200000000\",\"44000000\",\"168000000\",\"100000000\",\"1000000000\",\"84000000\",\"90000000\",\"92000000000\",\"650000000 \",\"100262205\",\"18081806 \",\"22075700\",\"21000000\",\"21000000\",\"82546564\",\"21000000\",\"5151000\",\"16880000000\",\"52500000\",\"100000000\",\"22105263\",\"1000000000\",\"1750000000\",\"88188888\",\"210000000\",\"184470000000\",\"55000000\",\"50000000\",\"260000000\",\"210000000\",\"2100000000\",\"366000000\",\"100000000\",\"25000000\",\"18000000000\",\"1000000000\",\"100000000\",\"1000000000\",\"7600000000\",\"50000000\",\"84000000\",\"21000000\",\"70000000000\",\"0\",\"8080000000\",\"54000000\",\"105120001.44\",\"25228800\",\"105000000\",\"21000000\",\"120000000\",\"21000000\",\"262800000\",\"19035999\",\"30886000\",\"13370000\",\"74800000000\",\"100000000\",\"19700000\",\"84000000\",\"500000000\",\"5000000000\",\"420000000\",\"64000000\",\"2100000\",\"168000000\",\"30000000\",\"1000000000\",\"35000000000\",\"98100000000\",\"0\",\"4000000000\",\"200000000\",\"7000000000\",\"54256119\",\"21000000\",\"0\",\"500000000\",\"1000000000\",\"10500000000\",\"190000000\",\"1000000000\",\"42000000\",\"15000000\",\"50000000000\",\"400000000\",\"105000000\",\"208000000\",\"160000000\",\"9000000\",\"5000000\",\"182000000\",\"16504333\",\"105000000\",\"159918400\",\"10008835635\",\"300000000\",\"60168145\",\"5000000000\",\"2800000\",\"120000\",\"2100000000\",\"0\",\"24487944\",\"0\",\"1000000000\",\"100000000\",\"8634140\",\"990000000000\",\"1000000000\",\"2000000000\",\"250000000\",\"1400222610\",\"21000000\",\"1000000\"],\"TotalCoinsMined\":{\"__ndarray__\":\"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\",\"dtype\":\"float64\",\"shape\":[533]}},\"selected\":{\"id\":\"1148\"},\"selection_policy\":{\"id\":\"1182\"}},\"id\":\"1147\",\"type\":\"ColumnDataSource\"},{\"attributes\":{},\"id\":\"1175\",\"type\":\"IntEditor\"},{\"attributes\":{\"editor\":{\"id\":\"1160\"},\"field\":\"ProofType\",\"formatter\":{\"id\":\"1159\"},\"title\":\"ProofType\"},\"id\":\"1161\",\"type\":\"TableColumn\"},{\"attributes\":{\"editor\":{\"id\":\"1175\"},\"field\":\"Class\",\"formatter\":{\"id\":\"1174\"},\"title\":\"Class\"},\"id\":\"1176\",\"type\":\"TableColumn\"},{\"attributes\":{\"editor\":{\"id\":\"1155\"},\"field\":\"Algorithm\",\"formatter\":{\"id\":\"1154\"},\"title\":\"Algorithm\"},\"id\":\"1156\",\"type\":\"TableColumn\"},{\"attributes\":{},\"id\":\"1150\",\"type\":\"StringEditor\"},{\"attributes\":{},\"id\":\"1148\",\"type\":\"Selection\"},{\"attributes\":{\"editor\":{\"id\":\"1150\"},\"field\":\"CoinName\",\"formatter\":{\"id\":\"1149\"},\"title\":\"CoinName\"},\"id\":\"1151\",\"type\":\"TableColumn\"},{\"attributes\":{},\"id\":\"1170\",\"type\":\"NumberEditor\"},{\"attributes\":{},\"id\":\"1149\",\"type\":\"StringFormatter\"},{\"attributes\":{},\"id\":\"1155\",\"type\":\"StringEditor\"},{\"attributes\":{\"children\":[{\"id\":\"1146\"},{\"id\":\"1179\"},{\"id\":\"1183\"}],\"margin\":[0,0,0,0],\"name\":\"Row01797\",\"tags\":[\"embedded\"]},\"id\":\"1145\",\"type\":\"Row\"},{\"attributes\":{},\"id\":\"1154\",\"type\":\"StringFormatter\"},{\"attributes\":{},\"id\":\"1165\",\"type\":\"StringEditor\"},{\"attributes\":{\"columns\":[{\"id\":\"1151\"},{\"id\":\"1156\"},{\"id\":\"1161\"},{\"id\":\"1166\"},{\"id\":\"1171\"},{\"id\":\"1176\"}],\"height\":300,\"reorderable\":false,\"source\":{\"id\":\"1147\"},\"view\":{\"id\":\"1180\"},\"width\":700},\"id\":\"1179\",\"type\":\"DataTable\"},{\"attributes\":{\"margin\":[5,5,5,5],\"name\":\"HSpacer01801\",\"sizing_mode\":\"stretch_width\"},\"id\":\"1146\",\"type\":\"Spacer\"},{\"attributes\":{\"margin\":[5,5,5,5],\"name\":\"HSpacer01802\",\"sizing_mode\":\"stretch_width\"},\"id\":\"1183\",\"type\":\"Spacer\"}],\"root_ids\":[\"1145\"]},\"title\":\"Bokeh Application\",\"version\":\"2.0.2\"}};\n",
       "  var render_items = [{\"docid\":\"93e823d8-5977-4d9d-b814-baabd523f25a\",\"root_ids\":[\"1145\"],\"roots\":{\"1145\":\"c1179bf1-4f02-44d7-be0f-1771fee9f834\"}}];\n",
       "  root.Bokeh.embed.embed_items_notebook(docs_json, render_items);\n",
       "  }\n",
       "if (root.Bokeh !== undefined) {\n",
       "    embed_document(root);\n",
       "  } else {\n",
       "    var attempts = 0;\n",
       "    var timer = setInterval(function(root) {\n",
       "      if (root.Bokeh !== undefined) {\n",
       "        clearInterval(timer);\n",
       "        embed_document(root);\n",
       "      } else if (document.readyState == \"complete\") {\n",
       "        attempts++;\n",
       "        if (attempts > 100) {\n",
       "          clearInterval(timer);\n",
       "          console.log(\"Bokeh: ERROR: Unable to run BokehJS code because BokehJS library is missing\");\n",
       "        }\n",
       "      }\n",
       "    }, 10, root)\n",
       "  }\n",
       "})(window);</script>"
      ],
      "text/plain": [
       ":Table   [CoinName,Algorithm,ProofType,TotalCoinSupply,TotalCoinsMined,Class]"
      ]
     },
     "execution_count": 66,
     "metadata": {
      "application/vnd.holoviews_exec.v0+json": {
       "id": "1145"
      }
     },
     "output_type": "execute_result"
    }
   ],
   "source": [
    "# Table with tradable cryptos\n",
    "clustered_df.hvplot.table(columns=[\"CoinName\", \n",
    "                             \"Algorithm\", \n",
    "                             \"ProofType\", \n",
    "                             \"TotalCoinSupply\", \n",
    "                             \"TotalCoinsMined\", \n",
    "                             \"Class\"]\n",
    "                   )"
   ]
  },
  {
   "cell_type": "code",
   "execution_count": 67,
   "metadata": {},
   "outputs": [
    {
     "name": "stdout",
     "output_type": "stream",
     "text": [
      "The total number of tradable cryptocurrenices is: 533\n"
     ]
    }
   ],
   "source": [
    "# Print the total number of tradable cryptocurrencies\n",
    "print(f'The total number of tradable cryptocurrenices is: {len(clustered_df)}')"
   ]
  },
  {
   "cell_type": "markdown",
   "metadata": {},
   "source": [
    "#### Scatter Plot with Tradable Cryptocurrencies"
   ]
  },
  {
   "cell_type": "code",
   "execution_count": 74,
   "metadata": {},
   "outputs": [],
   "source": [
    "# Scale data to create the scatter plot\n",
    "scaler = MinMaxScaler()\n",
    "\n",
    "normalize_columns = ['TotalCoinsMined', 'TotalCoinSupply']\n",
    "x = crypto_df[normalize_columns].values\n",
    "x_scaled = scaler.fit_transform(x)\n",
    "\n",
    "tradable_df = pd.DataFrame(x_scaled, columns=normalize_columns, index=crypto_df.index).reset_index()"
   ]
  },
  {
   "cell_type": "code",
   "execution_count": 75,
   "metadata": {},
   "outputs": [
    {
     "data": {},
     "metadata": {},
     "output_type": "display_data"
    },
    {
     "data": {
      "application/vnd.holoviews_exec.v0+json": "",
      "text/html": [
       "<div id='1195'>\n",
       "\n",
       "\n",
       "\n",
       "\n",
       "\n",
       "  <div class=\"bk-root\" id=\"c954a8d8-56d5-4873-af49-3926be585d73\" data-root-id=\"1195\"></div>\n",
       "</div>\n",
       "<script type=\"application/javascript\">(function(root) {\n",
       "  function embed_document(root) {\n",
       "  var docs_json = {\"59d6c4df-f0bf-4837-91de-af8c6e3cb5bb\":{\"roots\":{\"references\":[{\"attributes\":{\"data\":{\"TotalCoinSupply\":{\"__ndarray__\":\"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\",\"dtype\":\"float64\",\"shape\":[533]},\"TotalCoinsMined\":{\"__ndarray__\":\"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\",\"dtype\":\"float64\",\"shape\":[533]}},\"selected\":{\"id\":\"1231\"},\"selection_policy\":{\"id\":\"1249\"}},\"id\":\"1230\",\"type\":\"ColumnDataSource\"},{\"attributes\":{\"fill_alpha\":{\"value\":0.1},\"fill_color\":{\"value\":\"#1f77b3\"},\"line_alpha\":{\"value\":0.1},\"line_color\":{\"value\":\"#1f77b3\"},\"size\":{\"units\":\"screen\",\"value\":5.477225575051661},\"x\":{\"field\":\"TotalCoinsMined\"},\"y\":{\"field\":\"TotalCoinSupply\"}},\"id\":\"1234\",\"type\":\"Scatter\"},{\"attributes\":{},\"id\":\"1241\",\"type\":\"BasicTickFormatter\"},{\"attributes\":{\"axis\":{\"id\":\"1209\"},\"grid_line_color\":null,\"ticker\":null},\"id\":\"1212\",\"type\":\"Grid\"},{\"attributes\":{},\"id\":\"1239\",\"type\":\"BasicTickFormatter\"},{\"attributes\":{},\"id\":\"1210\",\"type\":\"BasicTicker\"},{\"attributes\":{\"end\":1.1,\"reset_end\":1.1,\"reset_start\":-0.1,\"start\":-0.1,\"tags\":[[[\"TotalCoinSupply\",\"TotalCoinSupply\",null]]]},\"id\":\"1198\",\"type\":\"Range1d\"},{\"attributes\":{},\"id\":\"1214\",\"type\":\"BasicTicker\"},{\"attributes\":{},\"id\":\"1207\",\"type\":\"LinearScale\"},{\"attributes\":{\"data_source\":{\"id\":\"1230\"},\"glyph\":{\"id\":\"1233\"},\"hover_glyph\":null,\"muted_glyph\":{\"id\":\"1235\"},\"nonselection_glyph\":{\"id\":\"1234\"},\"selection_glyph\":null,\"view\":{\"id\":\"1237\"}},\"id\":\"1236\",\"type\":\"GlyphRenderer\"},{\"attributes\":{\"axis_label\":\"TotalCoinsMined\",\"bounds\":\"auto\",\"formatter\":{\"id\":\"1239\"},\"major_label_orientation\":\"horizontal\",\"ticker\":{\"id\":\"1210\"}},\"id\":\"1209\",\"type\":\"LinearAxis\"},{\"attributes\":{\"source\":{\"id\":\"1230\"}},\"id\":\"1237\",\"type\":\"CDSView\"},{\"attributes\":{\"axis\":{\"id\":\"1213\"},\"dimension\":1,\"grid_line_color\":null,\"ticker\":null},\"id\":\"1216\",\"type\":\"Grid\"},{\"attributes\":{\"fill_alpha\":{\"value\":0.2},\"fill_color\":{\"value\":\"#1f77b3\"},\"line_alpha\":{\"value\":0.2},\"line_color\":{\"value\":\"#1f77b3\"},\"size\":{\"units\":\"screen\",\"value\":5.477225575051661},\"x\":{\"field\":\"TotalCoinsMined\"},\"y\":{\"field\":\"TotalCoinSupply\"}},\"id\":\"1235\",\"type\":\"Scatter\"},{\"attributes\":{},\"id\":\"1218\",\"type\":\"PanTool\"},{\"attributes\":{},\"id\":\"1217\",\"type\":\"SaveTool\"},{\"attributes\":{},\"id\":\"1219\",\"type\":\"WheelZoomTool\"},{\"attributes\":{\"overlay\":{\"id\":\"1222\"}},\"id\":\"1220\",\"type\":\"BoxZoomTool\"},{\"attributes\":{},\"id\":\"1221\",\"type\":\"ResetTool\"},{\"attributes\":{\"active_drag\":\"auto\",\"active_inspect\":\"auto\",\"active_multi\":null,\"active_scroll\":\"auto\",\"active_tap\":\"auto\",\"tools\":[{\"id\":\"1199\"},{\"id\":\"1217\"},{\"id\":\"1218\"},{\"id\":\"1219\"},{\"id\":\"1220\"},{\"id\":\"1221\"}]},\"id\":\"1223\",\"type\":\"Toolbar\"},{\"attributes\":{\"end\":1.042857142857143,\"reset_end\":1.042857142857143,\"reset_start\":-0.04285714285714286,\"start\":-0.04285714285714286,\"tags\":[[[\"TotalCoinsMined\",\"TotalCoinsMined\",null]]]},\"id\":\"1197\",\"type\":\"Range1d\"},{\"attributes\":{},\"id\":\"1231\",\"type\":\"Selection\"},{\"attributes\":{\"text\":\"\",\"text_color\":{\"value\":\"black\"},\"text_font_size\":{\"value\":\"12pt\"}},\"id\":\"1201\",\"type\":\"Title\"},{\"attributes\":{\"children\":[{\"id\":\"1196\"},{\"id\":\"1200\"},{\"id\":\"1250\"}],\"margin\":[0,0,0,0],\"name\":\"Row01916\",\"tags\":[\"embedded\"]},\"id\":\"1195\",\"type\":\"Row\"},{\"attributes\":{\"margin\":[5,5,5,5],\"name\":\"HSpacer01920\",\"sizing_mode\":\"stretch_width\"},\"id\":\"1196\",\"type\":\"Spacer\"},{\"attributes\":{\"callback\":null,\"renderers\":[{\"id\":\"1236\"}],\"tags\":[\"hv_created\"],\"tooltips\":[[\"TotalCoinsMined\",\"@{TotalCoinsMined}\"],[\"TotalCoinSupply\",\"@{TotalCoinSupply}\"]]},\"id\":\"1199\",\"type\":\"HoverTool\"},{\"attributes\":{},\"id\":\"1205\",\"type\":\"LinearScale\"},{\"attributes\":{\"bottom_units\":\"screen\",\"fill_alpha\":0.5,\"fill_color\":\"lightgrey\",\"left_units\":\"screen\",\"level\":\"overlay\",\"line_alpha\":1.0,\"line_color\":\"black\",\"line_dash\":[4,4],\"line_width\":2,\"render_mode\":\"css\",\"right_units\":\"screen\",\"top_units\":\"screen\"},\"id\":\"1222\",\"type\":\"BoxAnnotation\"},{\"attributes\":{\"align\":null,\"below\":[{\"id\":\"1209\"}],\"center\":[{\"id\":\"1212\"},{\"id\":\"1216\"}],\"left\":[{\"id\":\"1213\"}],\"margin\":null,\"min_border_bottom\":10,\"min_border_left\":10,\"min_border_right\":10,\"min_border_top\":10,\"plot_height\":300,\"plot_width\":700,\"renderers\":[{\"id\":\"1236\"}],\"sizing_mode\":\"fixed\",\"title\":{\"id\":\"1201\"},\"toolbar\":{\"id\":\"1223\"},\"x_range\":{\"id\":\"1197\"},\"x_scale\":{\"id\":\"1205\"},\"y_range\":{\"id\":\"1198\"},\"y_scale\":{\"id\":\"1207\"}},\"id\":\"1200\",\"subtype\":\"Figure\",\"type\":\"Plot\"},{\"attributes\":{\"margin\":[5,5,5,5],\"name\":\"HSpacer01921\",\"sizing_mode\":\"stretch_width\"},\"id\":\"1250\",\"type\":\"Spacer\"},{\"attributes\":{\"axis_label\":\"TotalCoinSupply\",\"bounds\":\"auto\",\"formatter\":{\"id\":\"1241\"},\"major_label_orientation\":\"horizontal\",\"ticker\":{\"id\":\"1214\"}},\"id\":\"1213\",\"type\":\"LinearAxis\"},{\"attributes\":{\"fill_color\":{\"value\":\"#1f77b3\"},\"line_color\":{\"value\":\"#1f77b3\"},\"size\":{\"units\":\"screen\",\"value\":5.477225575051661},\"x\":{\"field\":\"TotalCoinsMined\"},\"y\":{\"field\":\"TotalCoinSupply\"}},\"id\":\"1233\",\"type\":\"Scatter\"},{\"attributes\":{},\"id\":\"1249\",\"type\":\"UnionRenderers\"}],\"root_ids\":[\"1195\"]},\"title\":\"Bokeh Application\",\"version\":\"2.0.2\"}};\n",
       "  var render_items = [{\"docid\":\"59d6c4df-f0bf-4837-91de-af8c6e3cb5bb\",\"root_ids\":[\"1195\"],\"roots\":{\"1195\":\"c954a8d8-56d5-4873-af49-3926be585d73\"}}];\n",
       "  root.Bokeh.embed.embed_items_notebook(docs_json, render_items);\n",
       "  }\n",
       "if (root.Bokeh !== undefined) {\n",
       "    embed_document(root);\n",
       "  } else {\n",
       "    var attempts = 0;\n",
       "    var timer = setInterval(function(root) {\n",
       "      if (root.Bokeh !== undefined) {\n",
       "        clearInterval(timer);\n",
       "        embed_document(root);\n",
       "      } else if (document.readyState == \"complete\") {\n",
       "        attempts++;\n",
       "        if (attempts > 100) {\n",
       "          clearInterval(timer);\n",
       "          console.log(\"Bokeh: ERROR: Unable to run BokehJS code because BokehJS library is missing\");\n",
       "        }\n",
       "      }\n",
       "    }, 10, root)\n",
       "  }\n",
       "})(window);</script>"
      ],
      "text/plain": [
       ":Scatter   [TotalCoinsMined]   (TotalCoinSupply)"
      ]
     },
     "execution_count": 75,
     "metadata": {
      "application/vnd.holoviews_exec.v0+json": {
       "id": "1195"
      }
     },
     "output_type": "execute_result"
    }
   ],
   "source": [
    "# Plot the scatter with x=\"TotalCoinsMined\" and y=\"TotalCoinSupply\"\n",
    "tradable_df.hvplot.scatter(x=\"TotalCoinsMined\", \n",
    "                            y=\"TotalCoinSupply\", \n",
    "                            hover_cols=[\"CoinName\"])"
   ]
  },
  {
   "cell_type": "code",
   "execution_count": null,
   "metadata": {},
   "outputs": [],
   "source": []
  }
 ],
 "metadata": {
  "file_extension": ".py",
  "kernelspec": {
   "display_name": "Python [conda env:pyvizenv] *",
   "language": "python",
   "name": "conda-env-pyvizenv-py"
  },
  "language_info": {
   "codemirror_mode": {
    "name": "ipython",
    "version": 3
   },
   "file_extension": ".py",
   "mimetype": "text/x-python",
   "name": "python",
   "nbconvert_exporter": "python",
   "pygments_lexer": "ipython3",
   "version": "3.8.2"
  },
  "mimetype": "text/x-python",
  "name": "python",
  "npconvert_exporter": "python",
  "pygments_lexer": "ipython3",
  "version": 3
 },
 "nbformat": 4,
 "nbformat_minor": 4
}
